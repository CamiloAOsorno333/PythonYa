{
 "cells": [
  {
   "cell_type": "markdown",
   "id": "9499b0bc-14f7-4962-bc08-5cb25283c7a2",
   "metadata": {},
   "source": [
    "# REGEX (Re Regular Expression)"
   ]
  },
  {
   "cell_type": "markdown",
   "id": "dea99308-7b14-4b49-aeca-59073011f493",
   "metadata": {},
   "source": [
    "## Introducción a las Expresiones Regulares \n",
    "Son patrones que sirver para encontrar una cadena de texto en una texto determinado"
   ]
  },
  {
   "cell_type": "code",
   "execution_count": 69,
   "id": "465aecf7-6110-42e7-b757-c49c02c2f191",
   "metadata": {},
   "outputs": [],
   "source": [
    "import re\n",
    "import pandas as pd"
   ]
  },
  {
   "cell_type": "code",
   "execution_count": 1,
   "id": "9cc50812-b3fe-431a-b8a7-12af5c6eb5db",
   "metadata": {},
   "outputs": [],
   "source": [
    "Texto='''Juan Diego Gomez 3213213 rojo azul verde juan@mail.com \n",
    "Juan Camilo Perez 4341234 azul azul verde camilo@mail.com\n",
    "Ana Maria Avila 233123123 verde verde verde ana@mail.com'''"
   ]
  },
  {
   "cell_type": "code",
   "execution_count": 3,
   "id": "25c214ca-2e42-46ee-8bbc-c787e7e904b5",
   "metadata": {},
   "outputs": [
    {
     "data": {
      "text/plain": [
       "<re.Match object; span=(30, 34), match='azul'>"
      ]
     },
     "execution_count": 3,
     "metadata": {},
     "output_type": "execute_result"
    }
   ],
   "source": [
    "re.search('azul',Texto)"
   ]
  },
  {
   "cell_type": "code",
   "execution_count": 5,
   "id": "6cb33041-0147-472b-8d78-45819ecd5722",
   "metadata": {},
   "outputs": [
    {
     "data": {
      "text/plain": [
       "<re.Match object; span=(35, 40), match='verde'>"
      ]
     },
     "execution_count": 5,
     "metadata": {},
     "output_type": "execute_result"
    }
   ],
   "source": [
    "re.search('verde',Texto)"
   ]
  },
  {
   "cell_type": "code",
   "execution_count": 6,
   "id": "ac27cb5f-a044-476e-8178-be9a63794337",
   "metadata": {},
   "outputs": [
    {
     "name": "stdout",
     "output_type": "stream",
     "text": [
      "No se encontro la palabra\n"
     ]
    }
   ],
   "source": [
    "if re.search('morado',Texto):\n",
    "    print('Palabra encontrada')\n",
    "else:\n",
    "    print('No se encontro la palabra')"
   ]
  },
  {
   "cell_type": "code",
   "execution_count": 7,
   "id": "ac002ab3-c368-4f4b-9f8d-3d7a291627ba",
   "metadata": {},
   "outputs": [
    {
     "name": "stdout",
     "output_type": "stream",
     "text": [
      "Palabra encontrada\n"
     ]
    }
   ],
   "source": [
    "if re.search('azul',Texto):\n",
    "    print('Palabra encontrada')\n",
    "else:\n",
    "    print('No se encontro la palabra')"
   ]
  },
  {
   "cell_type": "code",
   "execution_count": 8,
   "id": "4ebb430e-c470-48c4-9514-399d5e9d315d",
   "metadata": {},
   "outputs": [
    {
     "data": {
      "text/plain": [
       "['azul', 'azul', 'azul']"
      ]
     },
     "execution_count": 8,
     "metadata": {},
     "output_type": "execute_result"
    }
   ],
   "source": [
    "re.findall('azul',Texto)  ## busca todas las palabras contenidas en el texto"
   ]
  },
  {
   "cell_type": "code",
   "execution_count": 9,
   "id": "ed6264ed-878e-43c4-8524-a29a8dc66a03",
   "metadata": {},
   "outputs": [
    {
     "data": {
      "text/plain": [
       "['Juan', 'Juan']"
      ]
     },
     "execution_count": 9,
     "metadata": {},
     "output_type": "execute_result"
    }
   ],
   "source": [
    "re.findall('Juan', Texto)"
   ]
  },
  {
   "cell_type": "code",
   "execution_count": 10,
   "id": "1556a7e5-4e0d-4fdd-ac34-c72a888e13fc",
   "metadata": {},
   "outputs": [
    {
     "data": {
      "text/plain": [
       "['Juan', 'juan', 'Juan']"
      ]
     },
     "execution_count": 10,
     "metadata": {},
     "output_type": "execute_result"
    }
   ],
   "source": [
    "re.findall('Juan', Texto, re.I) ## minusculas y mayusculas, conocido como flap o bandera"
   ]
  },
  {
   "cell_type": "markdown",
   "id": "a0ace334-47fa-4ea2-beb7-ffa792bd2e1e",
   "metadata": {},
   "source": [
    "## Limites\n",
    "Nos permiten identificar las caracteristicas de un texto, en cuanto a limites\n",
    "\n",
    "\n",
    "\\b - Limite de Palabra\n",
    "\n",
    "\\B - No es un limite de palabra\n",
    "\n",
    "^  - Inicio de una cadena de texto\n",
    "\n",
    "$ -  Final de una cadena de texto"
   ]
  },
  {
   "cell_type": "code",
   "execution_count": 11,
   "id": "2eb0ee7b-4dd3-4020-be33-6990202ef0d5",
   "metadata": {},
   "outputs": [
    {
     "data": {
      "text/plain": [
       "['Juan']"
      ]
     },
     "execution_count": 11,
     "metadata": {},
     "output_type": "execute_result"
    }
   ],
   "source": [
    "re.findall('^Juan', Texto)  ## python no reconoce los saltos de linea"
   ]
  },
  {
   "cell_type": "code",
   "execution_count": 12,
   "id": "b0a016e8-15bc-4416-a44f-eabb7d1dd388",
   "metadata": {},
   "outputs": [
    {
     "data": {
      "text/plain": [
       "['Juan', 'Juan']"
      ]
     },
     "execution_count": 12,
     "metadata": {},
     "output_type": "execute_result"
    }
   ],
   "source": [
    "re.findall('^Juan', Texto,re.M) ## Busca en cada linea "
   ]
  },
  {
   "cell_type": "code",
   "execution_count": 13,
   "id": "1e555295-fa8d-4504-8335-74abd8d155e8",
   "metadata": {},
   "outputs": [
    {
     "data": {
      "text/plain": [
       "['com']"
      ]
     },
     "execution_count": 13,
     "metadata": {},
     "output_type": "execute_result"
    }
   ],
   "source": [
    "re.findall('com$', Texto)"
   ]
  },
  {
   "cell_type": "code",
   "execution_count": 14,
   "id": "68531e0b-4b24-4d01-94cc-5b4988c15a5d",
   "metadata": {},
   "outputs": [
    {
     "data": {
      "text/plain": [
       "['com', 'com']"
      ]
     },
     "execution_count": 14,
     "metadata": {},
     "output_type": "execute_result"
    }
   ],
   "source": [
    "re.findall('com$', Texto, re.M)"
   ]
  },
  {
   "cell_type": "code",
   "execution_count": 15,
   "id": "d7a742bf-5503-4dea-a001-444deb6e68e9",
   "metadata": {},
   "outputs": [
    {
     "data": {
      "text/plain": [
       "['3', '3', '3', '3', '3', '3', '3', '3', '3']"
      ]
     },
     "execution_count": 15,
     "metadata": {},
     "output_type": "execute_result"
    }
   ],
   "source": [
    "re.findall('3',Texto)"
   ]
  },
  {
   "cell_type": "code",
   "execution_count": 16,
   "id": "1feb30b2-06e0-494b-b5e2-0183978417eb",
   "metadata": {},
   "outputs": [
    {
     "data": {
      "text/plain": [
       "[]"
      ]
     },
     "execution_count": 16,
     "metadata": {},
     "output_type": "execute_result"
    }
   ],
   "source": [
    "re.findall('\\b3',Texto)"
   ]
  },
  {
   "cell_type": "code",
   "execution_count": 17,
   "id": "830d26d2-9364-4c20-9b40-6c205cfd6103",
   "metadata": {},
   "outputs": [
    {
     "data": {
      "text/plain": [
       "['3']"
      ]
     },
     "execution_count": 17,
     "metadata": {},
     "output_type": "execute_result"
    }
   ],
   "source": [
    "re.findall(r'\\b3',Texto)"
   ]
  },
  {
   "cell_type": "code",
   "execution_count": 18,
   "id": "04fdef25-3b80-4a94-bef5-ad52ecf7a496",
   "metadata": {},
   "outputs": [
    {
     "data": {
      "text/plain": [
       "['3', '3']"
      ]
     },
     "execution_count": 18,
     "metadata": {},
     "output_type": "execute_result"
    }
   ],
   "source": [
    "re.findall(r'3\\b',Texto)"
   ]
  },
  {
   "cell_type": "markdown",
   "id": "b66e44c2-0754-47e1-bba0-783c777e99a8",
   "metadata": {},
   "source": [
    "## Coincidencias Basicas\n",
    "\n",
    ". - Cualquier caracter, excepto nueva línea\n",
    "\n",
    "\\d - Cualquier digitos (0-9)\n",
    "\n",
    "\\D - No es un digito de (0-9)\n",
    "\n",
    "\\w - Caracter de plabra (a-z, A-Z, 0-9, _)\n",
    "\n",
    "\\W - No es un caracter de palabra\n",
    "\n",
    "\\s - Espacios de cualquier tipo(espacio, tab, nueva linea)\n",
    "\n",
    "\\S - No es un espacio, tabulador o nueva línea "
   ]
  },
  {
   "cell_type": "markdown",
   "id": "9a650c3f-4dbc-442c-9ddd-9a7efdf15ba1",
   "metadata": {},
   "source": [
    "## Cuantificadores\n",
    "\n",
    "* - 0 o Más\n",
    " \n",
    "+ - 1 o Más\n",
    "\n",
    "? - 0 o Más\n",
    "\n",
    "{3}- Número Exacto\n",
    "\n",
    "{3,4} - Rango de Números (Minimo, Maximo)"
   ]
  },
  {
   "cell_type": "code",
   "execution_count": 20,
   "id": "3a57bcad-5539-4f93-a6ae-e1019cacc74b",
   "metadata": {},
   "outputs": [],
   "source": [
    "Texto2= '''Beto M1235 M\n",
    "Ana U1246 S \n",
    "Jaime M432 S\n",
    "Maria U324 M'''"
   ]
  },
  {
   "cell_type": "code",
   "execution_count": 21,
   "id": "7759dd8d-7eb6-4e9b-a71a-09df9e4ae0c2",
   "metadata": {},
   "outputs": [
    {
     "data": {
      "text/plain": [
       "['B',\n",
       " 'e',\n",
       " 't',\n",
       " 'o',\n",
       " 'M',\n",
       " '1',\n",
       " '2',\n",
       " '3',\n",
       " '5',\n",
       " 'M',\n",
       " 'A',\n",
       " 'n',\n",
       " 'a',\n",
       " 'U',\n",
       " '1',\n",
       " '2',\n",
       " '4',\n",
       " '6',\n",
       " 'S',\n",
       " 'J',\n",
       " 'a',\n",
       " 'i',\n",
       " 'm',\n",
       " 'e',\n",
       " 'M',\n",
       " '4',\n",
       " '3',\n",
       " '2',\n",
       " 'S',\n",
       " 'M',\n",
       " 'a',\n",
       " 'r',\n",
       " 'i',\n",
       " 'a',\n",
       " 'U',\n",
       " '3',\n",
       " '2',\n",
       " '4',\n",
       " 'M']"
      ]
     },
     "execution_count": 21,
     "metadata": {},
     "output_type": "execute_result"
    }
   ],
   "source": [
    "re.findall(r'\\w',Texto2) ##Busco todas las letras"
   ]
  },
  {
   "cell_type": "code",
   "execution_count": 22,
   "id": "fcd4ebe2-b9ee-482f-8ad9-88176c280e10",
   "metadata": {},
   "outputs": [
    {
     "data": {
      "text/plain": [
       "['Beto',\n",
       " 'M1235',\n",
       " 'M',\n",
       " 'Ana',\n",
       " 'U1246',\n",
       " 'S',\n",
       " 'Jaime',\n",
       " 'M432',\n",
       " 'S',\n",
       " 'Maria',\n",
       " 'U324',\n",
       " 'M']"
      ]
     },
     "execution_count": 22,
     "metadata": {},
     "output_type": "execute_result"
    }
   ],
   "source": [
    "re.findall(r'\\w+',Texto2) ##Busco todas las palabras pues suma todos caracteres que siguen"
   ]
  },
  {
   "cell_type": "code",
   "execution_count": 23,
   "id": "afd9f531-a4ba-4fa8-bda6-f66e6f62b5c2",
   "metadata": {},
   "outputs": [
    {
     "data": {
      "text/plain": [
       "['M1235', 'M432']"
      ]
     },
     "execution_count": 23,
     "metadata": {},
     "output_type": "execute_result"
    }
   ],
   "source": [
    "re.findall(r'M\\d+',Texto2) ##Busco todas lo que comienza por M mas un digito"
   ]
  },
  {
   "cell_type": "code",
   "execution_count": 24,
   "id": "9f17f213-168f-4604-b188-007e5ba3277a",
   "metadata": {},
   "outputs": [
    {
     "data": {
      "text/plain": [
       "['M123', 'M432']"
      ]
     },
     "execution_count": 24,
     "metadata": {},
     "output_type": "execute_result"
    }
   ],
   "source": [
    "re.findall(r'M\\d{3}',Texto2)#Busco todas lo que comienza por M mas 3 digitos al final"
   ]
  },
  {
   "cell_type": "code",
   "execution_count": 25,
   "id": "6c9efd3c-7a66-48f3-9161-cbf7d7da2d25",
   "metadata": {},
   "outputs": [
    {
     "data": {
      "text/plain": [
       "['M1235']"
      ]
     },
     "execution_count": 25,
     "metadata": {},
     "output_type": "execute_result"
    }
   ],
   "source": [
    "re.findall(r'M\\d{4}',Texto2)#Busco todas lo que comienza por M mas 4 digitos al final"
   ]
  },
  {
   "cell_type": "code",
   "execution_count": 28,
   "id": "4a27550c-9390-46d7-8ca7-e3b25a486471",
   "metadata": {},
   "outputs": [
    {
     "data": {
      "text/plain": [
       "['juan@mail.com', 'camilo@mail.com', 'ana@mail.com']"
      ]
     },
     "execution_count": 28,
     "metadata": {},
     "output_type": "execute_result"
    }
   ],
   "source": [
    "re.findall(r'\\w+@mail.com',Texto)"
   ]
  },
  {
   "cell_type": "markdown",
   "id": "dfb9c5f8-c1ff-4d93-9a90-61aa346e3171",
   "metadata": {},
   "source": [
    "## Conjunto de Caracteres\n",
    "\n",
    "[] - Caracteres dentro de los brackets\n",
    "\n",
    "[^] - Caracteres que no estan dentro de los brackets"
   ]
  },
  {
   "cell_type": "markdown",
   "id": "a1919964-283b-43fc-bf35-41870b926a7e",
   "metadata": {},
   "source": [
    "## Grupos \n",
    "\n",
    "() - Grupo  Buscan patrones pero por bloques\n",
    "\n",
    "| - Uno u oto"
   ]
  },
  {
   "cell_type": "code",
   "execution_count": 31,
   "id": "2993982a-5590-4ec5-8e30-7448c7cf31a9",
   "metadata": {},
   "outputs": [],
   "source": [
    "Texto3='''ruta12: http://pagina.com\n",
    "ruta15:http://ejemplo.com \n",
    "ruta22:http://www.pagina.com\n",
    "ruta38:https://www.ejemplo.com'''"
   ]
  },
  {
   "cell_type": "code",
   "execution_count": 34,
   "id": "15059fa1-346d-4ea7-8ff6-9725609ff526",
   "metadata": {},
   "outputs": [
    {
     "data": {
      "text/plain": [
       "['ruta12', 'ruta22']"
      ]
     },
     "execution_count": 34,
     "metadata": {},
     "output_type": "execute_result"
    }
   ],
   "source": [
    "re.findall(r'ruta[1-3]{2}',Texto3)"
   ]
  },
  {
   "cell_type": "code",
   "execution_count": 35,
   "id": "dc4071be-447b-45ce-8729-dbe19077c9de",
   "metadata": {},
   "outputs": [
    {
     "data": {
      "text/plain": [
       "['ruta22', 'ruta38']"
      ]
     },
     "execution_count": 35,
     "metadata": {},
     "output_type": "execute_result"
    }
   ],
   "source": [
    "re.findall(r'ruta[2-9]{2}',Texto3)"
   ]
  },
  {
   "cell_type": "code",
   "execution_count": 36,
   "id": "b400cd7d-40c3-480f-9148-d244becc28ad",
   "metadata": {},
   "outputs": [
    {
     "data": {
      "text/plain": [
       "['ruta22', 'ruta38']"
      ]
     },
     "execution_count": 36,
     "metadata": {},
     "output_type": "execute_result"
    }
   ],
   "source": [
    "re.findall(r'ruta[2-9]+',Texto3)"
   ]
  },
  {
   "cell_type": "code",
   "execution_count": 38,
   "id": "3d0cab43-9276-4403-8a35-d150cf6e8281",
   "metadata": {},
   "outputs": [
    {
     "data": {
      "text/plain": [
       "['https://']"
      ]
     },
     "execution_count": 38,
     "metadata": {},
     "output_type": "execute_result"
    }
   ],
   "source": [
    "re.findall(r'(https://)',Texto3)"
   ]
  },
  {
   "cell_type": "code",
   "execution_count": 40,
   "id": "c09e4073-baa5-4c76-a8b9-2aea8d523005",
   "metadata": {},
   "outputs": [
    {
     "data": {
      "text/plain": [
       "['http://', 'http://', 'http://', 'https://']"
      ]
     },
     "execution_count": 40,
     "metadata": {},
     "output_type": "execute_result"
    }
   ],
   "source": [
    "re.findall(r'(https://|http://)',Texto3)"
   ]
  },
  {
   "cell_type": "code",
   "execution_count": 41,
   "id": "da0c0c45-1254-4aa3-bb69-c994a9ac2ce1",
   "metadata": {},
   "outputs": [
    {
     "data": {
      "text/plain": [
       "[('http://', 'www'), ('https://', 'www')]"
      ]
     },
     "execution_count": 41,
     "metadata": {},
     "output_type": "execute_result"
    }
   ],
   "source": [
    "re.findall(r'(https://|http://)(w{3})',Texto3)"
   ]
  },
  {
   "cell_type": "code",
   "execution_count": 46,
   "id": "5bf54c8b-cd8a-4be1-914b-6b57cf0b8182",
   "metadata": {},
   "outputs": [],
   "source": [
    "paginas=re.findall(r'(https://|http://)?(w{3}.?)?(\\w+.com)',Texto3)  ## el signo de pregunta significa que es opcional"
   ]
  },
  {
   "cell_type": "code",
   "execution_count": 50,
   "id": "5e0356a0-25a3-4921-a959-f6d545deff47",
   "metadata": {},
   "outputs": [
    {
     "name": "stdout",
     "output_type": "stream",
     "text": [
      "['http://pagina.com', 'http://ejemplo.com', 'http://www.pagina.com', 'https://www.ejemplo.com']\n"
     ]
    }
   ],
   "source": [
    "paginas=[''.join(pagina) for pagina in paginas]\n",
    "print(paginas)"
   ]
  },
  {
   "cell_type": "code",
   "execution_count": 52,
   "id": "bf82e9ad-afb8-49cf-b9e9-1ba25c0c7bf6",
   "metadata": {},
   "outputs": [
    {
     "name": "stdout",
     "output_type": "stream",
     "text": [
      "[('http://', '', 'pagina.com'), ('http://', '', 'ejemplo.com'), ('http://', 'www.', 'pagina.com'), ('https://', 'www.', 'ejemplo.com')]\n"
     ]
    }
   ],
   "source": [
    "paginas=re.findall(r'(https?://)(w{3}.?)?(\\w+.com)',Texto3)  ## el signo de pregunta significa que es opcional\n",
    "print(paginas)"
   ]
  },
  {
   "cell_type": "code",
   "execution_count": null,
   "id": "12f0c86f-aa9f-4047-8cd2-74a632b77fc3",
   "metadata": {},
   "outputs": [],
   "source": []
  },
  {
   "cell_type": "markdown",
   "id": "b6c831bd-279b-492e-a1c6-85881ca66efc",
   "metadata": {},
   "source": [
    "## Importar un archivo de Texto "
   ]
  },
  {
   "cell_type": "code",
   "execution_count": 64,
   "id": "86f6540d-05b1-4dd7-9042-2a28712b4437",
   "metadata": {},
   "outputs": [],
   "source": [
    "doc=open('regex.txt', 'r' )\n",
    "texto=doc.read()\n",
    "doc.close()"
   ]
  },
  {
   "cell_type": "code",
   "execution_count": 65,
   "id": "eccef59d-a711-4552-95f8-831ac3d29a0e",
   "metadata": {},
   "outputs": [
    {
     "name": "stdout",
     "output_type": "stream",
     "text": [
      "Un nuevo rostro en el poder sirio\n",
      "\n",
      "Abu Mohammed Al-Julani, anteriormente asociado con el extremismo yihadista de Al Qaeda, ha evolucionado hacia un lÃ­der con\n",
      "creciente reconocimiento internacional. Al frente de Hayat Tahrir al Sham (HTS) o EjÃ©rcito para la LiberaciÃ³n del Levante,\n",
      " Al-Julani se ha posicionado como el principal lÃ­der del grupo armado de oposiciÃ³n en Siria. Transformando su imagen, ha \n",
      " participado en entrevistas con destacados medios internacionales, consolidÃ¡ndose como una figura central en el movimiento \n",
      " rebelde que desafÃ­a al rÃ©gimen de Bachar el Assad.\n"
     ]
    }
   ],
   "source": [
    "print(texto)"
   ]
  },
  {
   "cell_type": "code",
   "execution_count": 56,
   "id": "e7bf0ae4-0e85-41f9-85d6-fa35d110d236",
   "metadata": {},
   "outputs": [
    {
     "data": {
      "text/plain": [
       "['Al-Julani', 'Al-Julani']"
      ]
     },
     "execution_count": 56,
     "metadata": {},
     "output_type": "execute_result"
    }
   ],
   "source": [
    "re.findall(r'Al-Julani',texto)"
   ]
  },
  {
   "cell_type": "code",
   "execution_count": 57,
   "id": "5b3a061a-0997-49f7-80e4-5f2b927a0d22",
   "metadata": {},
   "outputs": [
    {
     "data": {
      "text/plain": [
       "['Sham']"
      ]
     },
     "execution_count": 57,
     "metadata": {},
     "output_type": "execute_result"
    }
   ],
   "source": [
    "re.findall(r'Sham',texto)"
   ]
  },
  {
   "cell_type": "code",
   "execution_count": 67,
   "id": "1b3d3856-7d81-4236-ab70-3da4390f9b3f",
   "metadata": {},
   "outputs": [
    {
     "data": {
      "text/plain": [
       "['Mohammed']"
      ]
     },
     "execution_count": 67,
     "metadata": {},
     "output_type": "execute_result"
    }
   ],
   "source": [
    "re.findall(r'Mohammed',texto,re.I)"
   ]
  },
  {
   "cell_type": "code",
   "execution_count": null,
   "id": "67aed60d-7210-4bc3-aa8f-a9ef30a819c0",
   "metadata": {},
   "outputs": [],
   "source": []
  },
  {
   "cell_type": "markdown",
   "id": "c38ebb13-1bed-4192-8821-f44318dac065",
   "metadata": {},
   "source": [
    "## Regex y Pandas, Filtrado de datos"
   ]
  },
  {
   "cell_type": "code",
   "execution_count": 71,
   "id": "248e30c3-6fbf-4efe-a029-1a1e89efcc1d",
   "metadata": {},
   "outputs": [
    {
     "data": {
      "text/html": [
       "<div>\n",
       "<style scoped>\n",
       "    .dataframe tbody tr th:only-of-type {\n",
       "        vertical-align: middle;\n",
       "    }\n",
       "\n",
       "    .dataframe tbody tr th {\n",
       "        vertical-align: top;\n",
       "    }\n",
       "\n",
       "    .dataframe thead th {\n",
       "        text-align: right;\n",
       "    }\n",
       "</style>\n",
       "<table border=\"1\" class=\"dataframe\">\n",
       "  <thead>\n",
       "    <tr style=\"text-align: right;\">\n",
       "      <th></th>\n",
       "      <th>nombre</th>\n",
       "      <th>Abb</th>\n",
       "      <th>Cdd</th>\n",
       "    </tr>\n",
       "    <tr>\n",
       "      <th>codigo</th>\n",
       "      <th></th>\n",
       "      <th></th>\n",
       "      <th></th>\n",
       "    </tr>\n",
       "  </thead>\n",
       "  <tbody>\n",
       "    <tr>\n",
       "      <th>co_123</th>\n",
       "      <td>Pepito Gonzalez</td>\n",
       "      <td>11</td>\n",
       "      <td>12</td>\n",
       "    </tr>\n",
       "    <tr>\n",
       "      <th>pe_312</th>\n",
       "      <td>Maria Vasquez</td>\n",
       "      <td>34</td>\n",
       "      <td>54</td>\n",
       "    </tr>\n",
       "    <tr>\n",
       "      <th>mx_546</th>\n",
       "      <td>Rosa Gomez</td>\n",
       "      <td>12</td>\n",
       "      <td>67</td>\n",
       "    </tr>\n",
       "    <tr>\n",
       "      <th>mx_765</th>\n",
       "      <td>Pepito Chavez</td>\n",
       "      <td>43</td>\n",
       "      <td>32</td>\n",
       "    </tr>\n",
       "  </tbody>\n",
       "</table>\n",
       "</div>"
      ],
      "text/plain": [
       "                 nombre  Abb  Cdd\n",
       "codigo                           \n",
       "co_123  Pepito Gonzalez   11   12\n",
       "pe_312    Maria Vasquez   34   54\n",
       "mx_546       Rosa Gomez   12   67\n",
       "mx_765    Pepito Chavez   43   32"
      ]
     },
     "metadata": {},
     "output_type": "display_data"
    }
   ],
   "source": [
    "dfreg=pd.DataFrame({\n",
    "    'nombre':['Pepito Gonzalez','Maria Vasquez','Rosa Gomez','Pepito Chavez'],\n",
    "    'codigo':['co_123','pe_312','mx_546','mx_765'],\n",
    "    'Abb':[11,34,12,43],\n",
    "    'Cdd':[12,54,67,32],\n",
    "   })\n",
    "dfreg=dfreg.set_index('codigo')\n",
    "display(dfreg)"
   ]
  },
  {
   "cell_type": "code",
   "execution_count": 72,
   "id": "72ecef9d-8003-4f71-9eda-0ac54981b50f",
   "metadata": {},
   "outputs": [
    {
     "data": {
      "text/html": [
       "<div>\n",
       "<style scoped>\n",
       "    .dataframe tbody tr th:only-of-type {\n",
       "        vertical-align: middle;\n",
       "    }\n",
       "\n",
       "    .dataframe tbody tr th {\n",
       "        vertical-align: top;\n",
       "    }\n",
       "\n",
       "    .dataframe thead th {\n",
       "        text-align: right;\n",
       "    }\n",
       "</style>\n",
       "<table border=\"1\" class=\"dataframe\">\n",
       "  <thead>\n",
       "    <tr style=\"text-align: right;\">\n",
       "      <th></th>\n",
       "      <th>Abb</th>\n",
       "      <th>Cdd</th>\n",
       "    </tr>\n",
       "    <tr>\n",
       "      <th>codigo</th>\n",
       "      <th></th>\n",
       "      <th></th>\n",
       "    </tr>\n",
       "  </thead>\n",
       "  <tbody>\n",
       "    <tr>\n",
       "      <th>co_123</th>\n",
       "      <td>11</td>\n",
       "      <td>12</td>\n",
       "    </tr>\n",
       "    <tr>\n",
       "      <th>pe_312</th>\n",
       "      <td>34</td>\n",
       "      <td>54</td>\n",
       "    </tr>\n",
       "    <tr>\n",
       "      <th>mx_546</th>\n",
       "      <td>12</td>\n",
       "      <td>67</td>\n",
       "    </tr>\n",
       "    <tr>\n",
       "      <th>mx_765</th>\n",
       "      <td>43</td>\n",
       "      <td>32</td>\n",
       "    </tr>\n",
       "  </tbody>\n",
       "</table>\n",
       "</div>"
      ],
      "text/plain": [
       "        Abb  Cdd\n",
       "codigo          \n",
       "co_123   11   12\n",
       "pe_312   34   54\n",
       "mx_546   12   67\n",
       "mx_765   43   32"
      ]
     },
     "execution_count": 72,
     "metadata": {},
     "output_type": "execute_result"
    }
   ],
   "source": [
    "dfreg.filter(items=['Abb','Cdd']) ## filter comprueba que ese nommbre exista"
   ]
  },
  {
   "cell_type": "code",
   "execution_count": 73,
   "id": "e6e7a25c-3864-47ce-9fb8-1f80465346e7",
   "metadata": {},
   "outputs": [
    {
     "data": {
      "text/html": [
       "<div>\n",
       "<style scoped>\n",
       "    .dataframe tbody tr th:only-of-type {\n",
       "        vertical-align: middle;\n",
       "    }\n",
       "\n",
       "    .dataframe tbody tr th {\n",
       "        vertical-align: top;\n",
       "    }\n",
       "\n",
       "    .dataframe thead th {\n",
       "        text-align: right;\n",
       "    }\n",
       "</style>\n",
       "<table border=\"1\" class=\"dataframe\">\n",
       "  <thead>\n",
       "    <tr style=\"text-align: right;\">\n",
       "      <th></th>\n",
       "    </tr>\n",
       "    <tr>\n",
       "      <th>codigo</th>\n",
       "    </tr>\n",
       "  </thead>\n",
       "  <tbody>\n",
       "    <tr>\n",
       "      <th>co_123</th>\n",
       "    </tr>\n",
       "    <tr>\n",
       "      <th>pe_312</th>\n",
       "    </tr>\n",
       "    <tr>\n",
       "      <th>mx_546</th>\n",
       "    </tr>\n",
       "    <tr>\n",
       "      <th>mx_765</th>\n",
       "    </tr>\n",
       "  </tbody>\n",
       "</table>\n",
       "</div>"
      ],
      "text/plain": [
       "Empty DataFrame\n",
       "Columns: []\n",
       "Index: [co_123, pe_312, mx_546, mx_765]"
      ]
     },
     "execution_count": 73,
     "metadata": {},
     "output_type": "execute_result"
    }
   ],
   "source": [
    "dfreg.filter(like='pe')"
   ]
  },
  {
   "cell_type": "code",
   "execution_count": 74,
   "id": "c93717a4-e176-4c74-94e4-1888014bf8c2",
   "metadata": {},
   "outputs": [
    {
     "data": {
      "text/html": [
       "<div>\n",
       "<style scoped>\n",
       "    .dataframe tbody tr th:only-of-type {\n",
       "        vertical-align: middle;\n",
       "    }\n",
       "\n",
       "    .dataframe tbody tr th {\n",
       "        vertical-align: top;\n",
       "    }\n",
       "\n",
       "    .dataframe thead th {\n",
       "        text-align: right;\n",
       "    }\n",
       "</style>\n",
       "<table border=\"1\" class=\"dataframe\">\n",
       "  <thead>\n",
       "    <tr style=\"text-align: right;\">\n",
       "      <th></th>\n",
       "    </tr>\n",
       "    <tr>\n",
       "      <th>codigo</th>\n",
       "    </tr>\n",
       "  </thead>\n",
       "  <tbody>\n",
       "    <tr>\n",
       "      <th>co_123</th>\n",
       "    </tr>\n",
       "    <tr>\n",
       "      <th>pe_312</th>\n",
       "    </tr>\n",
       "    <tr>\n",
       "      <th>mx_546</th>\n",
       "    </tr>\n",
       "    <tr>\n",
       "      <th>mx_765</th>\n",
       "    </tr>\n",
       "  </tbody>\n",
       "</table>\n",
       "</div>"
      ],
      "text/plain": [
       "Empty DataFrame\n",
       "Columns: []\n",
       "Index: [co_123, pe_312, mx_546, mx_765]"
      ]
     },
     "execution_count": 74,
     "metadata": {},
     "output_type": "execute_result"
    }
   ],
   "source": [
    "dfreg.filter(like='12')"
   ]
  },
  {
   "cell_type": "code",
   "execution_count": 75,
   "id": "3c0dc14c-4f69-4949-bfb6-01956b7c3029",
   "metadata": {},
   "outputs": [
    {
     "data": {
      "text/html": [
       "<div>\n",
       "<style scoped>\n",
       "    .dataframe tbody tr th:only-of-type {\n",
       "        vertical-align: middle;\n",
       "    }\n",
       "\n",
       "    .dataframe tbody tr th {\n",
       "        vertical-align: top;\n",
       "    }\n",
       "\n",
       "    .dataframe thead th {\n",
       "        text-align: right;\n",
       "    }\n",
       "</style>\n",
       "<table border=\"1\" class=\"dataframe\">\n",
       "  <thead>\n",
       "    <tr style=\"text-align: right;\">\n",
       "      <th></th>\n",
       "    </tr>\n",
       "    <tr>\n",
       "      <th>codigo</th>\n",
       "    </tr>\n",
       "  </thead>\n",
       "  <tbody>\n",
       "    <tr>\n",
       "      <th>co_123</th>\n",
       "    </tr>\n",
       "    <tr>\n",
       "      <th>pe_312</th>\n",
       "    </tr>\n",
       "    <tr>\n",
       "      <th>mx_546</th>\n",
       "    </tr>\n",
       "    <tr>\n",
       "      <th>mx_765</th>\n",
       "    </tr>\n",
       "  </tbody>\n",
       "</table>\n",
       "</div>"
      ],
      "text/plain": [
       "Empty DataFrame\n",
       "Columns: []\n",
       "Index: [co_123, pe_312, mx_546, mx_765]"
      ]
     },
     "execution_count": 75,
     "metadata": {},
     "output_type": "execute_result"
    }
   ],
   "source": [
    "dfreg.filter(like='99') ## no aparece nada"
   ]
  },
  {
   "cell_type": "code",
   "execution_count": 76,
   "id": "18325f47-2394-49ac-a91a-a787e9acf2f2",
   "metadata": {},
   "outputs": [
    {
     "data": {
      "text/html": [
       "<div>\n",
       "<style scoped>\n",
       "    .dataframe tbody tr th:only-of-type {\n",
       "        vertical-align: middle;\n",
       "    }\n",
       "\n",
       "    .dataframe tbody tr th {\n",
       "        vertical-align: top;\n",
       "    }\n",
       "\n",
       "    .dataframe thead th {\n",
       "        text-align: right;\n",
       "    }\n",
       "</style>\n",
       "<table border=\"1\" class=\"dataframe\">\n",
       "  <thead>\n",
       "    <tr style=\"text-align: right;\">\n",
       "      <th></th>\n",
       "      <th>nombre</th>\n",
       "      <th>Abb</th>\n",
       "      <th>Cdd</th>\n",
       "    </tr>\n",
       "    <tr>\n",
       "      <th>codigo</th>\n",
       "      <th></th>\n",
       "      <th></th>\n",
       "      <th></th>\n",
       "    </tr>\n",
       "  </thead>\n",
       "  <tbody>\n",
       "  </tbody>\n",
       "</table>\n",
       "</div>"
      ],
      "text/plain": [
       "Empty DataFrame\n",
       "Columns: [nombre, Abb, Cdd]\n",
       "Index: []"
      ]
     },
     "execution_count": 76,
     "metadata": {},
     "output_type": "execute_result"
    }
   ],
   "source": [
    "dfreg.filter(like='99',axis=0)"
   ]
  },
  {
   "cell_type": "code",
   "execution_count": 77,
   "id": "00790b1d-9d08-42a9-9009-27744e756a2a",
   "metadata": {},
   "outputs": [
    {
     "data": {
      "text/html": [
       "<div>\n",
       "<style scoped>\n",
       "    .dataframe tbody tr th:only-of-type {\n",
       "        vertical-align: middle;\n",
       "    }\n",
       "\n",
       "    .dataframe tbody tr th {\n",
       "        vertical-align: top;\n",
       "    }\n",
       "\n",
       "    .dataframe thead th {\n",
       "        text-align: right;\n",
       "    }\n",
       "</style>\n",
       "<table border=\"1\" class=\"dataframe\">\n",
       "  <thead>\n",
       "    <tr style=\"text-align: right;\">\n",
       "      <th></th>\n",
       "      <th>nombre</th>\n",
       "      <th>Abb</th>\n",
       "      <th>Cdd</th>\n",
       "    </tr>\n",
       "    <tr>\n",
       "      <th>codigo</th>\n",
       "      <th></th>\n",
       "      <th></th>\n",
       "      <th></th>\n",
       "    </tr>\n",
       "  </thead>\n",
       "  <tbody>\n",
       "    <tr>\n",
       "      <th>co_123</th>\n",
       "      <td>Pepito Gonzalez</td>\n",
       "      <td>11</td>\n",
       "      <td>12</td>\n",
       "    </tr>\n",
       "    <tr>\n",
       "      <th>pe_312</th>\n",
       "      <td>Maria Vasquez</td>\n",
       "      <td>34</td>\n",
       "      <td>54</td>\n",
       "    </tr>\n",
       "  </tbody>\n",
       "</table>\n",
       "</div>"
      ],
      "text/plain": [
       "                 nombre  Abb  Cdd\n",
       "codigo                           \n",
       "co_123  Pepito Gonzalez   11   12\n",
       "pe_312    Maria Vasquez   34   54"
      ]
     },
     "execution_count": 77,
     "metadata": {},
     "output_type": "execute_result"
    }
   ],
   "source": [
    "dfreg.filter(like='12',axis=0) ##para filtrar verdaderamente"
   ]
  },
  {
   "cell_type": "code",
   "execution_count": 78,
   "id": "6c362fc2-31bf-49f6-a3fc-6a6154da04fc",
   "metadata": {},
   "outputs": [
    {
     "data": {
      "text/html": [
       "<div>\n",
       "<style scoped>\n",
       "    .dataframe tbody tr th:only-of-type {\n",
       "        vertical-align: middle;\n",
       "    }\n",
       "\n",
       "    .dataframe tbody tr th {\n",
       "        vertical-align: top;\n",
       "    }\n",
       "\n",
       "    .dataframe thead th {\n",
       "        text-align: right;\n",
       "    }\n",
       "</style>\n",
       "<table border=\"1\" class=\"dataframe\">\n",
       "  <thead>\n",
       "    <tr style=\"text-align: right;\">\n",
       "      <th></th>\n",
       "      <th>nombre</th>\n",
       "      <th>Abb</th>\n",
       "      <th>Cdd</th>\n",
       "    </tr>\n",
       "    <tr>\n",
       "      <th>codigo</th>\n",
       "      <th></th>\n",
       "      <th></th>\n",
       "      <th></th>\n",
       "    </tr>\n",
       "  </thead>\n",
       "  <tbody>\n",
       "    <tr>\n",
       "      <th>co_123</th>\n",
       "      <td>Pepito Gonzalez</td>\n",
       "      <td>11</td>\n",
       "      <td>12</td>\n",
       "    </tr>\n",
       "  </tbody>\n",
       "</table>\n",
       "</div>"
      ],
      "text/plain": [
       "                 nombre  Abb  Cdd\n",
       "codigo                           \n",
       "co_123  Pepito Gonzalez   11   12"
      ]
     },
     "execution_count": 78,
     "metadata": {},
     "output_type": "execute_result"
    }
   ],
   "source": [
    "dfreg.filter(regex='co',axis=0)"
   ]
  },
  {
   "cell_type": "code",
   "execution_count": 79,
   "id": "77b43fb1-4dc0-4190-861b-c51f78629ebe",
   "metadata": {},
   "outputs": [
    {
     "name": "stderr",
     "output_type": "stream",
     "text": [
      "<>:1: SyntaxWarning: invalid escape sequence '\\w'\n",
      "<>:1: SyntaxWarning: invalid escape sequence '\\w'\n",
      "C:\\Users\\Usuario\\AppData\\Local\\Temp\\ipykernel_21044\\1762484071.py:1: SyntaxWarning: invalid escape sequence '\\w'\n",
      "  dfreg.filter(regex='\\w{2}_[1-3]{3}',axis=0)\n"
     ]
    },
    {
     "data": {
      "text/html": [
       "<div>\n",
       "<style scoped>\n",
       "    .dataframe tbody tr th:only-of-type {\n",
       "        vertical-align: middle;\n",
       "    }\n",
       "\n",
       "    .dataframe tbody tr th {\n",
       "        vertical-align: top;\n",
       "    }\n",
       "\n",
       "    .dataframe thead th {\n",
       "        text-align: right;\n",
       "    }\n",
       "</style>\n",
       "<table border=\"1\" class=\"dataframe\">\n",
       "  <thead>\n",
       "    <tr style=\"text-align: right;\">\n",
       "      <th></th>\n",
       "      <th>nombre</th>\n",
       "      <th>Abb</th>\n",
       "      <th>Cdd</th>\n",
       "    </tr>\n",
       "    <tr>\n",
       "      <th>codigo</th>\n",
       "      <th></th>\n",
       "      <th></th>\n",
       "      <th></th>\n",
       "    </tr>\n",
       "  </thead>\n",
       "  <tbody>\n",
       "    <tr>\n",
       "      <th>co_123</th>\n",
       "      <td>Pepito Gonzalez</td>\n",
       "      <td>11</td>\n",
       "      <td>12</td>\n",
       "    </tr>\n",
       "    <tr>\n",
       "      <th>pe_312</th>\n",
       "      <td>Maria Vasquez</td>\n",
       "      <td>34</td>\n",
       "      <td>54</td>\n",
       "    </tr>\n",
       "  </tbody>\n",
       "</table>\n",
       "</div>"
      ],
      "text/plain": [
       "                 nombre  Abb  Cdd\n",
       "codigo                           \n",
       "co_123  Pepito Gonzalez   11   12\n",
       "pe_312    Maria Vasquez   34   54"
      ]
     },
     "execution_count": 79,
     "metadata": {},
     "output_type": "execute_result"
    }
   ],
   "source": [
    "dfreg.filter(regex='\\w{2}_[1-3]{3}',axis=0)"
   ]
  },
  {
   "cell_type": "code",
   "execution_count": 80,
   "id": "9a6abded-5ab3-4929-b833-c5502e61b22f",
   "metadata": {},
   "outputs": [
    {
     "name": "stderr",
     "output_type": "stream",
     "text": [
      "<>:1: SyntaxWarning: invalid escape sequence '\\w'\n",
      "<>:1: SyntaxWarning: invalid escape sequence '\\w'\n",
      "C:\\Users\\Usuario\\AppData\\Local\\Temp\\ipykernel_21044\\3995085557.py:1: SyntaxWarning: invalid escape sequence '\\w'\n",
      "  dfreg.filter(regex='\\w{2}_[4-9]{3}',axis=0)\n"
     ]
    },
    {
     "data": {
      "text/html": [
       "<div>\n",
       "<style scoped>\n",
       "    .dataframe tbody tr th:only-of-type {\n",
       "        vertical-align: middle;\n",
       "    }\n",
       "\n",
       "    .dataframe tbody tr th {\n",
       "        vertical-align: top;\n",
       "    }\n",
       "\n",
       "    .dataframe thead th {\n",
       "        text-align: right;\n",
       "    }\n",
       "</style>\n",
       "<table border=\"1\" class=\"dataframe\">\n",
       "  <thead>\n",
       "    <tr style=\"text-align: right;\">\n",
       "      <th></th>\n",
       "      <th>nombre</th>\n",
       "      <th>Abb</th>\n",
       "      <th>Cdd</th>\n",
       "    </tr>\n",
       "    <tr>\n",
       "      <th>codigo</th>\n",
       "      <th></th>\n",
       "      <th></th>\n",
       "      <th></th>\n",
       "    </tr>\n",
       "  </thead>\n",
       "  <tbody>\n",
       "    <tr>\n",
       "      <th>mx_546</th>\n",
       "      <td>Rosa Gomez</td>\n",
       "      <td>12</td>\n",
       "      <td>67</td>\n",
       "    </tr>\n",
       "    <tr>\n",
       "      <th>mx_765</th>\n",
       "      <td>Pepito Chavez</td>\n",
       "      <td>43</td>\n",
       "      <td>32</td>\n",
       "    </tr>\n",
       "  </tbody>\n",
       "</table>\n",
       "</div>"
      ],
      "text/plain": [
       "               nombre  Abb  Cdd\n",
       "codigo                         \n",
       "mx_546     Rosa Gomez   12   67\n",
       "mx_765  Pepito Chavez   43   32"
      ]
     },
     "execution_count": 80,
     "metadata": {},
     "output_type": "execute_result"
    }
   ],
   "source": [
    "dfreg.filter(regex='\\w{2}_[4-9]{3}',axis=0)"
   ]
  },
  {
   "cell_type": "code",
   "execution_count": null,
   "id": "bff0e08e-fa69-4e32-a011-0ff72ff09a61",
   "metadata": {},
   "outputs": [],
   "source": []
  }
 ],
 "metadata": {
  "kernelspec": {
   "display_name": "Python 3 (ipykernel)",
   "language": "python",
   "name": "python3"
  },
  "language_info": {
   "codemirror_mode": {
    "name": "ipython",
    "version": 3
   },
   "file_extension": ".py",
   "mimetype": "text/x-python",
   "name": "python",
   "nbconvert_exporter": "python",
   "pygments_lexer": "ipython3",
   "version": "3.13.0"
  }
 },
 "nbformat": 4,
 "nbformat_minor": 5
}
