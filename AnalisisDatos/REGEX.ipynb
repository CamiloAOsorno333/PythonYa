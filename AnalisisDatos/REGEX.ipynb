{
 "cells": [
  {
   "cell_type": "markdown",
   "id": "9499b0bc-14f7-4962-bc08-5cb25283c7a2",
   "metadata": {},
   "source": [
    "# REGEX (Re Regular Expression)"
   ]
  },
  {
   "cell_type": "markdown",
   "id": "dea99308-7b14-4b49-aeca-59073011f493",
   "metadata": {},
   "source": [
    "## Introducción a las Expresiones Regulares \n",
    "Son patrones que sirver para encontrar una cadena de texto en una texto determinado"
   ]
  },
  {
   "cell_type": "code",
   "execution_count": 57,
   "id": "465aecf7-6110-42e7-b757-c49c02c2f191",
   "metadata": {},
   "outputs": [],
   "source": [
    "import re\n",
    "import pandas as pd\n",
    "import numpy as np"
   ]
  },
  {
   "cell_type": "code",
   "execution_count": 1,
   "id": "9cc50812-b3fe-431a-b8a7-12af5c6eb5db",
   "metadata": {},
   "outputs": [],
   "source": [
    "Texto='''Juan Diego Gomez 3213213 rojo azul verde juan@mail.com \n",
    "Juan Camilo Perez 4341234 azul azul verde camilo@mail.com\n",
    "Ana Maria Avila 233123123 verde verde verde ana@mail.com'''"
   ]
  },
  {
   "cell_type": "code",
   "execution_count": 3,
   "id": "25c214ca-2e42-46ee-8bbc-c787e7e904b5",
   "metadata": {},
   "outputs": [
    {
     "data": {
      "text/plain": [
       "<re.Match object; span=(30, 34), match='azul'>"
      ]
     },
     "execution_count": 3,
     "metadata": {},
     "output_type": "execute_result"
    }
   ],
   "source": [
    "re.search('azul',Texto)"
   ]
  },
  {
   "cell_type": "code",
   "execution_count": 5,
   "id": "6cb33041-0147-472b-8d78-45819ecd5722",
   "metadata": {},
   "outputs": [
    {
     "data": {
      "text/plain": [
       "<re.Match object; span=(35, 40), match='verde'>"
      ]
     },
     "execution_count": 5,
     "metadata": {},
     "output_type": "execute_result"
    }
   ],
   "source": [
    "re.search('verde',Texto)"
   ]
  },
  {
   "cell_type": "code",
   "execution_count": 6,
   "id": "ac27cb5f-a044-476e-8178-be9a63794337",
   "metadata": {},
   "outputs": [
    {
     "name": "stdout",
     "output_type": "stream",
     "text": [
      "No se encontro la palabra\n"
     ]
    }
   ],
   "source": [
    "if re.search('morado',Texto):\n",
    "    print('Palabra encontrada')\n",
    "else:\n",
    "    print('No se encontro la palabra')"
   ]
  },
  {
   "cell_type": "code",
   "execution_count": 7,
   "id": "ac002ab3-c368-4f4b-9f8d-3d7a291627ba",
   "metadata": {},
   "outputs": [
    {
     "name": "stdout",
     "output_type": "stream",
     "text": [
      "Palabra encontrada\n"
     ]
    }
   ],
   "source": [
    "if re.search('azul',Texto):\n",
    "    print('Palabra encontrada')\n",
    "else:\n",
    "    print('No se encontro la palabra')"
   ]
  },
  {
   "cell_type": "code",
   "execution_count": 8,
   "id": "4ebb430e-c470-48c4-9514-399d5e9d315d",
   "metadata": {},
   "outputs": [
    {
     "data": {
      "text/plain": [
       "['azul', 'azul', 'azul']"
      ]
     },
     "execution_count": 8,
     "metadata": {},
     "output_type": "execute_result"
    }
   ],
   "source": [
    "re.findall('azul',Texto)  ## busca todas las palabras contenidas en el texto"
   ]
  },
  {
   "cell_type": "code",
   "execution_count": 9,
   "id": "ed6264ed-878e-43c4-8524-a29a8dc66a03",
   "metadata": {},
   "outputs": [
    {
     "data": {
      "text/plain": [
       "['Juan', 'Juan']"
      ]
     },
     "execution_count": 9,
     "metadata": {},
     "output_type": "execute_result"
    }
   ],
   "source": [
    "re.findall('Juan', Texto)"
   ]
  },
  {
   "cell_type": "code",
   "execution_count": 10,
   "id": "1556a7e5-4e0d-4fdd-ac34-c72a888e13fc",
   "metadata": {},
   "outputs": [
    {
     "data": {
      "text/plain": [
       "['Juan', 'juan', 'Juan']"
      ]
     },
     "execution_count": 10,
     "metadata": {},
     "output_type": "execute_result"
    }
   ],
   "source": [
    "re.findall('Juan', Texto, re.I) ## minusculas y mayusculas, conocido como flap o bandera"
   ]
  },
  {
   "cell_type": "markdown",
   "id": "a0ace334-47fa-4ea2-beb7-ffa792bd2e1e",
   "metadata": {},
   "source": [
    "## Limites\n",
    "Nos permiten identificar las caracteristicas de un texto, en cuanto a limites\n",
    "\n",
    "\n",
    "\\b - Limite de Palabra\n",
    "\n",
    "\\B - No es un limite de palabra\n",
    "\n",
    "^  - Inicio de una cadena de texto\n",
    "\n",
    "$ -  Final de una cadena de texto"
   ]
  },
  {
   "cell_type": "code",
   "execution_count": 11,
   "id": "2eb0ee7b-4dd3-4020-be33-6990202ef0d5",
   "metadata": {},
   "outputs": [
    {
     "data": {
      "text/plain": [
       "['Juan']"
      ]
     },
     "execution_count": 11,
     "metadata": {},
     "output_type": "execute_result"
    }
   ],
   "source": [
    "re.findall('^Juan', Texto)  ## python no reconoce los saltos de linea"
   ]
  },
  {
   "cell_type": "code",
   "execution_count": 12,
   "id": "b0a016e8-15bc-4416-a44f-eabb7d1dd388",
   "metadata": {},
   "outputs": [
    {
     "data": {
      "text/plain": [
       "['Juan', 'Juan']"
      ]
     },
     "execution_count": 12,
     "metadata": {},
     "output_type": "execute_result"
    }
   ],
   "source": [
    "re.findall('^Juan', Texto,re.M) ## Busca en cada linea "
   ]
  },
  {
   "cell_type": "code",
   "execution_count": 13,
   "id": "1e555295-fa8d-4504-8335-74abd8d155e8",
   "metadata": {},
   "outputs": [
    {
     "data": {
      "text/plain": [
       "['com']"
      ]
     },
     "execution_count": 13,
     "metadata": {},
     "output_type": "execute_result"
    }
   ],
   "source": [
    "re.findall('com$', Texto)"
   ]
  },
  {
   "cell_type": "code",
   "execution_count": 14,
   "id": "68531e0b-4b24-4d01-94cc-5b4988c15a5d",
   "metadata": {},
   "outputs": [
    {
     "data": {
      "text/plain": [
       "['com', 'com']"
      ]
     },
     "execution_count": 14,
     "metadata": {},
     "output_type": "execute_result"
    }
   ],
   "source": [
    "re.findall('com$', Texto, re.M)"
   ]
  },
  {
   "cell_type": "code",
   "execution_count": 15,
   "id": "d7a742bf-5503-4dea-a001-444deb6e68e9",
   "metadata": {},
   "outputs": [
    {
     "data": {
      "text/plain": [
       "['3', '3', '3', '3', '3', '3', '3', '3', '3']"
      ]
     },
     "execution_count": 15,
     "metadata": {},
     "output_type": "execute_result"
    }
   ],
   "source": [
    "re.findall('3',Texto)"
   ]
  },
  {
   "cell_type": "code",
   "execution_count": 16,
   "id": "1feb30b2-06e0-494b-b5e2-0183978417eb",
   "metadata": {},
   "outputs": [
    {
     "data": {
      "text/plain": [
       "[]"
      ]
     },
     "execution_count": 16,
     "metadata": {},
     "output_type": "execute_result"
    }
   ],
   "source": [
    "re.findall('\\b3',Texto)"
   ]
  },
  {
   "cell_type": "code",
   "execution_count": 17,
   "id": "830d26d2-9364-4c20-9b40-6c205cfd6103",
   "metadata": {},
   "outputs": [
    {
     "data": {
      "text/plain": [
       "['3']"
      ]
     },
     "execution_count": 17,
     "metadata": {},
     "output_type": "execute_result"
    }
   ],
   "source": [
    "re.findall(r'\\b3',Texto)"
   ]
  },
  {
   "cell_type": "code",
   "execution_count": 18,
   "id": "04fdef25-3b80-4a94-bef5-ad52ecf7a496",
   "metadata": {},
   "outputs": [
    {
     "data": {
      "text/plain": [
       "['3', '3']"
      ]
     },
     "execution_count": 18,
     "metadata": {},
     "output_type": "execute_result"
    }
   ],
   "source": [
    "re.findall(r'3\\b',Texto)"
   ]
  },
  {
   "cell_type": "markdown",
   "id": "b66e44c2-0754-47e1-bba0-783c777e99a8",
   "metadata": {},
   "source": [
    "## Coincidencias Basicas\n",
    "\n",
    ". - Cualquier caracter, excepto nueva línea\n",
    "\n",
    "\\d - Cualquier digitos (0-9)\n",
    "\n",
    "\\D - No es un digito de (0-9)\n",
    "\n",
    "\\w - Caracter de plabra (a-z, A-Z, 0-9, _)\n",
    "\n",
    "\\W - No es un caracter de palabra\n",
    "\n",
    "\\s - Espacios de cualquier tipo(espacio, tab, nueva linea)\n",
    "\n",
    "\\S - No es un espacio, tabulador o nueva línea "
   ]
  },
  {
   "cell_type": "markdown",
   "id": "9a650c3f-4dbc-442c-9ddd-9a7efdf15ba1",
   "metadata": {},
   "source": [
    "## Cuantificadores\n",
    "\n",
    "* - 0 o Más\n",
    " \n",
    "+ - 1 o Más\n",
    "\n",
    "? - 0 o Más\n",
    "\n",
    "{3}- Número Exacto\n",
    "\n",
    "{3,4} - Rango de Números (Minimo, Maximo)"
   ]
  },
  {
   "cell_type": "code",
   "execution_count": 20,
   "id": "3a57bcad-5539-4f93-a6ae-e1019cacc74b",
   "metadata": {},
   "outputs": [],
   "source": [
    "Texto2= '''Beto M1235 M\n",
    "Ana U1246 S \n",
    "Jaime M432 S\n",
    "Maria U324 M'''"
   ]
  },
  {
   "cell_type": "code",
   "execution_count": 21,
   "id": "7759dd8d-7eb6-4e9b-a71a-09df9e4ae0c2",
   "metadata": {},
   "outputs": [
    {
     "data": {
      "text/plain": [
       "['B',\n",
       " 'e',\n",
       " 't',\n",
       " 'o',\n",
       " 'M',\n",
       " '1',\n",
       " '2',\n",
       " '3',\n",
       " '5',\n",
       " 'M',\n",
       " 'A',\n",
       " 'n',\n",
       " 'a',\n",
       " 'U',\n",
       " '1',\n",
       " '2',\n",
       " '4',\n",
       " '6',\n",
       " 'S',\n",
       " 'J',\n",
       " 'a',\n",
       " 'i',\n",
       " 'm',\n",
       " 'e',\n",
       " 'M',\n",
       " '4',\n",
       " '3',\n",
       " '2',\n",
       " 'S',\n",
       " 'M',\n",
       " 'a',\n",
       " 'r',\n",
       " 'i',\n",
       " 'a',\n",
       " 'U',\n",
       " '3',\n",
       " '2',\n",
       " '4',\n",
       " 'M']"
      ]
     },
     "execution_count": 21,
     "metadata": {},
     "output_type": "execute_result"
    }
   ],
   "source": [
    "re.findall(r'\\w',Texto2) ##Busco todas las letras"
   ]
  },
  {
   "cell_type": "code",
   "execution_count": 22,
   "id": "fcd4ebe2-b9ee-482f-8ad9-88176c280e10",
   "metadata": {},
   "outputs": [
    {
     "data": {
      "text/plain": [
       "['Beto',\n",
       " 'M1235',\n",
       " 'M',\n",
       " 'Ana',\n",
       " 'U1246',\n",
       " 'S',\n",
       " 'Jaime',\n",
       " 'M432',\n",
       " 'S',\n",
       " 'Maria',\n",
       " 'U324',\n",
       " 'M']"
      ]
     },
     "execution_count": 22,
     "metadata": {},
     "output_type": "execute_result"
    }
   ],
   "source": [
    "re.findall(r'\\w+',Texto2) ##Busco todas las palabras pues suma todos caracteres que siguen"
   ]
  },
  {
   "cell_type": "code",
   "execution_count": 23,
   "id": "afd9f531-a4ba-4fa8-bda6-f66e6f62b5c2",
   "metadata": {},
   "outputs": [
    {
     "data": {
      "text/plain": [
       "['M1235', 'M432']"
      ]
     },
     "execution_count": 23,
     "metadata": {},
     "output_type": "execute_result"
    }
   ],
   "source": [
    "re.findall(r'M\\d+',Texto2) ##Busco todas lo que comienza por M mas un digito"
   ]
  },
  {
   "cell_type": "code",
   "execution_count": 24,
   "id": "9f17f213-168f-4604-b188-007e5ba3277a",
   "metadata": {},
   "outputs": [
    {
     "data": {
      "text/plain": [
       "['M123', 'M432']"
      ]
     },
     "execution_count": 24,
     "metadata": {},
     "output_type": "execute_result"
    }
   ],
   "source": [
    "re.findall(r'M\\d{3}',Texto2)#Busco todas lo que comienza por M mas 3 digitos al final"
   ]
  },
  {
   "cell_type": "code",
   "execution_count": 25,
   "id": "6c9efd3c-7a66-48f3-9161-cbf7d7da2d25",
   "metadata": {},
   "outputs": [
    {
     "data": {
      "text/plain": [
       "['M1235']"
      ]
     },
     "execution_count": 25,
     "metadata": {},
     "output_type": "execute_result"
    }
   ],
   "source": [
    "re.findall(r'M\\d{4}',Texto2)#Busco todas lo que comienza por M mas 4 digitos al final"
   ]
  },
  {
   "cell_type": "code",
   "execution_count": 28,
   "id": "4a27550c-9390-46d7-8ca7-e3b25a486471",
   "metadata": {},
   "outputs": [
    {
     "data": {
      "text/plain": [
       "['juan@mail.com', 'camilo@mail.com', 'ana@mail.com']"
      ]
     },
     "execution_count": 28,
     "metadata": {},
     "output_type": "execute_result"
    }
   ],
   "source": [
    "re.findall(r'\\w+@mail.com',Texto)"
   ]
  },
  {
   "cell_type": "markdown",
   "id": "dfb9c5f8-c1ff-4d93-9a90-61aa346e3171",
   "metadata": {},
   "source": [
    "## Conjunto de Caracteres\n",
    "\n",
    "[] - Caracteres dentro de los brackets\n",
    "\n",
    "[^] - Caracteres que no estan dentro de los brackets"
   ]
  },
  {
   "cell_type": "markdown",
   "id": "a1919964-283b-43fc-bf35-41870b926a7e",
   "metadata": {},
   "source": [
    "## Grupos \n",
    "\n",
    "() - Grupo  Buscan patrones pero por bloques\n",
    "\n",
    "| - Uno u oto"
   ]
  },
  {
   "cell_type": "code",
   "execution_count": 31,
   "id": "2993982a-5590-4ec5-8e30-7448c7cf31a9",
   "metadata": {},
   "outputs": [],
   "source": [
    "Texto3='''ruta12: http://pagina.com\n",
    "ruta15:http://ejemplo.com \n",
    "ruta22:http://www.pagina.com\n",
    "ruta38:https://www.ejemplo.com'''"
   ]
  },
  {
   "cell_type": "code",
   "execution_count": 34,
   "id": "15059fa1-346d-4ea7-8ff6-9725609ff526",
   "metadata": {},
   "outputs": [
    {
     "data": {
      "text/plain": [
       "['ruta12', 'ruta22']"
      ]
     },
     "execution_count": 34,
     "metadata": {},
     "output_type": "execute_result"
    }
   ],
   "source": [
    "re.findall(r'ruta[1-3]{2}',Texto3)"
   ]
  },
  {
   "cell_type": "code",
   "execution_count": 35,
   "id": "dc4071be-447b-45ce-8729-dbe19077c9de",
   "metadata": {},
   "outputs": [
    {
     "data": {
      "text/plain": [
       "['ruta22', 'ruta38']"
      ]
     },
     "execution_count": 35,
     "metadata": {},
     "output_type": "execute_result"
    }
   ],
   "source": [
    "re.findall(r'ruta[2-9]{2}',Texto3)"
   ]
  },
  {
   "cell_type": "code",
   "execution_count": 36,
   "id": "b400cd7d-40c3-480f-9148-d244becc28ad",
   "metadata": {},
   "outputs": [
    {
     "data": {
      "text/plain": [
       "['ruta22', 'ruta38']"
      ]
     },
     "execution_count": 36,
     "metadata": {},
     "output_type": "execute_result"
    }
   ],
   "source": [
    "re.findall(r'ruta[2-9]+',Texto3)"
   ]
  },
  {
   "cell_type": "code",
   "execution_count": 38,
   "id": "3d0cab43-9276-4403-8a35-d150cf6e8281",
   "metadata": {},
   "outputs": [
    {
     "data": {
      "text/plain": [
       "['https://']"
      ]
     },
     "execution_count": 38,
     "metadata": {},
     "output_type": "execute_result"
    }
   ],
   "source": [
    "re.findall(r'(https://)',Texto3)"
   ]
  },
  {
   "cell_type": "code",
   "execution_count": 40,
   "id": "c09e4073-baa5-4c76-a8b9-2aea8d523005",
   "metadata": {},
   "outputs": [
    {
     "data": {
      "text/plain": [
       "['http://', 'http://', 'http://', 'https://']"
      ]
     },
     "execution_count": 40,
     "metadata": {},
     "output_type": "execute_result"
    }
   ],
   "source": [
    "re.findall(r'(https://|http://)',Texto3)"
   ]
  },
  {
   "cell_type": "code",
   "execution_count": 41,
   "id": "da0c0c45-1254-4aa3-bb69-c994a9ac2ce1",
   "metadata": {},
   "outputs": [
    {
     "data": {
      "text/plain": [
       "[('http://', 'www'), ('https://', 'www')]"
      ]
     },
     "execution_count": 41,
     "metadata": {},
     "output_type": "execute_result"
    }
   ],
   "source": [
    "re.findall(r'(https://|http://)(w{3})',Texto3)"
   ]
  },
  {
   "cell_type": "code",
   "execution_count": 46,
   "id": "5bf54c8b-cd8a-4be1-914b-6b57cf0b8182",
   "metadata": {},
   "outputs": [],
   "source": [
    "paginas=re.findall(r'(https://|http://)?(w{3}.?)?(\\w+.com)',Texto3)  ## el signo de pregunta significa que es opcional"
   ]
  },
  {
   "cell_type": "code",
   "execution_count": 50,
   "id": "5e0356a0-25a3-4921-a959-f6d545deff47",
   "metadata": {},
   "outputs": [
    {
     "name": "stdout",
     "output_type": "stream",
     "text": [
      "['http://pagina.com', 'http://ejemplo.com', 'http://www.pagina.com', 'https://www.ejemplo.com']\n"
     ]
    }
   ],
   "source": [
    "paginas=[''.join(pagina) for pagina in paginas]\n",
    "print(paginas)"
   ]
  },
  {
   "cell_type": "code",
   "execution_count": 52,
   "id": "bf82e9ad-afb8-49cf-b9e9-1ba25c0c7bf6",
   "metadata": {},
   "outputs": [
    {
     "name": "stdout",
     "output_type": "stream",
     "text": [
      "[('http://', '', 'pagina.com'), ('http://', '', 'ejemplo.com'), ('http://', 'www.', 'pagina.com'), ('https://', 'www.', 'ejemplo.com')]\n"
     ]
    }
   ],
   "source": [
    "paginas=re.findall(r'(https?://)(w{3}.?)?(\\w+.com)',Texto3)  ## el signo de pregunta significa que es opcional\n",
    "print(paginas)"
   ]
  },
  {
   "cell_type": "code",
   "execution_count": null,
   "id": "12f0c86f-aa9f-4047-8cd2-74a632b77fc3",
   "metadata": {},
   "outputs": [],
   "source": []
  },
  {
   "cell_type": "markdown",
   "id": "b6c831bd-279b-492e-a1c6-85881ca66efc",
   "metadata": {},
   "source": [
    "## Importar un archivo de Texto "
   ]
  },
  {
   "cell_type": "code",
   "execution_count": 64,
   "id": "86f6540d-05b1-4dd7-9042-2a28712b4437",
   "metadata": {},
   "outputs": [],
   "source": [
    "doc=open('regex.txt', 'r' )\n",
    "texto=doc.read()\n",
    "doc.close()"
   ]
  },
  {
   "cell_type": "code",
   "execution_count": 65,
   "id": "eccef59d-a711-4552-95f8-831ac3d29a0e",
   "metadata": {},
   "outputs": [
    {
     "name": "stdout",
     "output_type": "stream",
     "text": [
      "Un nuevo rostro en el poder sirio\n",
      "\n",
      "Abu Mohammed Al-Julani, anteriormente asociado con el extremismo yihadista de Al Qaeda, ha evolucionado hacia un lÃ­der con\n",
      "creciente reconocimiento internacional. Al frente de Hayat Tahrir al Sham (HTS) o EjÃ©rcito para la LiberaciÃ³n del Levante,\n",
      " Al-Julani se ha posicionado como el principal lÃ­der del grupo armado de oposiciÃ³n en Siria. Transformando su imagen, ha \n",
      " participado en entrevistas con destacados medios internacionales, consolidÃ¡ndose como una figura central en el movimiento \n",
      " rebelde que desafÃ­a al rÃ©gimen de Bachar el Assad.\n"
     ]
    }
   ],
   "source": [
    "print(texto)"
   ]
  },
  {
   "cell_type": "code",
   "execution_count": 56,
   "id": "e7bf0ae4-0e85-41f9-85d6-fa35d110d236",
   "metadata": {},
   "outputs": [
    {
     "data": {
      "text/plain": [
       "['Al-Julani', 'Al-Julani']"
      ]
     },
     "execution_count": 56,
     "metadata": {},
     "output_type": "execute_result"
    }
   ],
   "source": [
    "re.findall(r'Al-Julani',texto)"
   ]
  },
  {
   "cell_type": "code",
   "execution_count": 57,
   "id": "5b3a061a-0997-49f7-80e4-5f2b927a0d22",
   "metadata": {},
   "outputs": [
    {
     "data": {
      "text/plain": [
       "['Sham']"
      ]
     },
     "execution_count": 57,
     "metadata": {},
     "output_type": "execute_result"
    }
   ],
   "source": [
    "re.findall(r'Sham',texto)"
   ]
  },
  {
   "cell_type": "code",
   "execution_count": 67,
   "id": "1b3d3856-7d81-4236-ab70-3da4390f9b3f",
   "metadata": {},
   "outputs": [
    {
     "data": {
      "text/plain": [
       "['Mohammed']"
      ]
     },
     "execution_count": 67,
     "metadata": {},
     "output_type": "execute_result"
    }
   ],
   "source": [
    "re.findall(r'Mohammed',texto,re.I)"
   ]
  },
  {
   "cell_type": "code",
   "execution_count": null,
   "id": "67aed60d-7210-4bc3-aa8f-a9ef30a819c0",
   "metadata": {},
   "outputs": [],
   "source": []
  },
  {
   "cell_type": "markdown",
   "id": "c38ebb13-1bed-4192-8821-f44318dac065",
   "metadata": {},
   "source": [
    "## Regex y Pandas, Filtrado de datos"
   ]
  },
  {
   "cell_type": "code",
   "execution_count": 71,
   "id": "248e30c3-6fbf-4efe-a029-1a1e89efcc1d",
   "metadata": {},
   "outputs": [
    {
     "data": {
      "text/html": [
       "<div>\n",
       "<style scoped>\n",
       "    .dataframe tbody tr th:only-of-type {\n",
       "        vertical-align: middle;\n",
       "    }\n",
       "\n",
       "    .dataframe tbody tr th {\n",
       "        vertical-align: top;\n",
       "    }\n",
       "\n",
       "    .dataframe thead th {\n",
       "        text-align: right;\n",
       "    }\n",
       "</style>\n",
       "<table border=\"1\" class=\"dataframe\">\n",
       "  <thead>\n",
       "    <tr style=\"text-align: right;\">\n",
       "      <th></th>\n",
       "      <th>nombre</th>\n",
       "      <th>Abb</th>\n",
       "      <th>Cdd</th>\n",
       "    </tr>\n",
       "    <tr>\n",
       "      <th>codigo</th>\n",
       "      <th></th>\n",
       "      <th></th>\n",
       "      <th></th>\n",
       "    </tr>\n",
       "  </thead>\n",
       "  <tbody>\n",
       "    <tr>\n",
       "      <th>co_123</th>\n",
       "      <td>Pepito Gonzalez</td>\n",
       "      <td>11</td>\n",
       "      <td>12</td>\n",
       "    </tr>\n",
       "    <tr>\n",
       "      <th>pe_312</th>\n",
       "      <td>Maria Vasquez</td>\n",
       "      <td>34</td>\n",
       "      <td>54</td>\n",
       "    </tr>\n",
       "    <tr>\n",
       "      <th>mx_546</th>\n",
       "      <td>Rosa Gomez</td>\n",
       "      <td>12</td>\n",
       "      <td>67</td>\n",
       "    </tr>\n",
       "    <tr>\n",
       "      <th>mx_765</th>\n",
       "      <td>Pepito Chavez</td>\n",
       "      <td>43</td>\n",
       "      <td>32</td>\n",
       "    </tr>\n",
       "  </tbody>\n",
       "</table>\n",
       "</div>"
      ],
      "text/plain": [
       "                 nombre  Abb  Cdd\n",
       "codigo                           \n",
       "co_123  Pepito Gonzalez   11   12\n",
       "pe_312    Maria Vasquez   34   54\n",
       "mx_546       Rosa Gomez   12   67\n",
       "mx_765    Pepito Chavez   43   32"
      ]
     },
     "metadata": {},
     "output_type": "display_data"
    }
   ],
   "source": [
    "dfreg=pd.DataFrame({\n",
    "    'nombre':['Pepito Gonzalez','Maria Vasquez','Rosa Gomez','Pepito Chavez'],\n",
    "    'codigo':['co_123','pe_312','mx_546','mx_765'],\n",
    "    'Abb':[11,34,12,43],\n",
    "    'Cdd':[12,54,67,32],\n",
    "   })\n",
    "dfreg=dfreg.set_index('codigo')\n",
    "display(dfreg)"
   ]
  },
  {
   "cell_type": "code",
   "execution_count": 72,
   "id": "72ecef9d-8003-4f71-9eda-0ac54981b50f",
   "metadata": {},
   "outputs": [
    {
     "data": {
      "text/html": [
       "<div>\n",
       "<style scoped>\n",
       "    .dataframe tbody tr th:only-of-type {\n",
       "        vertical-align: middle;\n",
       "    }\n",
       "\n",
       "    .dataframe tbody tr th {\n",
       "        vertical-align: top;\n",
       "    }\n",
       "\n",
       "    .dataframe thead th {\n",
       "        text-align: right;\n",
       "    }\n",
       "</style>\n",
       "<table border=\"1\" class=\"dataframe\">\n",
       "  <thead>\n",
       "    <tr style=\"text-align: right;\">\n",
       "      <th></th>\n",
       "      <th>Abb</th>\n",
       "      <th>Cdd</th>\n",
       "    </tr>\n",
       "    <tr>\n",
       "      <th>codigo</th>\n",
       "      <th></th>\n",
       "      <th></th>\n",
       "    </tr>\n",
       "  </thead>\n",
       "  <tbody>\n",
       "    <tr>\n",
       "      <th>co_123</th>\n",
       "      <td>11</td>\n",
       "      <td>12</td>\n",
       "    </tr>\n",
       "    <tr>\n",
       "      <th>pe_312</th>\n",
       "      <td>34</td>\n",
       "      <td>54</td>\n",
       "    </tr>\n",
       "    <tr>\n",
       "      <th>mx_546</th>\n",
       "      <td>12</td>\n",
       "      <td>67</td>\n",
       "    </tr>\n",
       "    <tr>\n",
       "      <th>mx_765</th>\n",
       "      <td>43</td>\n",
       "      <td>32</td>\n",
       "    </tr>\n",
       "  </tbody>\n",
       "</table>\n",
       "</div>"
      ],
      "text/plain": [
       "        Abb  Cdd\n",
       "codigo          \n",
       "co_123   11   12\n",
       "pe_312   34   54\n",
       "mx_546   12   67\n",
       "mx_765   43   32"
      ]
     },
     "execution_count": 72,
     "metadata": {},
     "output_type": "execute_result"
    }
   ],
   "source": [
    "dfreg.filter(items=['Abb','Cdd']) ## filter comprueba que ese nommbre exista"
   ]
  },
  {
   "cell_type": "code",
   "execution_count": 73,
   "id": "e6e7a25c-3864-47ce-9fb8-1f80465346e7",
   "metadata": {},
   "outputs": [
    {
     "data": {
      "text/html": [
       "<div>\n",
       "<style scoped>\n",
       "    .dataframe tbody tr th:only-of-type {\n",
       "        vertical-align: middle;\n",
       "    }\n",
       "\n",
       "    .dataframe tbody tr th {\n",
       "        vertical-align: top;\n",
       "    }\n",
       "\n",
       "    .dataframe thead th {\n",
       "        text-align: right;\n",
       "    }\n",
       "</style>\n",
       "<table border=\"1\" class=\"dataframe\">\n",
       "  <thead>\n",
       "    <tr style=\"text-align: right;\">\n",
       "      <th></th>\n",
       "    </tr>\n",
       "    <tr>\n",
       "      <th>codigo</th>\n",
       "    </tr>\n",
       "  </thead>\n",
       "  <tbody>\n",
       "    <tr>\n",
       "      <th>co_123</th>\n",
       "    </tr>\n",
       "    <tr>\n",
       "      <th>pe_312</th>\n",
       "    </tr>\n",
       "    <tr>\n",
       "      <th>mx_546</th>\n",
       "    </tr>\n",
       "    <tr>\n",
       "      <th>mx_765</th>\n",
       "    </tr>\n",
       "  </tbody>\n",
       "</table>\n",
       "</div>"
      ],
      "text/plain": [
       "Empty DataFrame\n",
       "Columns: []\n",
       "Index: [co_123, pe_312, mx_546, mx_765]"
      ]
     },
     "execution_count": 73,
     "metadata": {},
     "output_type": "execute_result"
    }
   ],
   "source": [
    "dfreg.filter(like='pe')"
   ]
  },
  {
   "cell_type": "code",
   "execution_count": 74,
   "id": "c93717a4-e176-4c74-94e4-1888014bf8c2",
   "metadata": {},
   "outputs": [
    {
     "data": {
      "text/html": [
       "<div>\n",
       "<style scoped>\n",
       "    .dataframe tbody tr th:only-of-type {\n",
       "        vertical-align: middle;\n",
       "    }\n",
       "\n",
       "    .dataframe tbody tr th {\n",
       "        vertical-align: top;\n",
       "    }\n",
       "\n",
       "    .dataframe thead th {\n",
       "        text-align: right;\n",
       "    }\n",
       "</style>\n",
       "<table border=\"1\" class=\"dataframe\">\n",
       "  <thead>\n",
       "    <tr style=\"text-align: right;\">\n",
       "      <th></th>\n",
       "    </tr>\n",
       "    <tr>\n",
       "      <th>codigo</th>\n",
       "    </tr>\n",
       "  </thead>\n",
       "  <tbody>\n",
       "    <tr>\n",
       "      <th>co_123</th>\n",
       "    </tr>\n",
       "    <tr>\n",
       "      <th>pe_312</th>\n",
       "    </tr>\n",
       "    <tr>\n",
       "      <th>mx_546</th>\n",
       "    </tr>\n",
       "    <tr>\n",
       "      <th>mx_765</th>\n",
       "    </tr>\n",
       "  </tbody>\n",
       "</table>\n",
       "</div>"
      ],
      "text/plain": [
       "Empty DataFrame\n",
       "Columns: []\n",
       "Index: [co_123, pe_312, mx_546, mx_765]"
      ]
     },
     "execution_count": 74,
     "metadata": {},
     "output_type": "execute_result"
    }
   ],
   "source": [
    "dfreg.filter(like='12')"
   ]
  },
  {
   "cell_type": "code",
   "execution_count": 75,
   "id": "3c0dc14c-4f69-4949-bfb6-01956b7c3029",
   "metadata": {},
   "outputs": [
    {
     "data": {
      "text/html": [
       "<div>\n",
       "<style scoped>\n",
       "    .dataframe tbody tr th:only-of-type {\n",
       "        vertical-align: middle;\n",
       "    }\n",
       "\n",
       "    .dataframe tbody tr th {\n",
       "        vertical-align: top;\n",
       "    }\n",
       "\n",
       "    .dataframe thead th {\n",
       "        text-align: right;\n",
       "    }\n",
       "</style>\n",
       "<table border=\"1\" class=\"dataframe\">\n",
       "  <thead>\n",
       "    <tr style=\"text-align: right;\">\n",
       "      <th></th>\n",
       "    </tr>\n",
       "    <tr>\n",
       "      <th>codigo</th>\n",
       "    </tr>\n",
       "  </thead>\n",
       "  <tbody>\n",
       "    <tr>\n",
       "      <th>co_123</th>\n",
       "    </tr>\n",
       "    <tr>\n",
       "      <th>pe_312</th>\n",
       "    </tr>\n",
       "    <tr>\n",
       "      <th>mx_546</th>\n",
       "    </tr>\n",
       "    <tr>\n",
       "      <th>mx_765</th>\n",
       "    </tr>\n",
       "  </tbody>\n",
       "</table>\n",
       "</div>"
      ],
      "text/plain": [
       "Empty DataFrame\n",
       "Columns: []\n",
       "Index: [co_123, pe_312, mx_546, mx_765]"
      ]
     },
     "execution_count": 75,
     "metadata": {},
     "output_type": "execute_result"
    }
   ],
   "source": [
    "dfreg.filter(like='99') ## no aparece nada"
   ]
  },
  {
   "cell_type": "code",
   "execution_count": 76,
   "id": "18325f47-2394-49ac-a91a-a787e9acf2f2",
   "metadata": {},
   "outputs": [
    {
     "data": {
      "text/html": [
       "<div>\n",
       "<style scoped>\n",
       "    .dataframe tbody tr th:only-of-type {\n",
       "        vertical-align: middle;\n",
       "    }\n",
       "\n",
       "    .dataframe tbody tr th {\n",
       "        vertical-align: top;\n",
       "    }\n",
       "\n",
       "    .dataframe thead th {\n",
       "        text-align: right;\n",
       "    }\n",
       "</style>\n",
       "<table border=\"1\" class=\"dataframe\">\n",
       "  <thead>\n",
       "    <tr style=\"text-align: right;\">\n",
       "      <th></th>\n",
       "      <th>nombre</th>\n",
       "      <th>Abb</th>\n",
       "      <th>Cdd</th>\n",
       "    </tr>\n",
       "    <tr>\n",
       "      <th>codigo</th>\n",
       "      <th></th>\n",
       "      <th></th>\n",
       "      <th></th>\n",
       "    </tr>\n",
       "  </thead>\n",
       "  <tbody>\n",
       "  </tbody>\n",
       "</table>\n",
       "</div>"
      ],
      "text/plain": [
       "Empty DataFrame\n",
       "Columns: [nombre, Abb, Cdd]\n",
       "Index: []"
      ]
     },
     "execution_count": 76,
     "metadata": {},
     "output_type": "execute_result"
    }
   ],
   "source": [
    "dfreg.filter(like='99',axis=0)"
   ]
  },
  {
   "cell_type": "code",
   "execution_count": 77,
   "id": "00790b1d-9d08-42a9-9009-27744e756a2a",
   "metadata": {},
   "outputs": [
    {
     "data": {
      "text/html": [
       "<div>\n",
       "<style scoped>\n",
       "    .dataframe tbody tr th:only-of-type {\n",
       "        vertical-align: middle;\n",
       "    }\n",
       "\n",
       "    .dataframe tbody tr th {\n",
       "        vertical-align: top;\n",
       "    }\n",
       "\n",
       "    .dataframe thead th {\n",
       "        text-align: right;\n",
       "    }\n",
       "</style>\n",
       "<table border=\"1\" class=\"dataframe\">\n",
       "  <thead>\n",
       "    <tr style=\"text-align: right;\">\n",
       "      <th></th>\n",
       "      <th>nombre</th>\n",
       "      <th>Abb</th>\n",
       "      <th>Cdd</th>\n",
       "    </tr>\n",
       "    <tr>\n",
       "      <th>codigo</th>\n",
       "      <th></th>\n",
       "      <th></th>\n",
       "      <th></th>\n",
       "    </tr>\n",
       "  </thead>\n",
       "  <tbody>\n",
       "    <tr>\n",
       "      <th>co_123</th>\n",
       "      <td>Pepito Gonzalez</td>\n",
       "      <td>11</td>\n",
       "      <td>12</td>\n",
       "    </tr>\n",
       "    <tr>\n",
       "      <th>pe_312</th>\n",
       "      <td>Maria Vasquez</td>\n",
       "      <td>34</td>\n",
       "      <td>54</td>\n",
       "    </tr>\n",
       "  </tbody>\n",
       "</table>\n",
       "</div>"
      ],
      "text/plain": [
       "                 nombre  Abb  Cdd\n",
       "codigo                           \n",
       "co_123  Pepito Gonzalez   11   12\n",
       "pe_312    Maria Vasquez   34   54"
      ]
     },
     "execution_count": 77,
     "metadata": {},
     "output_type": "execute_result"
    }
   ],
   "source": [
    "dfreg.filter(like='12',axis=0) ##para filtrar verdaderamente"
   ]
  },
  {
   "cell_type": "code",
   "execution_count": 78,
   "id": "6c362fc2-31bf-49f6-a3fc-6a6154da04fc",
   "metadata": {},
   "outputs": [
    {
     "data": {
      "text/html": [
       "<div>\n",
       "<style scoped>\n",
       "    .dataframe tbody tr th:only-of-type {\n",
       "        vertical-align: middle;\n",
       "    }\n",
       "\n",
       "    .dataframe tbody tr th {\n",
       "        vertical-align: top;\n",
       "    }\n",
       "\n",
       "    .dataframe thead th {\n",
       "        text-align: right;\n",
       "    }\n",
       "</style>\n",
       "<table border=\"1\" class=\"dataframe\">\n",
       "  <thead>\n",
       "    <tr style=\"text-align: right;\">\n",
       "      <th></th>\n",
       "      <th>nombre</th>\n",
       "      <th>Abb</th>\n",
       "      <th>Cdd</th>\n",
       "    </tr>\n",
       "    <tr>\n",
       "      <th>codigo</th>\n",
       "      <th></th>\n",
       "      <th></th>\n",
       "      <th></th>\n",
       "    </tr>\n",
       "  </thead>\n",
       "  <tbody>\n",
       "    <tr>\n",
       "      <th>co_123</th>\n",
       "      <td>Pepito Gonzalez</td>\n",
       "      <td>11</td>\n",
       "      <td>12</td>\n",
       "    </tr>\n",
       "  </tbody>\n",
       "</table>\n",
       "</div>"
      ],
      "text/plain": [
       "                 nombre  Abb  Cdd\n",
       "codigo                           \n",
       "co_123  Pepito Gonzalez   11   12"
      ]
     },
     "execution_count": 78,
     "metadata": {},
     "output_type": "execute_result"
    }
   ],
   "source": [
    "dfreg.filter(regex='co',axis=0)"
   ]
  },
  {
   "cell_type": "code",
   "execution_count": 79,
   "id": "77b43fb1-4dc0-4190-861b-c51f78629ebe",
   "metadata": {},
   "outputs": [
    {
     "name": "stderr",
     "output_type": "stream",
     "text": [
      "<>:1: SyntaxWarning: invalid escape sequence '\\w'\n",
      "<>:1: SyntaxWarning: invalid escape sequence '\\w'\n",
      "C:\\Users\\Usuario\\AppData\\Local\\Temp\\ipykernel_21044\\1762484071.py:1: SyntaxWarning: invalid escape sequence '\\w'\n",
      "  dfreg.filter(regex='\\w{2}_[1-3]{3}',axis=0)\n"
     ]
    },
    {
     "data": {
      "text/html": [
       "<div>\n",
       "<style scoped>\n",
       "    .dataframe tbody tr th:only-of-type {\n",
       "        vertical-align: middle;\n",
       "    }\n",
       "\n",
       "    .dataframe tbody tr th {\n",
       "        vertical-align: top;\n",
       "    }\n",
       "\n",
       "    .dataframe thead th {\n",
       "        text-align: right;\n",
       "    }\n",
       "</style>\n",
       "<table border=\"1\" class=\"dataframe\">\n",
       "  <thead>\n",
       "    <tr style=\"text-align: right;\">\n",
       "      <th></th>\n",
       "      <th>nombre</th>\n",
       "      <th>Abb</th>\n",
       "      <th>Cdd</th>\n",
       "    </tr>\n",
       "    <tr>\n",
       "      <th>codigo</th>\n",
       "      <th></th>\n",
       "      <th></th>\n",
       "      <th></th>\n",
       "    </tr>\n",
       "  </thead>\n",
       "  <tbody>\n",
       "    <tr>\n",
       "      <th>co_123</th>\n",
       "      <td>Pepito Gonzalez</td>\n",
       "      <td>11</td>\n",
       "      <td>12</td>\n",
       "    </tr>\n",
       "    <tr>\n",
       "      <th>pe_312</th>\n",
       "      <td>Maria Vasquez</td>\n",
       "      <td>34</td>\n",
       "      <td>54</td>\n",
       "    </tr>\n",
       "  </tbody>\n",
       "</table>\n",
       "</div>"
      ],
      "text/plain": [
       "                 nombre  Abb  Cdd\n",
       "codigo                           \n",
       "co_123  Pepito Gonzalez   11   12\n",
       "pe_312    Maria Vasquez   34   54"
      ]
     },
     "execution_count": 79,
     "metadata": {},
     "output_type": "execute_result"
    }
   ],
   "source": [
    "dfreg.filter(regex='\\w{2}_[1-3]{3}',axis=0)"
   ]
  },
  {
   "cell_type": "code",
   "execution_count": 80,
   "id": "9a6abded-5ab3-4929-b833-c5502e61b22f",
   "metadata": {},
   "outputs": [
    {
     "name": "stderr",
     "output_type": "stream",
     "text": [
      "<>:1: SyntaxWarning: invalid escape sequence '\\w'\n",
      "<>:1: SyntaxWarning: invalid escape sequence '\\w'\n",
      "C:\\Users\\Usuario\\AppData\\Local\\Temp\\ipykernel_21044\\3995085557.py:1: SyntaxWarning: invalid escape sequence '\\w'\n",
      "  dfreg.filter(regex='\\w{2}_[4-9]{3}',axis=0)\n"
     ]
    },
    {
     "data": {
      "text/html": [
       "<div>\n",
       "<style scoped>\n",
       "    .dataframe tbody tr th:only-of-type {\n",
       "        vertical-align: middle;\n",
       "    }\n",
       "\n",
       "    .dataframe tbody tr th {\n",
       "        vertical-align: top;\n",
       "    }\n",
       "\n",
       "    .dataframe thead th {\n",
       "        text-align: right;\n",
       "    }\n",
       "</style>\n",
       "<table border=\"1\" class=\"dataframe\">\n",
       "  <thead>\n",
       "    <tr style=\"text-align: right;\">\n",
       "      <th></th>\n",
       "      <th>nombre</th>\n",
       "      <th>Abb</th>\n",
       "      <th>Cdd</th>\n",
       "    </tr>\n",
       "    <tr>\n",
       "      <th>codigo</th>\n",
       "      <th></th>\n",
       "      <th></th>\n",
       "      <th></th>\n",
       "    </tr>\n",
       "  </thead>\n",
       "  <tbody>\n",
       "    <tr>\n",
       "      <th>mx_546</th>\n",
       "      <td>Rosa Gomez</td>\n",
       "      <td>12</td>\n",
       "      <td>67</td>\n",
       "    </tr>\n",
       "    <tr>\n",
       "      <th>mx_765</th>\n",
       "      <td>Pepito Chavez</td>\n",
       "      <td>43</td>\n",
       "      <td>32</td>\n",
       "    </tr>\n",
       "  </tbody>\n",
       "</table>\n",
       "</div>"
      ],
      "text/plain": [
       "               nombre  Abb  Cdd\n",
       "codigo                         \n",
       "mx_546     Rosa Gomez   12   67\n",
       "mx_765  Pepito Chavez   43   32"
      ]
     },
     "execution_count": 80,
     "metadata": {},
     "output_type": "execute_result"
    }
   ],
   "source": [
    "dfreg.filter(regex='\\w{2}_[4-9]{3}',axis=0)"
   ]
  },
  {
   "cell_type": "code",
   "execution_count": null,
   "id": "bff0e08e-fa69-4e32-a011-0ff72ff09a61",
   "metadata": {},
   "outputs": [],
   "source": []
  },
  {
   "cell_type": "markdown",
   "id": "369c6ade-e942-4ba1-963f-bb7fab1bf28c",
   "metadata": {},
   "source": [
    "## Ejemplo: Analizando un archivo de texto "
   ]
  },
  {
   "cell_type": "code",
   "execution_count": 5,
   "id": "b97c7a12-a579-44da-a5c7-09be8568fc0a",
   "metadata": {},
   "outputs": [
    {
     "name": "stdout",
     "output_type": "stream",
     "text": [
      "\n",
      "1. El joven pastor y el lobo\n",
      "cuentos cortos\n",
      "\n",
      "Datos del Cuento\n",
      "Titulo: El joven pastor y el lobo\n",
      "Autor: Gaspar Ospina\n",
      "Personajes: 2\n",
      "Año: 1826\n",
      "País: Francia\n",
      "Audiencia: Infantil \n",
      "Calificación: Bet Seller\n",
      "\n",
      "En un pueblo muy lejano, había un joven pastor que cuidaba un rebaño de ovejas. Pero este joven tenía una mala costumbre: engañaba a las personas del pueblo gritando:\n",
      "\n",
      "—¡Es el lobo! ¡Es el lobo!\n",
      "\n",
      "Las personas venían a ayudarle, solo para descubrir que el joven mentía, una y otra vez.\n",
      "\n",
      "Un día, ocurrió que el lobo se apareció entre las ovejas, y el joven pastor, desesperado, comenzó a gritar, esta vez en serio:\n",
      "\n",
      "—¡Es el lobo! ¡Es el lobo! ¡Está matando a las ovejas del rebaño!\n",
      "\n",
      "Pero nadie le creyó y no recibió ayuda. Y así, el lobo se encontró a sus anchas y todas las ovejas murieron.\n",
      "\n",
      "Moraleja: Nadie le cree a un mentiroso, aun cuando diga la verdad.\n",
      "\n",
      "Este clásico de la literatura infantil, tomado de las fábulas de Esopo, enseña a los más pequeños sobre los peligros y consecuencias del vicio de la mentira. Cuando las personas mienten una y otra vez, tarde o temprano pierden su credibilidad y pagan caras las consecuencias.\n",
      "\n",
      "2. Pinocho Pinocho\n",
      "\n",
      "Datos del Cuento\n",
      "Titulo: Pinocho\n",
      "Autor: Tomas Carrasquilla\n",
      "Personajes: 4\n",
      "Año: 1878\n",
      "País: Alemania\n",
      "Audiencia: Infantil \n",
      "Calificación: Bet Seller\n",
      "\n",
      "Érase una vez un anciano carpintero llamado Gepeto que era muy feliz haciendo juguetes de madera para los niños de su pueblo.\n",
      "\n",
      "Un día, hizo una marioneta de una madera de pino muy especial y decidió llamarla Pinocho. En la noche, un hada azul llegó al taller del anciano carpintero:\n",
      "\n",
      "—Buen Gepeto —dijo mientras el anciano dormía—, has hecho a los demás tan felices, que mereces que tu deseo de ser padre se haga realidad. Sonriendo, el hada azul tocó la marioneta con su varita mágica:\n",
      "\n",
      "—¡Despierta, pequeña marioneta hecha de pino… despierta! ¡El regalo de la vida es tuyo!\n",
      "\n",
      "Y en un abrir y cerrar de ojos, el hada azul dio vida a Pinocho.\n",
      "\n",
      "—Pinocho, si eres valiente, sincero y desinteresado, algún día serás un niño de verdad —dijo el hada azul—. Luego se volvió hacia un grillo llamado Pepe Grillo, que vivía en la alacena de Gepeto.\n",
      "\n",
      "—Pepe Grillo — dijo el hada azul—, debes ayudar a Pinocho. Serás su conciencia y guardián del conocimiento del bien y del mal.\n",
      "\n",
      "Al día siguiente, Gepeto envió con orgullo a su pequeño niño de madera a la escuela, pero como era tan pobre, tuvo que vender su abrigo para comprar los libros escolares:\n",
      "\n",
      "—Pinocho, Pepe Grillo te mostrará el camino —dijo Gepeto—. Por favor, no te distraigas y llega a la escuela a tiempo.\n",
      "\n",
      "Pinocho salió de casa, pero nunca llegó a la escuela. En cambio, decidió ignorar los consejos de Pepe Grillo y vender los libros para comprar un tiquete para el teatro de marionetas. Cuando Pinocho comenzó a bailar con las marionetas, el titiritero sorprendido con las habilidades del niño de madera, le preguntó si quería unirse a su espectáculo de marionetas. Pinocho aceptó alegremente.\n",
      "\n",
      "Sin embargo, las intenciones del malvado titiritero eran muy diferentes; su plan era hacerse rico con la única marioneta con vida en el mundo. De inmediato, encerró a Pinocho y a Pepe Grillo en una jaula. Fue entonces que Pinocho reconoció su error y comenzó a llorar. El hada azul apareció de la nada.\n",
      "\n",
      "Aunque el hada azul conocía las razones por las cuales Pinocho se encontraba atrapado, aun así, le preguntó:\n",
      "\n",
      "—Pinocho, ¿por qué estás en esta jaula?\n",
      "\n",
      "Pero Pinocho no quiso contarle la verdad, entonces algo extraño sucedió. Su nariz comenzó a crecer más y más. Cuanto más hablaba, más crecía.\n",
      "\n",
      "—Cada vez que digas una mentira, tu nariz crecerá — dijo el hada azul.\n",
      "\n",
      "—Por favor, haz que se detenga—dijo Pinocho—, prometo no mentir de nuevo.\n",
      "\n",
      "Al día siguiente, camino a la escuela, Pinocho conoció a un niño:\n",
      "\n",
      "—Ven conmigo al País de los Juguetes. ¡En este lugar todos los días son vacaciones! —dijo el niño con emoción—. Hay juguetes y golosinas y lo mejor de todo, ¡no tienes que ir a la escuela!\n",
      "\n",
      "Olvidando nuevamente los consejos del hada azul y Pepe Grillo, Pinocho salió corriendo con el niño al País de los Juguetes. Al llegar, se divirtió muchísimo jugando y comiendo golosinas.\n",
      "\n",
      "De pronto, las orejas de Pinocho y los otros niños del País de los Juguetes comenzaron a hacerse muy largas. Por no querer ir a la escuela, ¡se estaban convirtiendo en burros!\n",
      "\n",
      "Convertidos en burros, Pinocho y los niños llegaron a un circo. El maestro de ceremonias hizo que Pinocho trabajara para el circo sin descanso. Allí, Pinocho se lastimó la pierna mientras hacía trucos. Enojado, el maestro de ceremonias lo tiró al mar junto con Pepe Grillo.\n",
      "\n",
      "En el agua, el hechizo se rompió y Pinocho volvió a su forma de marioneta, pero una ballena que nadaba cerca abrió su enorme boca y se lo tragó entero. En la oscuridad del estómago de la ballena, Pinocho lloró mientras que Pepe Grillo intentaba consolarlo. Fue en ese momento que vio a Gepeto en su bote:\n",
      "\n",
      "—Hijo mío, te estaba buscando por tierra y mar cuando la ballena me tragó. ¡Estoy tan contento de haberte encontrado! —dijo Gepeto.\n",
      "\n",
      "Los dos se abrazaron encantados.\n",
      "\n",
      "—De ahora en adelante seré bueno y responsable—, prometió Pinocho entre lágrimas.\n",
      "\n",
      "Aprovechando que la ballena dormía, Gepeto, Pinocho y Pepe Grillo prendieron una fogata dentro de ella y saltaron de su enorme boca cuando el fuego la hizo estornudar. Luego, navegaron hasta llegar a casa. Pero Gepeto cayó enfermo, Pinocho lo alimentó y cuidó con mucho esmero y dedicación.\n",
      "\n",
      "—Papá, iré a la escuela y trabajaré mucho para llenarte de orgullo— dijo Pinocho.\n",
      "\n",
      "Cumpliendo su promesa, Pinocho estudió mucho en la escuela. Entonces un día sucedió algo maravilloso. El hada azul apareció y le dijo:\n",
      "\n",
      "—Pinocho, eres valiente, sincero y tienes un corazón bondadoso y desinteresado, mereces convertirte en un niño de verdad.\n",
      "\n",
      "Y fue así como el niño de madera se convirtió en un niño de verdad. Gepeto y Pinocho vivieron felices para siempre.\n",
      "\n",
      "Pinocho es uno de los clásicos ineludibles para la primera infancia. Esta historia de Carlo Collodi le permite a los niños entender de forma directa el valor de la honestidad y la importancia del amor.\n",
      "\n",
      "3. El zorro y la cigüeña\n",
      "\n",
      "\n",
      "Datos del Cuento\n",
      "Titulo: El zorro y la cigüeña\n",
      "Autor: Gaspar Ospina\n",
      "Personajes: 2\n",
      "Año: 1866\n",
      "País: España\n",
      "Audiencia: Infantil \n",
      "Calificación: Bet Seller\n",
      "\n",
      "Sucedió que un día el señor Zorro quiso dárselas de importante e invitó a comer a la señora Cigüeña. El menú no era otra cosa que un sopicaldo, una sopa con pocos sólidos que comer, la cual fue servida en un plato llano.\n",
      "\n",
      "Como es de esperarse, la señora Cigüeña no pudo comer debido a la forma y extensión de su pico, en cuanto que el señor Zorro, con su lengua, lamió todo el plato a gusto.\n",
      "\n",
      "Ofendida, la señora Cigüeña decidió desquitarse por la humillación del señor Zorro, y para ello, lo convidó a comer a su casa. El señor Zorro dijo:\n",
      "\n",
      "—¡Enhorabuena! Para los amigos siempre tengo tiempo.\n",
      "\n",
      "A la hora de la cita, el señor Zorro se presentó en casa de la señora Cigüeña, hizo todas las reverencias del caso y se sentó a la mesa, donde encontró la comida servida.\n",
      "\n",
      "La señora Cigüeña había preparado un sabroso guisado, servido en un recipiente de cuello largo y embocadura muy angosta, por donde solo ella podía pasar su pico, mientras que el señor Zorro no podía introducir su hocico.\n",
      "\n",
      "Así, el señor Zorro, el mismo que se daba ínfulas de importante, tuvo que regresar a casa humillado, con las orejas gachas, el rabo entre las piernas y, claro, el estómago vacío.\n",
      "\n",
      "Moraleja: no hagas a los demás lo que no quieres que te hagan a ti.\n",
      "\n",
      "El cuento sobre el zorro y la cigüeña, incluido en las Fábulas de Jean La Fontaine, enseña la norma moral por excelencia, la llamada regla de oro: no hagamos a los otros lo que no nos gustaría que nos hagan. En otras palabras, tratemos a los demás con el respeto y la consideración con que deseamos ser tratados. Hemos hecho una adaptación para todos.\n",
      "\n",
      "4. El gato con botas\n",
      "\n",
      "\n",
      "Datos del Cuento\n",
      "Titulo: El gato con botas\n",
      "Autor: Alexander Dummas\n",
      "Personajes: 2\n",
      "Año: 1846\n",
      "País: Francia\n",
      "Audiencia: Infantil \n",
      "Calificación: Bet Seller\n",
      "\n",
      "Érase una vez un molinero muy pobre que dejó a sus tres hijos por herencia un molino, un asno y un gato. En el reparto, el molino fue para el hijo mayor, el asno para el segundo y el gato para el más joven. Éste último se lamentó de su suerte en cuanto supo cuál era su parte.\n",
      "\n",
      "—¿Qué será de mí? Mis hermanos trabajarán juntos y harán fortuna, pero yo sólo tengo un gato.\n",
      "\n",
      "El gato escuchó las palabras de su joven amo y decidido a ayudarlo, dijo:\n",
      "\n",
      "—No se preocupe mi señor, yo puedo ser más útil y valioso de lo que piensa. Le pido que por favor me regale un saco y un par de botas para andar entre los matorrales.\n",
      "\n",
      "Aunque el joven amo no creyó en las palabras del gato, le dio lo que pedía pues sabía que él era un animal muy astuto.\n",
      "\n",
      "Poniendo su plan en marcha, el gato reunió algunas zanahorias y se fue al bosque a cazar conejos. Con el saco lleno de conejos y sus botas nuevas, se dirigió hacia el palacio real y consiguió ser recibido por el rey.\n",
      "\n",
      "—Su majestad, soy el gato con botas, leal servidor del marqués de Carabás —este fue el primer nombre que se le ocurrió al gato—. El marqués quiere ofrecerle estos regalos.\n",
      "\n",
      "Los conejos agradaron mucho al rey.\n",
      "\n",
      "Al día siguiente, el gato con botas volvió al bosque y atrapó un jabalí. Una vez más, lo presentó al rey, como un regalo del marqués de Carabás.\n",
      "\n",
      "Durante varias semanas, el gato con botas atrapó más animales para presentarlos como regalos al rey. El rey estaba muy complacido con el marqués de Carabás.\n",
      "\n",
      "Un día, el gato se enteró que el rey iba de visita al río en compañía de su hija, la princesa, y le dijo a su amo:\n",
      "\n",
      "—Haga lo que le pido mi señor, vaya al río y báñese en el lugar indicado. Yo me encargaré del resto.\n",
      "\n",
      "El joven amo le hizo caso al gato. Cuando la carroza del rey pasó junto al río, el gato se puso a gritar con todas sus fuerzas:\n",
      "\n",
      "—¡Socorro, socorro! ¡El señor marqués de Carabás se está ahogando!\n",
      "\n",
      "Recordando todos los regalos que el marqués le había dado, el rey ordenó a su guarda a ayudar al joven. Como el supuesto marqués de Carabás se encontraba empapado y su ropa se había perdido en la corriente del río, el rey también ordenó que lo vistieran con el traje más elegante y lo invitó a pasar al carruaje. En el interior del carruaje se encontraba la princesa quien se enamoró inmediatamente del apuesto y elegante marqués de Carabás.\n",
      "\n",
      "El gato, encantado de ver que su plan empezaba a dar resultado, se fue delante de ellos. Al encontrar unos campesinos que cortaban el prado en un enorme terreno, dijo:\n",
      "\n",
      "—Señores campesinos, si el rey llegara a preguntarles a quién pertenecen estas tierras, deben contestarle que pertenecen al marqués de Carabás. Háganlo y recibirán una gran recompensa.\n",
      "\n",
      "Cuando el rey se detuvo a preguntar, los campesinos contestaron al unísono:\n",
      "\n",
      "—Su majestad, estas tierras son de mi señor, el marqués de Carabás.\n",
      "\n",
      "El gato, caminando adelante de la carroza, iba diciendo lo mismo a todos los campesinos que se encontraba. El rey preguntaba lo mismo y con cada respuesta de los campesinos, se asombraba más de la riqueza del señor marqués de Carabás.\n",
      "\n",
      "Finalmente, el ingenioso gato llegó hasta el más majestuoso castillo que tenía por dueño y señor a un horripilante y malvado ogro. De hecho, todas las tierras por las que había pasado el rey pertenecían a este castillo.\n",
      "\n",
      "El gato sabía muy bien quién era el ogro y pidió hablar con él. Para no ser rechazado, le dijo al ogro que le resultaba imposible pasar por su castillo y no tener el honor de darle sus respetos. El ogro sintiéndose adulado le permitió pasar.\n",
      "\n",
      "—Señor, he escuchado que usted tiene el envidiable don de convertirse en cualquier animal que desee —dijo el gato.\n",
      "\n",
      "— Es cierto —respondió el ogro—, y para demostrarlo me convertiré en león.\n",
      "\n",
      "El gato se asustó de tener a un león tan cerca. Sin embargo, estaba decidido a seguir con su elaborado plan.\n",
      "\n",
      "Cuando el ogro volvió a su horripilante forma, el gato dijo:\n",
      "\n",
      "—¡Sus habilidades son extraordinarias! Pero me parecería más extraordinario que usted pudiera convertirse en algo tan pequeño como un ratón.\n",
      "\n",
      "—Claro que sí puedo—respondió el ogro un tanto molesto.\n",
      "\n",
      "Cuando el ogro se convirtió en ratón, el gato lo atrapó de un solo zarpazo y se lo comió.\n",
      "\n",
      "Al escuchar que se acercaba el carruaje, el gato corrió hacia las puertas del castillo para darle la bienvenida al rey:\n",
      "\n",
      "—Bienvenido al castillo del señor marqués de Carabás.\n",
      "\n",
      "—¿Cómo, señor marqués de Carabás? —exclamó el rey—. ¿También este castillo le pertenece?\n",
      "\n",
      "El rey deslumbrado por la enorme fortuna del marqués de Carabás, dio su consentimiento para que se casara con la princesa.\n",
      "\n",
      "Aquel joven que antes fue pobre se había convertido en un príncipe gracias a la astucia de un gato. El joven nunca olvidó los favores del gato con botas y lo recompensó con una capa, un sombrero y un par de botas nuevas.\n",
      "\n",
      "Esta historia de Charles Perrault es uno de los grandes clásicos infantiles es el que se enseña cómo el ingenio y la constancia pueden lograr grandes cosas para quienes se lo proponen.\n",
      "\n",
      "5. Blancanieves y los siete enanitos\n",
      "\n",
      "\n",
      "Datos del Cuento\n",
      "Titulo: Blancanieves\n",
      "Autor: Los Hermanos Gring\n",
      "Personajes: 10\n",
      "Año: 1878\n",
      "País: Alemania\n",
      "Audiencia: Infantil \n",
      "Calificación: Bet Seller\n",
      "\n",
      "Érase una vez una joven y bella princesa llamada Blancanieves que vivía en un reino muy lejano con su padre y madrastra.\n",
      "\n",
      "Su madrastra, la reina, era también muy hermosa, pero arrogante y orgullosa. Se pasaba todo el día contemplándose frente al espejo. El espejo era mágico y cuando se paraba frente a él, le preguntaba:\n",
      "\n",
      "—Espejito, espejito, ¿quién es la más hermosa del reino?\n",
      "\n",
      "Entonces el espejo respondía:\n",
      "\n",
      "— Tú eres la más hermosa de todas las mujeres.\n",
      "\n",
      "La reina quedaba satisfecha, pues sabía que su espejo siempre decía la verdad. Sin embargo, con el pasar de los años, la belleza y bondad de Blancanieves se hacían más evidentes. Por todas sus buenas cualidades, superaba mucho la belleza física de la reina. Y llegó al fin un día en que la reina preguntó de nuevo:\n",
      "\n",
      "—Espejito, espejito, ¿quién es la más hermosa del reino?\n",
      "\n",
      "El espejo contestó:\n",
      "\n",
      "—Blancanieves, a quien su bondad la hace ser aún más bella que tú.\n",
      "\n",
      "La reina se llenó de ira y ordenó la presencia del cazador y le dijo:\n",
      "\n",
      "—Llévate a la joven princesa al bosque y asegúrate de que las bestias salvajes se encarguen de ella.\n",
      "\n",
      "Con engaños, el cazador llevó a Blancanieves al bosque, pero cuando estaba a punto de cumplir las órdenes de la reina, se apiadó de la bella joven y dijo:\n",
      "\n",
      "—Corre, vete lejos, pobre muchacha. Busca un lugar seguro donde vivir.\n",
      "\n",
      "Encontrándose sola en el gran bosque, Blancanieves corrió tan lejos como pudo hasta la llegada del anochecer. Entonces divisó una pequeña cabaña y entró en ella para dormir. Todo lo que había en la cabaña era pequeño. Había una mesa con un mantel blanco y siete platos pequeños, y con cada plato una cucharita. También, había siete pequeños cuchillos y tenedores, y siete jarritas llenas de agua. Contra la pared se hallaban siete pequeñas camas, una junto a la otra, cubiertas con colchas tan blancas como la nieve.\n",
      "\n",
      "Blancanieves estaba tan hambrienta y sedienta que comió un poquito de vegetales y pan de cada platito y bebió una gota de cada jarrita. Luego, quiso acostarse en una de las camas, pero ninguna era de su medida, hasta que finalmente pudo acomodarse en la séptima.\n",
      "\n",
      "Cuando ya había oscurecido, regresaron los dueños de la cabaña. Eran siete enanos que cavaban y extraían oro y piedras preciosas en las montañas. Ellos encendieron sus siete linternas, y observaron que alguien había estado en la cabaña, pues las cosas no se encontraban en el mismo lugar.\n",
      "\n",
      "El primero dijo: —¿Quién se ha sentado en mi silla?\n",
      "\n",
      "El segundo dijo: —¿Quién comió de mi plato?\n",
      "\n",
      "El tercero dijo: —¿Quién mordió parte de mi pan?\n",
      "\n",
      "El cuarto dijo: —¿Quién tomó parte de mis vegetales?\n",
      "\n",
      "El quinto dijo: —¿Quién usó mi tenedor?\n",
      "\n",
      "El sexto dijo: —¿Quién usó mi cuchillo?\n",
      "\n",
      "El séptimo dijo: —¿Quién bebió de mi jarra?\n",
      "\n",
      "Entonces el primero observó una arruga en su cama y dijo: —Alguien se ha metido en mi cama.\n",
      "\n",
      "Y los demás fueron a revisar sus camas, diciendo: —Alguien ha estado en nuestras camas también.\n",
      "\n",
      "Pero cuando el séptimo miró su cama, encontró a Blancanieves durmiendo plácidamente y llamó a los demás:\n",
      "\n",
      "—¡Oh, cielos! —susurraron—. Qué encantadora muchacha\n",
      "\n",
      "Cuando llegó el amanecer, Blancanieves se despertó muy asustada al ver a los siete enanos parados frente a ella. Pero los enanos eran muy amistosos y le preguntaron su nombre.\n",
      "\n",
      "—Mi nombre es Blancanieves —respondió—, y les contó todo acerca de su malvada madrastra.\n",
      "\n",
      "Los enanos dijeron:\n",
      "\n",
      "—Si puedes limpiar nuestra casa, cocinar, tender las camas, lavar, coser y tejer, puedes quedarte todo el tiempo que quieras—. Blancanieves aceptó feliz y se quedó con ellos.\n",
      "\n",
      "Pasó el tiempo y un día, la reina decidió consultar a su espejo y descubrió que la princesa vivía en el bosque. Furiosa, envenenó una manzana y tomó la apariencia de una anciana.\n",
      "\n",
      "— Un bocado de esta manzana hará que Blancanieves duerma para siempre — dijo la malvada reina.\n",
      "\n",
      "Al día siguiente, los enanos se marcharon a trabajar y Blancanieves se quedó sola.\n",
      "\n",
      "Poco después, la reina disfrazada de anciana se acercó a la ventana de la cocina. La princesa le ofreció un vaso de agua.\n",
      "\n",
      "—Eres muy bondadosa —dijo la anciana—. Toma esta manzana como gesto de agradecimiento.\n",
      "\n",
      "En el momento en que Blancanieves mordió la manzana, cayó desplomada. Los enanos, alertados por los animales del bosque, llegaron a la cabaña mientras la reina huía. Con gran tristeza, colocaron a Blancanieves en una urna de cristal. Todos tenían la esperanza de que la hermosa joven despertase un día.\n",
      "\n",
      "Y el día llegó cuando un apuesto príncipe que cruzaba el bosque en su caballo, vio a la hermosa joven en la urna de cristal y maravillado por su belleza, le dio un beso en la mejilla, la joven despertó al haberse roto el hechizo. Blancanieves y el príncipe se casaron y vivieron felices para siempre.\n",
      "\n",
      "Aunque la historia de Blancanieves ya ha sido contada en múltiples ocasiones, esta versión de los hermanos Grimm siempre resulta una buena ocpión para que los niños puedan aprender el valor de la humildad y la amistad.\n",
      "\n",
      "Puedes revisar aquí Cuentos de princesas para encantar a los niños\n",
      "\n",
      "6. El nacimiento de la col\n",
      "Col o repollo\n",
      "\n",
      "Datos del Cuento\n",
      "Titulo: El nacimiento de la col\n",
      "Autor: Gaspar Ospina\n",
      "Personajes: 2\n",
      "Año: 1826\n",
      "País: España\n",
      "Audiencia: Infantil \n",
      "Calificación: Bet Seller\n",
      "\n",
      "En el paraíso terrenal, en el día luminoso en que las flores fueron creadas, y antes de que Eva fuese tentada por la serpiente, el maligno espíritu se acercó a la más linda rosa nueva en el momento en que ella tendía, a la caricia del celeste sol, la roja virginidad de sus labios.\n",
      "\n",
      "—Eres bella.\n",
      "\n",
      "—Lo soy —dijo la rosa.\n",
      "\n",
      "—Bella y feliz —prosiguió el diablo—. Tienes el color, la gracia y el aroma. Pero…\n",
      "\n",
      "—¿Pero?...\n",
      "\n",
      "—No eres útil. ¿No miras esos altos árboles llenos de bellotas? Ésos, a más de ser frondosos, dan alimento a muchedumbres de seres animados que se detienen bajo sus ramas. Rosa, ser bella es poco…\n",
      "\n",
      "La rosa entonces —tentada como después lo sería la mujer- deseó la utilidad, de tal modo que hubo palidez en su púrpura.\n",
      "\n",
      "Pasó el buen Dios después del alba siguiente.\n",
      "\n",
      "—Padre —dijo aquella princesa floral, temblando en su perfumada belleza—, ¿queréis hacerme útil?\n",
      "\n",
      "—Sea, hija mía —contestó el Señor, sonriendo.\n",
      "\n",
      "Y entonces vio el mundo la primera col.\n",
      "\n",
      "Aunque la col no es el alimento más popular entre los más pequeños, Rubén Darío ayuda a explicar la importancia y dignidad que tiene en este relato cargado de tonos míticos.\n",
      "\n",
      "7. La cenicienta\n",
      "\n",
      "\n",
      "Datos del Cuento\n",
      "Titulo: La cenicienta\n",
      "Autor: Gaspar Ospina\n",
      "Personajes: 2\n",
      "Año: 1826\n",
      "País: Francia\n",
      "Audiencia: Infantil \n",
      "Calificación: Bet Seller\n",
      "\n",
      "Érase una vez un hombre bueno que tuvo la desgracia de quedar viudo al poco tiempo de haberse casado. Años después conoció a una mujer muy mala y arrogante, pero que pese a eso, logró enamorarle.\n",
      "\n",
      "Ambos se casaron y se fueron a vivir con sus hijas. La mujer tenía dos hijas tan arrogantes como ella, mientras que el hombre tenía una única hija dulce, buena y hermosa como ninguna otra. Desde el principio las dos hermanas y la madrastra hicieron la vida imposible a la muchacha. Le obligaban a llevar viejas y sucias ropas y a hacer todas las tareas de la casa. La pobre se pasaba el día barriendo el suelo, fregando los cacharros y haciendo las camas, y por si esto no fuese poco, hasta cuando descansaba sobre las cenizas de la chimenea se burlaban de ella.\n",
      "\n",
      "- ¡Cenicienta! ¡Cenicienta! ¡Mírala, otra vez va llena de cenizas!\n",
      "\n",
      "Pero a pesar de todo ella nunca se quejaba.\n",
      "\n",
      "Un día oyó a sus hermanas decir que iban a acudir al baile que daba el hijo del Rey. A Cenicienta le apeteció mucho ir, pero sabía que no estaba hecho para una muchacha como ella.\n",
      "\n",
      "Planchó los vestidos de sus hermanas, las ayudó a vestirse y peinarse y las despidió con tristeza. Cuando estuvo sola rompió a llorar de pena por no poder ir al baile. Entonces, apareció su hada madrina:\n",
      "\n",
      "- ¿Qué ocurre Cenicienta? ¿Por qué lloras de esa manera?\n",
      "\n",
      "- Porque me gustaría ir al baile como mis hermanas, pero no tengo forma.\n",
      "\n",
      "- Mmmm… creo que puedo solucionarlo, dijo esbozando una amplia sonrisa.\n",
      "\n",
      "Cenicienta recorrió la casa en busca de lo que le pidió su madrina: una calabaza, seis ratones, una rata y seis lagartos. Con un golpe de su varita los convirtió en un magnífico carruaje dorado tirado por seis corceles blancos, un gentil cochero y seis serviciales lacayos.\n",
      "\n",
      "- ¡Ah sí, se me olvidaba! - dijo el hada madrina.\n",
      "\n",
      "Y en un último golpe de varita convirtió sus harapos en un magnífico vestido de tisú de oro y plata y cubrió sus pies con unos delicados zapatitos de cristal.\n",
      "\n",
      "- Sólo una cosa más Cenicienta. Recuerda que el hechizo se romperá a las doce de la noche, por lo que debes volver antes.\n",
      "\n",
      "Cuando Cenicienta llegó al palacio se hizo un enorme silencio. Todos admiraban su belleza mientras se preguntaban quién era esa hermosa princesa. El príncipe no tardó en sacarla a bailar y desde el instante mismo en que pudo contemplar su belleza de cerca, no pudo dejarla de admirar.\n",
      "\n",
      "A Cenicienta le ocurría lo mismo y estaba tan a gusto que no se dio cuenta de que estaban dando las doce. Se levantó y salió corriendo de palacio. El príncipe, preocupado, salió corriendo también aunque no pudo alcanzarla. Tan sólo a uno de sus zapatos de cristal, que la joven perdió mientras corría.\n",
      "\n",
      "Días después llegó a casa de Cenicienta un hombre desde palacio con el zapato de cristal. El príncipe le había dado orden de que se lo probaran todas las mujeres del reino hasta que encontrara a su propietaria. Así que se lo probaron las hermanastras, y aunque hicieron toda clase de esfuerzos, no lograron meter su pie en él. Cuando llegó el turno de Cenicienta se echaron a reír, y hasta dijeron que no hacía falta que se lo probara porque de ninguna forma podía ser ella la princesa que buscaban. Pero Cenicienta se lo probó y el zapatito le quedó perfecto.\n",
      "\n",
      "De modo que Cenicienta y el príncipe se casaron y fueron muy felices y la joven volvió a demostrar su bondad perdonando a sus hermanastras y casándolas con dos señores de la corte.\n",
      "\n",
      "Este es uno de los clásicos indiscutibles que no puede faltar en el repertorio de cualquier lectura infantil. Esta versión de Charles Perrault mueestra cómo la bondad y la esperanza son recompensadas.\n",
      "\n",
      "8. El conejito\n",
      "cuentos cortos\n",
      "\n",
      "A un conejito se le ocurrió echar a correr.\n",
      "\n",
      "Corría y corría, y no dejaba de correr.\n",
      "\n",
      "Corría tanto que pronto se encontró frente a un huerto cercado.\n",
      "\n",
      "—Éste debe ser un huerto muy rico porque está cercado —dijo el conejito—. Yo quiero entrar. Veo un agujero, pero no sé si podré entrar por él.\n",
      "\n",
      "¡Hop! ¡Hop! ¡Hop!\n",
      "\n",
      "Sí que pudo entrar el conejito en el huerto por aquel agujero que había visto. Y una vez dentro, se sintió feliz.\n",
      "\n",
      "—¡Aquí tengo yo una buena comida! ¡Menudo atracón voy a darme!\n",
      "\n",
      "El animalito se puso a comer, y no se cansaba de comer en las berzas, en las habas y en las coles.\n",
      "\n",
      "Comió durante todo el día. Y así que el día llegó a su fin, dijo el conejito:\n",
      "\n",
      "—Ahora yo debo marchar a casa. En casa me aguarda mi madre. Se me había olvidado mientras comía.\n",
      "\n",
      "Tres veces intentó salir por el pequeño agujero y no lo consiguió ni en la primera, ni la segunda, ni la tercera vez.\n",
      "\n",
      "—¡Ay, madre mía! -gritó-. No puedo salir. Este agujero es demasiado pequeño. Me he pasado el día comiendo y ahora estoy demasiado grueso. ¡Ay, que no puedo salir! Ay, madre mía.\n",
      "\n",
      "En esto llegó un perro al huerto y vio al conejito.\n",
      "\n",
      "—¡Guau! ¡Guau! ¡Guau! -dijo—. Hoy estoy de broma y veo un conejo. Voy a bromear con él.\n",
      "\n",
      "Echó a correr el perro bromista derecho al conejito.\n",
      "\n",
      "—Un perro viene -dijo asustado—. ¡Un perro viene! ¡Con lo poco que a mí me gustan los perros!\n",
      "\n",
      "Yo debo salir de aquí. ¡Ay, madre mía!\n",
      "\n",
      "El conejito corrió, y corriendo vio un agujero grande.\n",
      "\n",
      "—Por aquí me escapo —dijo—. A mí no me gustan los perros. Ya estoy fuera del huerto y lejos de los colmillos del perro. ¡Gracias a mi vista y a mis patas!\n",
      "\n",
      "Efectivamente, cuando el perro salió por el agujero grande detrás del conejito, éste ya se encontraba en los brazos de su madre, en la madriguera. Y su madre le reñía diciendo:\n",
      "\n",
      "—Eres un conejo muy loco. Me vas a matar a sustos. ¿Qué has hecho por ahí todo el día?\n",
      "\n",
      "Y el conejito, avergonzado, se rascó la barriga.\n",
      "\n",
      "Este cuento de Miguel Hernández se centra en un conejito inquieto y aventurero que pasa un gran susto a causa de su audacia. Así, termina avergonzado frente a su mamá, a donde corre para resguardarse.\n",
      "\n",
      "9. El monólogo del mal\n",
      "El bien y el mal\n",
      "\n",
      "Un día el Mal se encontró frente a frente con el Bien y estuvo a punto de tragárselo para acabar de una buena vez con aquella disputa ridícula; pero al verlo tan chico el Mal pensó:\n",
      "\n",
      "«Esto no puede ser más que una emboscada; pues si yo ahora me trago al Bien, que se ve tan débil, la gente va a pensar que hice mal, y yo me encogeré tanto de vergüenza que el Bien no desperdiciará la oportunidad y me tragará a mí, con la diferencia de que entonces la gente pensará que él sí hizo bien, pues es difícil sacarla de sus moldes mentales consistentes en que lo que hace el Mal está mal y lo que hace el Bien está bien».\n",
      "\n",
      "Y así el Bien se salvó una vez más.\n",
      "\n",
      "El monólogo del mal de Augusto Monterroso, nos hace reflexionar sobre cómo el bien se las ingenia para mantenerse vivo, a pesar de que el mal parece enorme a nuestros ojos. El cuento se encuentra en el libro La oveja negra y demás fábulas.\n",
      "\n",
      "10. El diente roto\n",
      "Diente roto\n",
      "\n",
      "A los doce años, combatiendo Juan Peña con unos granujas, recibió un guijarro sobre un diente; la sangre corrió lavándole el sucio de la cara, y el diente se partió en forma de sierra. Desde ese día principia la edad de oro de Juan Peña.\n",
      "\n",
      "Con la punta de la lengua, Juan tentaba sin cesar el diente roto; el cuerpo inmóvil, vaga la mirada —sin pensar. Así de alborotador y pendenciero, tornóse en callado y tranquila.\n",
      "\n",
      "Los padres de Juan, hartos de escuchar quejas de los vecinos y transeúntes víctimas de las perversidades del chico, y que habían agotado toda clase de reprimendas y castigos, estaban ahora estupefactos y angustiados con la súbita transformación de Juan.\n",
      "\n",
      "Juan no chistaba y permanecía horas enteras en actitud hierática, como en éxtasis; mientras, allá adentro, en la oscuridad de la boca cerrada, su lengua acariciaba el diente roto —sin pensar.\n",
      "\n",
      "—El niño no está bien, Pablo —decía la madre al marido—; hay que llamar al médico.\n",
      "\n",
      "Llegó el doctor grave y panzudo y procedió al diagnóstico: buen pulso, mofletes sanguíneos, excelente apetito, ningún síntoma de enfermedad.\n",
      "\n",
      "—Señora —terminó por decir el sabio después de un largo examen—, la santidad de mi profesión me impone declarar a usted…\n",
      "\n",
      "—¿Qué, señor doctor de mi alma? —interrumpió la angustiada madre.\n",
      "\n",
      "—Que su hijo está mejor que una manzana. Lo que sí es indiscutible —continuó con voz misteriosa—, es que estamos en presencia de un caso fenomenal: su hijo de usted, mi estimable señora, sufre de lo que hoy llamamos el mal de pensar; en una palabra, su hijo es un filósofo precoz, un genio tal vez.\n",
      "\n",
      "En la oscuridad de la boca, Juan acariciaba su diente roto —sin pensar.\n",
      "\n",
      "Parientes y amigos se hicieron eco de la opinión del doctor, acogida con júbilo indecible por los padres de Juan. Pronto en el pueblo todo, se citó el caso admirable del «niño prodigio», y su fama se aumentó como una bomba de papel hinchada de humo. Hasta el maestro de escuela, que lo había tenido por la más lerda cabeza del orbe, se sometió a la opinión general, por aquello de que voz del pueblo es voz del cielo. Quien más, quien menos, cada cual traía a colación un ejemplo: Demóstenes comía arena, Shakespeare era un pilluelo desarrapado, Edison, etcétera.\n",
      "\n",
      "Creció Juan Peña en medio de libros abiertos ante sus ojos, pero que no leía, distraído por la tarea de su lengua ocupada en tocar la pequeña sierra del diente roto —sin pensar.\n",
      "\n",
      "Y con su cuerpo crecía su reputación de hombre juicioso, sabio y «profundo», y nadie se cansaba de alabar el talento maravilloso de Juan. En plena juventud, las más hermosas mujeres trataban de seducir y conquistar aquel espíritu superior, entregado a hondas meditaciones, para los demás, pero que en la oscuridad de su boca tentaba el diente roto —sin pensar.\n",
      "\n",
      "Pasaron meses y años, y Juan Peña fue diputado, académico, ministro, y estaba a punto de ser coronado Presidente de la República, cuando la apoplejía lo sorprendió acariciándose su diente roto con la punta de la lengua.\n",
      "\n",
      "Y doblaron las campanas, y fue decretado un riguroso duelo nacional; un orador lloró en una fúnebre oración a nombre de la patria, y cayeron rosas y lágrimas sobre la tumba del grande hombre que no había tenido tiempo de pensar.\n",
      "\n",
      "Este cuento ha sido una de las obras más celebradas del escritor venezolano Pedro Emilio Coll, pues reflexiona sobre cómo la gente se engaña a sí misma por su falta de atención y por sus prejuicios.\n",
      "\n",
      "11. El avaro y el oro\n",
      "Cofre de oro\n",
      "\n",
      "Un avaro que tenía muchas riquezas, las vendió todas para comprar con el dinero una única pieza de oro. Para que no se perdiera y la durara para siempre, el avaro la enterró próxima a una pared antigua y todos los días iba a cerciorarse de que siguiera allí, sin notar que un vecino siempre lo veía pasar.\n",
      "\n",
      "Curioso, el vecino fue un día a aquel lugar para descubrir el misterio. Cuando vio que se trataba de un tesoro, lo desenterró y se robó la pieza de oro.\n",
      "\n",
      "Al día siguiente, el avaro encontró el agujero vacío, y se lamentaba de lo que había perdido.\n",
      "\n",
      "Pero otro vecino lo vio, y al conocer el motivo de sus lamentaciones, le dijo:\n",
      "\n",
      "—Agradece que no ha pasado nada grave. Toma una piedra, sepúltala en el agujero y haz de cuenta de que el oro sigue allí. Da lo mismo si es oro o no, porque por tu avaricia, jamás le ibas a sacar provecho.\n",
      "\n",
      "Moraleja: No acumules cosas por acumularlas. Estas no tienen valor por su apariencia, sino por su utilidad y provecho.\n",
      "\n",
      "El cuento sobre el avaro y el oro, recogido en las fábulas de Esopo, critica a quienes acumulan riquezas simplemente por el mero propósito de poseerlas, pero son incapaces de disfrutarlas ni darles uso alguno. Las cosas deben valorarse por su utilidad concreta, y no simplemente por su apariencia.\n",
      "\n",
      "12. La gatita Mancha y el ovillo rojo\n",
      "cuentos cortos\n",
      "\n",
      "Había un ovillo en el costurero. Era un ovillo muy grande y muy rojo. Era un ovillo muy bonito. La gatita Mancha dijo al verlo:\n",
      "\n",
      "¡Miaumero! ¡Miaumero!\n",
      "Una pelota roja.\n",
      "Yo la quiero. Yo la quiero,\n",
      "aunque me quede coja.\n",
      "Yo llegaré hasta el costurero.\n",
      "El costurero está muy alto.\n",
      "Pero todo será cuestión\n",
      "de dar valientemente un salto\n",
      "aunque me lleve un coscorrón.\n",
      "\n",
      "Saltó la gatita Mancha. Cayó dentro del costurero. El costurero, el ovillo rojo y la gatita Mancha cayeron de la mesa y rodaron por el suelo.\n",
      "\n",
      "Dijo la gatita:\n",
      "\n",
      "¡Miaumiar! ¡Miaumiar!\n",
      "¡Yo no puedo correr!\n",
      "¡Yo no puedo saltar!\n",
      "¡Yo no puedo ni un pelo mover!\n",
      "¿Quién me quiere ayudar?\n",
      "\n",
      "Al oírla, vino Ruizperillo. Y vino su madre. Y la hermanita de Ruizperillo también vino. Y toda la familia de Ruizperillo vino a ver a la gatita Mancha enredada en el ovillo. Todos reían viéndola cada vez más enredada en el algodón del ovillo rojo.\n",
      "\n",
      "La madre de Ruizperillo dijo:\n",
      "\n",
      "Mancha, Manchita,\n",
      "usted está de broma.\n",
      "Ahora necesita\n",
      "mi ayuda, gatita, paloma.\n",
      "\n",
      "Este ovillo\n",
      "no es para una gata pequeña,\n",
      "sino para una que enseña\n",
      "viejo el solomillo,\n",
      "vieja la nariz y aguileña.\n",
      "\n",
      "No sabe usted\n",
      "bordar ni coser,\n",
      "gatita de dientes\n",
      "y uñas de alfiler.\n",
      "\n",
      "Toda la familia de Ruizperillo rio hasta que la gatita Mancha salió de su cárcel de algodón. Entonces, Ruizperillo dejó en el suelo su pelota de goma para que Mancha jugara con ella. Y la gatita asustada echó a correr asustada diciendo:\n",
      "\n",
      "¡Fus! ¡Fus! ¡Parrafús!\n",
      "Porque el gato más valiente,\n",
      "si sale escaldado un día,\n",
      "huye del agua caliente,\n",
      "pero, además, de la fría.\n",
      "\n",
      "Miguel Hernández es un poeta español del siglo XX. Nos ofrece este gracioso relato, parte en prosa, parte en verso, en el que una gatita traviesa se ve en problemas por ponerse a jugar con cosas que no son de su edad.\n",
      "\n",
      "13. Las vacas que dan leche con sabor\n",
      "cuentos cortos\n",
      "\n",
      "Ustedes conocen esa canción de las vacas que dan leche con chocolate y leche condensada. Bueno, hay muchos científicos que han quedado traumados desde niños intentando lograr esto, hasta que llegó Hans Fritz Chucrut para solucionar este problema.\n",
      "\n",
      "“Solucionar”, esa era su idea.\n",
      "\n",
      "El profesor Chucrut investigó el tema durante muchos años, mientras destacaba por otros inventos. Alimentó a una vaca solo con chocolate, pero no dio resultado y quedó súper acelerada la pobre. A otra le dio kilos de azúcar, pero solo le salieron caries. A otra la llenó de manjar hasta que se volvió vegetariana de puro odio al manjar.\n",
      "\n",
      "“¿Será algo de la mente?”, pensó el inventor.\n",
      "\n",
      "Entonces pintó a una vaca de color frutilla, pero nada. Después pintó a una amarillo —por la vainilla, no por el plátano—, pero tampoco. Entonces subió a una vaca a un helicóptero, para ver si después daba leche batida. Pero no. La pobre vaca se mareó y nada más. La leche salió normalita y el pobre animal no pudo pararse durante dos días. Fue entonces que las vacas se organizaron para protestar, porque estaban aburridas de los abusos del profesor. Y desde ese día declararon una huelga y dieron pura leche en polvo.\n",
      "\n",
      "Las vacas que dan leche con sabor es un cuento del escritor Esteban Cabezas y está incluido en una antología llamada Un cuento al día, editada por el Consejo Nacional de la Cultura y las Artes de Chile. Este relato nos hace reír con su fino sentido del humor. Además, está cargado de imágenes que los niños adorarán y que harán reír a los adultos.\n",
      "\n",
      "14. El burro canelo\n",
      "Burro\n",
      "\n",
      "Tras un día de camino para encontrar al hijo que regresaba del colegio después de algunos años de ausencia, el padre tuvo el primer disgusto. Apenas se habían saludado, el muchacho en lugar de preguntar por su madre, por los hermanos o al menos por la abuela, ansiosamente le dijo:\n",
      "\n",
      "—Padre, ¿y el burro canelo?\n",
      "\n",
      "—El burro canelo… se murió de roña, de garrapatas y de viejo.\n",
      "\n",
      "Al muchacho se le habían olvidado costumbres y hasta los nombres de las cosas que lo rodearon desde que nació. ¡Cómo era posible que para montar pusiera en el estribo el pie derecho! Pero el asombro del padre fue mayor cuando el chico preguntó con gran curiosidad si aquello era trigo o arroz al pasar junto a unos campos sembrados de maíz.\n",
      "\n",
      "Mientras el muchacho descansaba, el padre sorprendido y triste informó a su esposa lo ocurrido. La madre no quiso darle mucho crédito, pero cuando llegó la hora de la cena, la mujer sintió el mismo desencanto. El muchacho solo hablaba de la ciudad. Uno de sus maestros le había dicho que el jorongo se llamaba “clámide”, y el huarache, el sufrido huarache del arriero, se le llama “coturno”.\n",
      "\n",
      "La madre había preparado para su hijo querido lo que más le gustaba: atole de maíz tierno, con piloncillo y canela. Cuando se lo sirvió, caliente y oloroso, el hijo hizo la más absurda pregunta de cuantas había hecho:\n",
      "\n",
      "—Madre, ¿cómo se llama esto?\n",
      "\n",
      "Y mientras esperaba la respuesta se puso a menear el atole con un circular ir y venir de la cuchara.\n",
      "\n",
      "—Al menos, si has olvidado el nombre, no has olvidado el meneadillo —dijo la madre suspirando.\n",
      "\n",
      "Gregorio López y Fuentes nos cuenta la historia de un niño que, tras irse a estudiar a la ciudad, regresa a su tierra natal con ínfulas de saber mucho y de haber olvidado sus orígenes. Aunque entristecidos, sus padres encuentran ocasión para hacerle reflexionar.\n",
      "\n",
      "15. Los juguetes\n",
      "cuentos cortos\n",
      "\n",
      "Cuando mi madre estuvo grave, nosotros salimos de nuestro hogar. Mi abuela se llevó a mis hermanos más chicos y yo fui a la casa que era la más lujosa del pueblo. Mi compañero de banca vivía allí.\n",
      "\n",
      "La casa no me gustó desde que llegué a ella.\n",
      "\n",
      "La madre de mi compañero era una señora que andaba siempre recomendando silencio. Los criados eran serios y tristes. Hablaban como en secreto y se deslizaban por las piezas enormes como sombras. Las alfombras atenuaban los ruidos y las paredes tenían retratos de hombres graves, de caras apretadas por largas patillas.\n",
      "\n",
      "Los niños jugaban en la sala de los juguetes sin hacer ruido. Fuera de aquella sala no se podía jugar. Estaba prohibido. Los juguetes estaban alineados cada uno en su lugar, como los frascos en las boticas.\n",
      "\n",
      "Parecía que con aquellos juguetes no hubiera jugado nadie. Yo hasta entonces había jugado siempre con piedras, con tierra, con perros y con niños. Pero nunca con juguetes como aquellos. Como no podía vivir allí, mi padrino don Bernardo me llevó a su casa.\n",
      "\n",
      "En lo de mi padrino había vacas, mulas, caballos, gallinas, un horno de cocer pan y un cobertizo para guardar el maíz y alfalfa. La cocina era grande como un barco. En el centro tenía un picadero de leña enterrado en el suelo. Cerca de la chimenea una llanta de carreta reunía pavas, parrillas y hombres. Pájaros y gallinas entraban y salían.\n",
      "\n",
      "Mi padrino se levantaba a las cinco de la mañana, y comenzaba a partir la leña. Los golpes que daba con el hacha resonaban por toda la casa. Una vaca mimosa venía hasta la puerta y mugía apenas lo veía. Luego un concierto de golpes, balidos, gritos, cacarear y batir de las alas, conmovían la casa. A veces al entrar en las piezas, el vuelo asustado de un pájaro que se sorprendía nos paraba indecisos. Era una casa viva y trepidante.\n",
      "\n",
      "La leche espumosa y el pan casero, suave y dorado, nos acercaba a todos a la mesa como a un altar.\n",
      "\n",
      "Nuestras mañanas transcurrían en el granero oloroso de alfalfa. De unos agujeros altos, que el sol perforaba, caían hacia el piso unas listas de luz donde danzaba el polvo.\n",
      "\n",
      "Las ratoneras entraban y salían por todos lados, pues allí había muchísimas.\n",
      "\n",
      "En casa de mi padrino supe que los juguetes y los juegos que hacen felices a los niños no están en las jugueterías.\n",
      "\n",
      "Este hermoso cuento del uruguayo Juan José Morosoli nos recuerda que la verdadera diversión no está en las mercancías de una juguetería. Cuando eres alegre y bien dispuesto, encuentras en todo lo que te rodea la oportunidad de jugar. Este cuento fue publicado por primera vez en la edición del libro Perico, 15 relatos para niños, en 1945.\n",
      "\n",
      "16. El sobrio y el glotón\n",
      "Glotón\n",
      "\n",
      "Había en un lugarón\n",
      "dos hombres de mucha edad,\n",
      "uno de gran sobriedad\n",
      "y el otro gran comilón.\n",
      "\n",
      "La mejor salud del mundo\n",
      "gozaba siempre el primero,\n",
      "estando de enero a enero\n",
      "débil y enteco el segundo.\n",
      "\n",
      "— ¿Por qué —el tragón dijo un día— ,\n",
      "comiendo yo mucho más\n",
      "tú mucho más gordo estás?\n",
      "No lo comprendo, a fe mía.\n",
      "\n",
      "— Es —le replicó el frugal—\n",
      "y muy presente lo ten,\n",
      "porque yo digiero bien,\n",
      "porque tú digieres mal.\n",
      "\n",
      "Haga de esto aplicación\n",
      "el pedante presumido\n",
      "si porque mucho ha leído\n",
      "cree tener instrucción,\n",
      "y siempre que a juzgar fuere\n",
      "la regla para sí tome:\n",
      "No nutre lo que se come,\n",
      "sino lo que se digiere.\n",
      "\n",
      "Concepción Arenal nos ofrece un interesante cuento rimado para explicar que el verdadero conocimiento no proviene de atragantarse con información, sino de saber nutrir el pensamiento. Para ello, la autora entrega una genial paradoja: un hombre sobrio que come poco pero es robusto, y un glotón que está desnutrido.\n",
      "\n",
      "17. Fábula de la avispa ahogada\n",
      "cuentos cortos\n",
      "\n",
      "La avispa aquel día\n",
      "desde la mañana,\n",
      "como de costumbre,\n",
      "bravísima andaba.\n",
      "El día era hermoso\n",
      "la brisa liviana;\n",
      "cubierta la tierra\n",
      "de flores estaba\n",
      "y mil pajaritos\n",
      "los aires cruzaban.\n",
      "\n",
      "Pero a nuestra avispa\n",
      "—nuestra avispa brava—\n",
      "nada le atraía,\n",
      "no veía nada\n",
      "por ir como iba\n",
      "comida de rabia.\n",
      "\n",
      "“Adiós”, le dijeron\n",
      "unas rosas blancas,\n",
      "y ella ni siquiera\n",
      "se volvió a mirarlas\n",
      "por ir abstraída,\n",
      "torva, ensimismada,\n",
      "con la furia sorda\n",
      "que la devoraba.\n",
      "\n",
      "“Buen día”, le dijo\n",
      "la abeja, su hermana,\n",
      "y ella que de furia\n",
      "casi reventaba,\n",
      "por toda respuesta\n",
      "he echó una roncada\n",
      "que a la pobre abeja\n",
      "dejó anonadada.\n",
      "\n",
      "Ciega como iba\n",
      "la avispa de rabia,\n",
      "repentinamente,\n",
      "como en una trampa,\n",
      "se encontró metida\n",
      "dentro de una casa.\n",
      "Echando mil pestes\n",
      "al verse encerrada,\n",
      "en vez de ponerse\n",
      "serena y con calma\n",
      "a buscar por donde\n",
      "salir de la estancia,\n",
      "¿sabéis lo que hizo?\n",
      "\n",
      "¡Se puso más brava!\n",
      "Se puso en los vidrios\n",
      "a dar cabezadas,\n",
      "sin ver en su furia\n",
      "que a corta distancia\n",
      "ventanas y puertas\n",
      "abiertas estaban;\n",
      "y como en la ira\n",
      "que la dominaba\n",
      "casi no veía\n",
      "por donde volaba,\n",
      "en una embestida\n",
      "que dio de la rabia\n",
      "cayó nuestra avispa\n",
      "en un vaso de agua.\n",
      "\n",
      "¡Un vaso pequeño,\n",
      "menor que una cuarta\n",
      "donde hasta un mosquito\n",
      "nadando se salva!\n",
      "Pero nuestra avispa,\n",
      "nuestra avispa brava,\n",
      "más brava se puso\n",
      "al verse mojada,\n",
      "y en vez de ocuparse,\n",
      "la muy insensata,\n",
      "de ganar la orilla\n",
      "batiendo las alas\n",
      "se puso a echar pestes\n",
      "y a tirar picadas\n",
      "y a lanzar conjuros\n",
      "y a emitir mentadas,\n",
      "y así, poco a poco,\n",
      "fue quedando exhausta\n",
      "hasta que, furiosa,\n",
      "pero emparamada,\n",
      "terminó la avispa\n",
      "por morir ahogada.\n",
      "\n",
      "Tal como la avispa\n",
      "que cuenta esta fábula,\n",
      "el mundo está lleno\n",
      "de personas bravas,\n",
      "que infunden respeto\n",
      "por su mala cara,\n",
      "que se hacen famosas\n",
      "debido a sus rabias\n",
      "y al final se ahogan\n",
      "en un vaso de agua.\n",
      "\n",
      "La fábula de la avispa ahogada, escrita por Aquiles Nazoa, advierte a sus lectores sobre las consecuencias del mal humor y la ira, los cuales nublan el entendimiento y causan desorientación.\n",
      "\n",
      "18. A Margarita Debayle\n",
      "Niña estrellas\n",
      "\n",
      "Margarita está linda la mar,\n",
      "y el viento,\n",
      "lleva esencia sutil de azahar;\n",
      "yo siento\n",
      "en el alma una alondra cantar;\n",
      "tu acento:\n",
      "Margarita, te voy a contar\n",
      "un cuento:\n",
      "\n",
      "Esto era un rey que tenía\n",
      "un palacio de diamantes,\n",
      "una tienda hecha de día\n",
      "y un rebaño de elefantes,\n",
      "un kiosko de malaquita,\n",
      "un gran manto de tisú,\n",
      "y una gentil princesita,\n",
      "tan bonita,\n",
      "Margarita,\n",
      "tan bonita como tú.\n",
      "\n",
      "Una tarde, la princesa\n",
      "vio una estrella aparecer;\n",
      "la princesa era traviesa\n",
      "y la quiso ir a coger.\n",
      "La quería para hacerla\n",
      "decorar un prendedor,\n",
      "con un verso y una perla\n",
      "y una pluma y una flor.\n",
      "\n",
      "Las princesas primorosas\n",
      "se parecen mucho a ti:\n",
      "cortan lirios, cortan rosas,\n",
      "cortan astros. Son así.\n",
      "Pues se fue la niña bella,\n",
      "bajo el cielo y sobre el mar,\n",
      "a cortar la blanca estrella\n",
      "que la hacía suspirar.\n",
      "\n",
      "Y siguió camino arriba,\n",
      "por la luna y más allá;\n",
      "más lo malo es que ella iba\n",
      "sin permiso de papá.\n",
      "Cuando estuvo ya de vuelta\n",
      "de los parques del Señor,\n",
      "se miraba toda envuelta\n",
      "en un dulce resplandor.\n",
      "\n",
      "Y el rey dijo: «¿Qué te has hecho?\n",
      "te he buscado y no te hallé;\n",
      "y ¿qué tienes en el pecho\n",
      "que encendido se te ve?».\n",
      "La princesa no mentía.\n",
      "Y así, dijo la verdad:\n",
      "«Fui a cortar la estrella mía\n",
      "a la azul inmensidad».\n",
      "\n",
      "Y el rey clama: «¿No te he dicho\n",
      "que el azul no hay que cortar?\n",
      "¡Qué locura!, ¡Qué capricho!...\n",
      "El Señor se va a enojar».\n",
      "Y ella dice: «No hubo intento;\n",
      "yo me fui no sé por qué.\n",
      "Por las olas por el viento\n",
      "fui a la estrella y la corté».\n",
      "\n",
      "Y el papá dice enojado:\n",
      "«Un castigo has de tener:\n",
      "vuelve al cielo y lo robado\n",
      "vas ahora a devolver».\n",
      "La princesa se entristece\n",
      "por su dulce flor de luz,\n",
      "cuando entonces aparece\n",
      "sonriendo el Buen Jesús.\n",
      "\n",
      "Y así dice: «En mis campiñas\n",
      "esa rosa le ofrecí;\n",
      "son mis flores de las niñas\n",
      "que al soñar piensan en mí».\n",
      "\n",
      "Viste el rey pompas brillantes,\n",
      "y luego hace desfilar\n",
      "cuatrocientos elefantes\n",
      "a la orilla de la mar.\n",
      "\n",
      "La princesita está bella,\n",
      "pues ya tiene el prendedor\n",
      "en que lucen, con la estrella,\n",
      "verso, perla, pluma y flor.\n",
      "\n",
      "Margarita, está linda la mar,\n",
      "y el viento\n",
      "lleva esencia sutil de azahar:\n",
      "tu aliento.\n",
      "Ya que lejos de mí vas a estar,\n",
      "guarda, niña, un gentil pensamiento\n",
      "al que un día te quiso contar\n",
      "un cuento.\n",
      "\n",
      "A Margarita Debayle es un poema infantil del nicaragüense Rubén Darío. Se encuentra recopilado en el libro El viaje a Nicaragua e Intermezzo Tropical (1909). Fue dedicado a la niña de la familia Debayle, en cuya casa de verano el poeta pasó una temporada. El poema cuenta la historia de una princesita que deseaba hacerse un prendedor de estrellas.\n",
      "\n",
      "19. El duendecillo fraile\n",
      "Duende\n",
      "\n",
      "Había una vez tres hermanitas que se mantenían amasando de noche una faneguita de harina. Un día se levantaron de madrugada para hacer su faena, y se la hallaron hecha, y los panes prontos para meterlos en el horno, y así sucedió por muchos días. Queriendo averiguar quién era el que tal favor les hacía, se escondieron una noche, y vieron venir a un duende muy chiquito, vestido de fraile, con unos hábitos muy viejos y rotos. Agradecidas le hicieron unos nuevos, que colgaron en la cocina. Vino el duende y se los puso, y en seguida se fue diciendo:\n",
      "\n",
      "«Frailecito con hábitos nuevos,\n",
      "ni quiere amasar, ni ser panadero».\n",
      "\n",
      "Esto prueba, niños míos, que como el duendecito hay muchos, que son complacientes y oficiosos hasta que logran un beneficio, y que una vez recibido, no se vuelven a acordar de quien se lo hizo.\n",
      "\n",
      "El duendecillo fraile es un cuento de Cecilia Böhl de Faber y Larrea, firmado con el seudónimo de Fernán Caballero. Se trata de un relato que nos advierte sobre las personas interesadas, que sólo nos ayudan cuando esperan obtener un beneficio.\n",
      "\n",
      "20. La ratoncita presumida\n",
      "cuentos cortos\n",
      "\n",
      "Hace ya bastantes años,\n",
      "doscientos años tal vez,\n",
      "por escapar de los gatos\n",
      "y de las trampas también,\n",
      "unos buenos ratoncitos\n",
      "se colaron en un tren\n",
      "y a los campos marcharon\n",
      "para nunca más volver.\n",
      "\n",
      "Andando, andando y andando\n",
      "llegaron por fin al pie\n",
      "de una montaña llamada\n",
      "la montaña Yo-no-sé,\n",
      "y entonces dijo el más grande:\n",
      "lo que debemos hacer\n",
      "es abrir aquí una cueva\n",
      "y quedarnos de una vez\n",
      "porque como aquí no hay gatos\n",
      "aquí viviremos bien.\n",
      "\n",
      "Trabaja que te trabaja\n",
      "tras de roer y roer\n",
      "agujereando las cuevas\n",
      "se pasaron más de un mes\n",
      "hasta que una hermosa cueva\n",
      "lograron por fin hacer\n",
      "con kioskos, jardín y gradas\n",
      "como si fuera un chalet.\n",
      "\n",
      "Había entre los ratones\n",
      "que allí nacieron después\n",
      "una ratica más linda\n",
      "que la rosa y el clavel.\n",
      "Su nombre no era ratona\n",
      "como tal vez supondréis,\n",
      "pues la llamaban Hortensia\n",
      "que es un nombre de mujer.\n",
      "\n",
      "Y era tan linda, tan linda\n",
      "que parecía más bien\n",
      "una violeta pintada\n",
      "por un niño japonés:\n",
      "parecía hecha de plata\n",
      "por el color de su piel\n",
      "y su colita una hebra\n",
      "de lana para tejer.\n",
      "\n",
      "Pero era muy orgullosa\n",
      "y así ocurrió que una vez\n",
      "se le acercó un ratoncito\n",
      "que allí vivía también\n",
      "y que alzándose en dos patas\n",
      "temblando como un papel\n",
      "le pidió a la ratoncita\n",
      "que se casara con él.\n",
      "\n",
      "¡Qué ratón tan parejero!\n",
      "dijo ella con altivez.\n",
      "Vaya a casarse con una\n",
      "que esté a su mismo nivel,\n",
      "pues yo para novio aspiro,\n",
      "aquí donde usted me ve,\n",
      "a un personaje que sea\n",
      "más importante que usted.\n",
      "\n",
      "Y saliendo a la pradera\n",
      "le habló al Sol gritando:\n",
      "– ¡Jeeey! usted que es tan importante\n",
      "porque del mundo es el rey,\n",
      "venga a casarse conmigo\n",
      "pues yo soy digna de ser\n",
      "la esposa de un personaje\n",
      "de la importancia de usted.\n",
      "\n",
      "– Más importante es la nube –\n",
      "dijo el Sol con sencillez-\n",
      "pues me tapa en el verano\n",
      "y en el invierno también.\n",
      "\n",
      "Y contestó la ratica:\n",
      "– Pues que le vamos a hacer…\n",
      "Si es mejor que usted\n",
      "la nube con ella me casaré\n",
      "Más la nube al escucharla,\n",
      "habló y le dijo a su vez:\n",
      "– Más importante es el viento\n",
      "que al soplar me hace correr.\n",
      "\n",
      "– Entonces – dijo la rata-\n",
      "entonces ya sé que hacer\n",
      "si el viento es más importante\n",
      "voy a casarme con él.\n",
      "\n",
      "Mas la voz ronca del viento\n",
      "se escuchó poco después\n",
      "diciéndole a la ratona:\n",
      "– Ay Hortensia, ¿sabe usted?,\n",
      "mejor que yo es la montaña\n",
      "aquella que allí se ve-\n",
      "porque detiene mi paso\n",
      "lo mismo que una pared.\n",
      "\n",
      "– Si mejor es la montaña\n",
      "con ella me casare-\n",
      "contestó la ratoncita-,\n",
      "y a la montaña se fue.\n",
      "\n",
      "Mas la montaña le dijo:\n",
      "– ¿Yo importante? ¡Je, je,je!\n",
      "Mejores son los ratones\n",
      "los que viven a mis pies,\n",
      "aquellos que entre mis rocas\n",
      "tras de roer y roer,\n",
      "construyeron la cuevita,\n",
      "de donde ha salido usted.\n",
      "\n",
      "Entonces la ratoncita\n",
      "volvió a su casa otra vez\n",
      "y avergonzada y llorando\n",
      "buscó al ratoncito aquel\n",
      "a quien un día despreciara\n",
      "por ser tan chiquito él.\n",
      "\n",
      "– ¡¡¡¡¡¡ Aaaaaaaaaalfreditooooooooooooo !!!!!!;\n",
      "¡Oh, perdóname, Alfredito\n",
      "– gimió cayendo a sus pies-,\n",
      "por pequeño y por humilde\n",
      "un día te desprecié,\n",
      "pero ahora he comprendido\n",
      "-y lo he comprendido bien-\n",
      "que en el mundo los pequeños\n",
      "son importantes también.\n",
      "\n",
      "La ratoncita presumida es un cuento en verso del venezolano Aquiles Nazoa, que enseña sobre los valores de la humildad y la sencillez en toda circunstancia. A la protagonista le corresponde aprender a valorar a los más pequeños, porque pueden llegar a ser los más importantes.\n",
      "\n",
      "21. El ratoncillo ignorante\n",
      "cuentos cortos\n",
      "\n",
      "Un ratoncito pequeño,\n",
      "sin malicia todavía,\n",
      "al despertar de su sueño,\n",
      "se sentó en su cuarto un día.\n",
      "\n",
      "Delante del agujero\n",
      "sentado un gatito estaba\n",
      "y con tono zalamero\n",
      "así al ratoncito hablaba:\n",
      "\n",
      "—Sal, querido ratoncillo,\n",
      "que te quiero acariciar,\n",
      "te traigo un dulce exquisito\n",
      "que te voy a regalar.\n",
      "\n",
      "—Tengo un azúcar muy buena,\n",
      "miel y nueces deliciosas...\n",
      "si sales, a boca llena\n",
      "podrás comer de mil cosas.\n",
      "\n",
      "El ratoncillo ignorante\n",
      "del agujero salió;\n",
      "y don gato en el instante\n",
      "a mi ratón devoró.\n",
      "\n",
      "José Rosas Moreno construye un hermoso relato en verso sobre el alto precio de la ignorancia y la ingenuidad. Más vale formarse e informarse para no dejarse engañar, antes que caer por ingenuo e ignorante.\n",
      "\n",
      "Datos del Cuento\n",
      "Titulo: \n",
      "Autor:\n",
      "Personajes:\n",
      "Año:\n",
      "País:\n",
      "Audiencia:\n",
      "Calificación:\n"
     ]
    }
   ],
   "source": [
    "doc=open('cuentos.txt','r',encoding='utf-8') ## utilizo el enconding para para que me pueda abrir el archivo de texto\n",
    "cuentos=doc.read()\n",
    "doc.close()\n",
    "print(cuentos)"
   ]
  },
  {
   "cell_type": "code",
   "execution_count": 9,
   "id": "36d8efd9-4c76-4594-ab57-f1f93322d5a0",
   "metadata": {},
   "outputs": [
    {
     "data": {
      "text/plain": [
       "['Datos', 'Datos', 'Datos', 'Datos', 'Datos', 'Datos', 'Datos', 'Datos']"
      ]
     },
     "metadata": {},
     "output_type": "display_data"
    }
   ],
   "source": [
    "DatosCuento=re.findall('Datos',cuentos)\n",
    "display(DatosCuento)"
   ]
  },
  {
   "cell_type": "code",
   "execution_count": 15,
   "id": "322bfe36-e5bb-4134-98ae-8d598e2ffffa",
   "metadata": {},
   "outputs": [
    {
     "name": "stdout",
     "output_type": "stream",
     "text": [
      "En este escenario básicamente dividimos la interface fastethernet 0/0 en múltiples sub-interfaces y asignamos cada sub-interface a un VRF específico (Interface fastethernet 0/0.10 en VPN_10 y fastethernet0/0.20 en VPN_20).\n",
      "\n",
      "Vamos a ver la configuración para explicar paso a paso el propósito de cada comando:\n",
      "\n",
      "hostname R1\n",
      "!\n",
      "ip vrf VPN_10\n",
      " rd 10:10 \n",
      "!\n",
      "ip vrf VPN_20\n",
      " rd 20:20\n",
      "!\n",
      "interface FastEthernet0/0.10\n",
      " encapsulation dot1Q 10\n",
      " ip vrf forwarding VPN_10\n",
      " ip address 10.10.0.1 255.255.255.0\n",
      "!\n",
      "interface FastEthernet0/0.20\n",
      " encapsulation dot1Q 20\n",
      " ip vrf forwarding VPN_20\n",
      " ip address 10.20.0.1 255.255.255.0\n",
      "!\n",
      "ip route vrf VPN_10 192.168.10.0 255.255.255.0 10.10.0.2\n",
      "ip route vrf VPN_20 192.168.20.0 255.255.255.0 10.20.0.2\n",
      "!\n",
      "end\n",
      "\n",
      "\n",
      "Empezaremos con la creación del VRF:\n",
      "\n",
      "ip vrf VPN_10 : Estamos creando una tabla de enrutamiento virtual en este router denominada VPN_10\n",
      "\n",
      "rd 10:10 : Estamos creando un identificador para las rutas en un VRF específico; en futuros eventos veremos que yo al utilizar VRF's puedo comunicar dos redes con el mismo direccionamiento IP en diferentes VRFs ya que a cada prefijo de red se le asignara el RD como identificador y por ende será único.\n",
      "\n",
      "El número puede ser al azar.\n",
      "\n",
      "Normalmente se utiliza ASN:Número al azar o Dirección_IP:Número al azar.\n",
      "\n",
      "Interface x/x\n",
      "\n",
      "ip vrf forwarding VPN_10 : Este comando asocia a la interface a una tabla de enrutamiento específico (Nota: Este comando remueve la configuración de IP previamente configurada en esta interface por ende debes de volver a asignarla).\n",
      "\n",
      "Vamos a pasar ahora a ver la configuración de Router 2 en este escenario (No se explicara cada uno de los comandos ya que el significado de ellos es el mismo)\n",
      "\n",
      "Vamos a ver la configuración para explicar paso a paso el propósito de cada comando:\n",
      "\n",
      "\n",
      "hostname R2\n",
      "!\n",
      "ip vrf VPN_10\n",
      " rd 10:10 \n",
      "!\n",
      "ip vrf VPN_20\n",
      " rd 20:20\n",
      "!\n",
      "interface FastEthernet0/0.10\n",
      " encapsulation dot1Q 10\n",
      " ip vrf forwarding VPN_10\n",
      " ip address 10.10.0.2 255.255.255.0\n",
      "!\n",
      "interface FastEthernet0/0.20\n",
      " encapsulation dot1Q 20\n",
      " ip vrf forwarding VPN_20\n",
      " ip address 10.20.0.2 255.255.255.0\n",
      "!\n",
      "end\n",
      "\n",
      "\n",
      "Configuraremos dos loopbacks en R2 tambíen:\n",
      "\n",
      "interface Loopback1\n",
      " ip vrf forwarding VPN_10\n",
      " ip address 192.168.10.1 255.255.255.0\n",
      "!\n",
      "interface Loopback2\n",
      " ip vrf forwarding VPN_20\n",
      " ip address 192.168.20.1 255.255.255.0!\n",
      "\n",
      "Ahora verifiquemos  la configuración de VRF en R1\n",
      "\n",
      "R1#sh ip vrf \n",
      "  Name                             Default RD          Interfaces\n",
      "  VPN_10                           10:10               Fa0/0.10\n",
      "  VPN_20                           20:20               Fa0/0.20\n",
      "\n",
      "  R1#sh ip vrf interfaces \n",
      "Interface              IP-Address      VRF                              Protocol\n",
      "Fa0/0.10               10.10.0.1       VPN_10                           up      \n",
      "Fa0/0.20               10.20.0.1       VPN_20                           up \n",
      "\n",
      "\n",
      "\n",
      "Perfecto, ahora veamos las tablas de enrutamiento en R1,\n",
      "\n",
      "Pregunta: Cuantas tablas de enrutamiento con la configuración previa tiene R1?\n",
      "\n",
      "Tiene 3 : VPN_A , VPN_B y la Global (En la global estan las interfaces que no pertenecen a ningún VRF)\n",
      "\n",
      "1- La Tabla de Enrutamiento Global\n",
      "\n",
      "R1#sh ip route\n",
      "Codes: L - local, C - connected, S - static, R - RIP, M - mobile, B - BGP\n",
      "D - EIGRP, EX - EIGRP external, O - OSPF, IA - OSPF inter area\n",
      "N1 - OSPF NSSA external type 1, N2 - OSPF NSSA external type 2\n",
      "E1 - OSPF external type 1, E2 - OSPF external type 2\n",
      "i - IS-IS, su - IS-IS summary, L1 - IS-IS level-1, L2 - IS-IS level-2\n",
      "ia - IS-IS inter area, * - candidate default, U - per-user static route\n",
      "o - ODR, P - periodic downloaded static route, H - NHRP, l - LISP\n",
      "+ - replicated route, % - next hop override\n",
      "\n",
      "Gateway of last resort is not set\n",
      "\n",
      "Como podemos observar no tenemos ninguna ruta\n",
      "\n",
      "2-La Tabla de Enrutamiento de VPN_10\n",
      "\n",
      "R1#sh ip route vrf VPN_10\n",
      "\n",
      "Routing Table: VPN_10\n",
      "Codes: C - connected, S - static, R - RIP, M - mobile, B - BGP\n",
      "       D - EIGRP, EX - EIGRP external, O - OSPF, IA - OSPF inter area \n",
      "       N1 - OSPF NSSA external type 1, N2 - OSPF NSSA external type 2\n",
      "       E1 - OSPF external type 1, E2 - OSPF external type 2\n",
      "       i - IS-IS, su - IS-IS summary, L1 - IS-IS level-1, L2 - IS-IS level-2\n",
      "       ia - IS-IS inter area, * - candidate default, U - per-user static route\n",
      "       o - ODR, P - periodic downloaded static route\n",
      "\n",
      "Gateway of last resort is not set\n",
      "\n",
      "     10.0.0.0/24 is subnetted, 1 subnets\n",
      "C       10.10.0.0 is directly connected, FastEthernet0/0.10\n",
      "\n",
      "\n",
      "Podemos observar únicamente la interfaz asignada en R1 a esta tabla de enrutamiento\n",
      "\n",
      "3-La tabla de enrutamiento de VPN_20\n",
      "\n",
      "R1#sh ip route vrf VPN_20\n",
      "\n",
      "Routing Table: VPN_20\n",
      "Codes: C - connected, S - static, R - RIP, M - mobile, B - BGP\n",
      "       D - EIGRP, EX - EIGRP external, O - OSPF, IA - OSPF inter area \n",
      "       N1 - OSPF NSSA external type 1, N2 - OSPF NSSA external type 2\n",
      "       E1 - OSPF external type 1, E2 - OSPF external type 2\n",
      "       i - IS-IS, su - IS-IS summary, L1 - IS-IS level-1, L2 - IS-IS level-2\n",
      "       ia - IS-IS inter area, * - candidate default, U - per-user static route\n",
      "       o - ODR, P - periodic downloaded static route\n",
      "\n",
      "Gateway of last resort is not set\n",
      "\n",
      "     10.0.0.0/24 is subnetted, 1 subnets\n",
      "C       10.20.0.0 is directly connected, FastEthernet0/0.20\n",
      "\n",
      "De igual manera solamente tenemos la interfaz asociada a dicho VRF\n",
      "\n",
      "Comportamiento de enrutamiento con VRFs\n",
      "\n",
      "Vamos  a hablar ahora de enrutamiento en un VRF; con el escenario mencionado anteriormente vamos a hacer que los hosts en la interface de R1 en VPN_10 pueda accesar la loopback de R2 en VPN_10.\n",
      "\n",
      "Simplemente se crea una ruta estática haciendo referencia al VRF_10\n",
      "\n",
      "ip route vrf VPN_10 192.168.10.0 255.255.255.0 10.10.0.2\n",
      "ip route vrf VPN_20 192.168.20.0 255.255.255.0 10.20.0.2\n",
      "\n",
      "Posteriormente pruebo conectividad y veo que todo funciona de la manera correcta\n",
      "\n",
      " R1#ping vrf VPN_10 192.168.10.1\n",
      "\n",
      "Type escape sequence to abort.\n",
      "Sending 5, 100-byte ICMP Echos to 192.168.10.1, timeout is 2 seconds:\n",
      "!!!!!\n",
      "Success rate is 100 percent (5/5), round-trip min/avg/max = 60/63/64 ms\n",
      "\n",
      "R1#ping vrf VPN_20 192.168.20.1\n",
      "\n",
      "Type escape sequence to abort.\n",
      "Sending 5, 100-byte ICMP Echos to 192.168.20.1, timeout is 2 seconds:\n",
      "!!!!!\n",
      "Success rate is 100 percent (5/5), round-trip min/avg/max = 60/65/68 ms\n",
      "\n",
      "Nota: A la hora de hacer Ping debo incluir que tabla de enrutamiento utilizar para alcanzar cierto destino ya que por defecto utilizara la global\n",
      "\n",
      "Por último verifiquemos la tabla de enrutamiento de R1 con ese cambio:\n",
      "\n",
      "R1#sh ip route vrf VPN_10      \n",
      "\n",
      "Routing Table: VPN_10\n",
      "Codes: C - connected, S - static, R - RIP, M - mobile, B - BGP\n",
      "       D - EIGRP, EX - EIGRP external, O - OSPF, IA - OSPF inter area \n",
      "       N1 - OSPF NSSA external type 1, N2 - OSPF NSSA external type 2\n",
      "       E1 - OSPF external type 1, E2 - OSPF external type 2\n",
      "       i - IS-IS, su - IS-IS summary, L1 - IS-IS level-1, L2 - IS-IS level-2\n",
      "       ia - IS-IS inter area, * - candidate default, U - per-user static route\n",
      "       o - ODR, P - periodic downloaded static route\n",
      "\n",
      "Gateway of last resort is not set\n",
      "\n",
      "S    192.168.10.0/24 [1/0] via 10.10.0.2\n",
      "     10.0.0.0/24 is subnetted, 1 subnets\n",
      "C       10.10.0.0 is directly connected, FastEthernet0/0.10\n",
      "\n",
      "\n",
      "\n",
      "R1#sh ip route vrf VPN_20\n",
      "\n",
      "Routing Table: VPN_20\n",
      "Codes: C - connected, S - static, R - RIP, M - mobile, B - BGP\n",
      "       D - EIGRP, EX - EIGRP external, O - OSPF, IA - OSPF inter area \n",
      "       N1 - OSPF NSSA external type 1, N2 - OSPF NSSA external type 2\n",
      "       E1 - OSPF external type 1, E2 - OSPF external type 2\n",
      "       i - IS-IS, su - IS-IS summary, L1 - IS-IS level-1, L2 - IS-IS level-2\n",
      "       ia - IS-IS inter area, * - candidate default, U - per-user static route\n",
      "       o - ODR, P - periodic downloaded static route\n",
      "\n",
      "Gateway of last resort is not set\n",
      "\n",
      "S    192.168.20.0/24 [1/0] via 10.20.0.2\n",
      "     10.0.0.0/24 is subnetted, 1 subnets\n",
      "C       10.20.0.0 is directly connected, FastEthernet0/0.20\n",
      "\n",
      "\n",
      "Podemos ver la ruta estática incluida previamente,\n",
      "\n",
      "Espero que les sea util este laboratorio.\n"
     ]
    }
   ],
   "source": [
    "doc2=open('ipServidores.txt', 'r', encoding='utf-8')\n",
    "ips=doc2.read()\n",
    "doc2.close()\n",
    "print(ips)"
   ]
  },
  {
   "cell_type": "code",
   "execution_count": 19,
   "id": "81c2e024-c8d1-495c-99c8-41f700c18e7c",
   "metadata": {},
   "outputs": [
    {
     "data": {
      "text/plain": [
       "['ip vrf VPN_10',\n",
       " 'ip vrf VPN_20',\n",
       " 'ip vrf VPN_10',\n",
       " 'ip vrf VPN_10',\n",
       " 'ip vrf VPN_20']"
      ]
     },
     "execution_count": 19,
     "metadata": {},
     "output_type": "execute_result"
    }
   ],
   "source": [
    "vrfs=re.findall(r'(ip\\svrf\\sVPN\\w+)', ips)\n",
    "vrfs"
   ]
  },
  {
   "cell_type": "code",
   "execution_count": 37,
   "id": "62cd5f42-1462-4934-bf17-af01089efe03",
   "metadata": {},
   "outputs": [
    {
     "data": {
      "text/plain": [
       "['rd 10:10', 'rd 20:20', 'rd 10:10', 'rd 10:10', 'rd 20:20']"
      ]
     },
     "execution_count": 37,
     "metadata": {},
     "output_type": "execute_result"
    }
   ],
   "source": [
    "rd=re.findall(r'(rd\\s\\d+:\\d+)',ips)\n",
    "rd"
   ]
  },
  {
   "cell_type": "code",
   "execution_count": 41,
   "id": "e2bdb85e-caa5-4e14-92bf-b8ad29345b90",
   "metadata": {},
   "outputs": [
    {
     "data": {
      "text/plain": [
       "[('ip address', '10.10.0.1'),\n",
       " ('ip address', '10.20.0.1'),\n",
       " ('ip address', '10.10.0.2'),\n",
       " ('ip address', '10.20.0.2'),\n",
       " ('ip address', '192.168.10.1'),\n",
       " ('ip address', '192.168.20.1')]"
      ]
     },
     "execution_count": 41,
     "metadata": {},
     "output_type": "execute_result"
    }
   ],
   "source": [
    "address=re.findall(r'(\\w+\\s\\w+ress)\\s(\\d+.\\d+.\\d+.\\d+)',ips)\n",
    "address"
   ]
  },
  {
   "cell_type": "code",
   "execution_count": 44,
   "id": "056757bb-e252-4d1b-ab05-6454bb57d695",
   "metadata": {},
   "outputs": [
    {
     "data": {
      "text/plain": [
       "['ip vrf VPN_10',\n",
       " 'ip vrf VPN_20',\n",
       " 'ip address 10',\n",
       " 'ip address 10',\n",
       " 'ip vrf VPN_10',\n",
       " 'ip vrf VPN_10',\n",
       " 'ip vrf VPN_20',\n",
       " 'ip address 10',\n",
       " 'ip address 10',\n",
       " 'ip address 192',\n",
       " 'ip address 192']"
      ]
     },
     "execution_count": 44,
     "metadata": {},
     "output_type": "execute_result"
    }
   ],
   "source": [
    "ip=re.findall(r'(ip\\s\\w+\\s\\w+\\d)', ips)\n",
    "ip"
   ]
  },
  {
   "cell_type": "code",
   "execution_count": 47,
   "id": "0785918d-5648-48ef-989f-6a7459ca20bf",
   "metadata": {},
   "outputs": [
    {
     "data": {
      "text/plain": [
       "[('ip', 'vrf VPN_10'),\n",
       " ('ip', 'vrf VPN_20'),\n",
       " ('ip', 'address 10'),\n",
       " ('ip', 'address 10'),\n",
       " ('ip', 'vrf VPN_10'),\n",
       " ('ip', 'vrf VPN_10'),\n",
       " ('ip', 'vrf VPN_20'),\n",
       " ('ip', 'address 10'),\n",
       " ('ip', 'address 10'),\n",
       " ('ip', 'address 192'),\n",
       " ('ip', 'address 192')]"
      ]
     },
     "execution_count": 47,
     "metadata": {},
     "output_type": "execute_result"
    }
   ],
   "source": [
    "ip=re.findall(r'(ip)\\s(\\w+\\s\\w+\\d)', ips)\n",
    "ip"
   ]
  },
  {
   "cell_type": "code",
   "execution_count": 48,
   "id": "a2cf2b26-d689-421f-b0db-2d9d94f47002",
   "metadata": {},
   "outputs": [
    {
     "data": {
      "text/plain": [
       "<re.Match object; span=(2127, 2146), match='interface Loopback1'>"
      ]
     },
     "execution_count": 48,
     "metadata": {},
     "output_type": "execute_result"
    }
   ],
   "source": [
    "re.search(re.escape('interface Loopback1'), ips).span()[1] ## me da el span y esto me da las posisiones "
   ]
  },
  {
   "cell_type": "code",
   "execution_count": 52,
   "id": "19c55fcf-2903-4eb5-9b02-a63c3e25cf8d",
   "metadata": {},
   "outputs": [
    {
     "name": "stdout",
     "output_type": "stream",
     "text": [
      "[337, 364, 337, 337, 364]\n"
     ]
    }
   ],
   "source": [
    "posiciones=[re.search(re.escape(vrf), ips).span()[1] for vrf in vrfs]\n",
    "print(posiciones)"
   ]
  },
  {
   "cell_type": "code",
   "execution_count": 53,
   "id": "e1aecdd5-520b-448a-acfc-986f9c4455e5",
   "metadata": {},
   "outputs": [
    {
     "name": "stdout",
     "output_type": "stream",
     "text": [
      "[324, 351, 324, 324, 351]\n"
     ]
    }
   ],
   "source": [
    "posiciones=[re.search(re.escape(vrf), ips).span()[0] for vrf in vrfs]\n",
    "print(posiciones)"
   ]
  },
  {
   "cell_type": "code",
   "execution_count": 54,
   "id": "7567bf9e-3dac-4f09-849d-13f385e7c993",
   "metadata": {},
   "outputs": [
    {
     "name": "stdout",
     "output_type": "stream",
     "text": [
      "[324, 351, 324, 324, 351, 7912]\n"
     ]
    }
   ],
   "source": [
    "posiciones=[re.search(re.escape(vrf), ips).span()[0] for vrf in vrfs] +[len(ips)]\n",
    "print(posiciones)"
   ]
  },
  {
   "cell_type": "code",
   "execution_count": null,
   "id": "5cb9afa0-df3d-4665-98ad-c6909de25a85",
   "metadata": {},
   "outputs": [],
   "source": [
    "patrones=[(r'(ip\\svrf\\sVPN\\w+)','vrf'),\n",
    "          (r'(ip)\\s(\\w+\\s\\w+\\d)', 'ip'),\n",
    "          (r'(\\w+\\s\\w+ress)\\s(\\d+.\\d+.\\d+.\\d+)', 'address')]\n",
    "\n",
    "resultado=[]\n",
    "for k in range(len(posiciones)-1):\n",
    "    subips=ips[posiciones[k]]:posiciones[k+1]\n",
    "    for patron in patrones:\n",
    "        for ip in re.findall(patron[0],subips):\n",
    "            resultado.append([])"
   ]
  },
  {
   "cell_type": "code",
   "execution_count": 55,
   "id": "acab2d13-c0bb-43ae-868c-a57e5febc1e8",
   "metadata": {},
   "outputs": [
    {
     "name": "stdout",
     "output_type": "stream",
     "text": [
      "['bat', 'bot']\n"
     ]
    }
   ],
   "source": [
    "string = 'bat, lat, mat, bet, let, met, bit, lit, mit, bot, lot, mot'\n",
    "\n",
    "result = re.findall('b[ao]t', string)\n",
    "\n",
    "print(result)"
   ]
  },
  {
   "cell_type": "code",
   "execution_count": 59,
   "id": "b756c460-6e6f-4993-9184-80ba57d4bdd9",
   "metadata": {},
   "outputs": [],
   "source": [
    "a1 = np.random.rand(4)\n",
    "a2 = np.random.rand(4, 1)\n",
    "\n",
    "a3 = np.array([[1, 2, 3, 4]])\n",
    "\n",
    "a4 = np.arange(1, 4, 1)\n",
    "\n",
    "a5 = np.linspace(1 ,4, 4)"
   ]
  },
  {
   "cell_type": "code",
   "execution_count": 60,
   "id": "84b1f7b3-14b2-47f1-8f3f-01a4fa5f743a",
   "metadata": {},
   "outputs": [
    {
     "data": {
      "text/plain": [
       "array([0.42487348, 0.80981333, 0.17106261, 0.85145011])"
      ]
     },
     "metadata": {},
     "output_type": "display_data"
    }
   ],
   "source": [
    "display(a1)"
   ]
  },
  {
   "cell_type": "code",
   "execution_count": 61,
   "id": "ed99d450-9464-4000-b53e-fde474451304",
   "metadata": {},
   "outputs": [
    {
     "data": {
      "text/plain": [
       "array([[0.5563773 ],\n",
       "       [0.49434383],\n",
       "       [0.99096866],\n",
       "       [0.28681959]])"
      ]
     },
     "metadata": {},
     "output_type": "display_data"
    }
   ],
   "source": [
    "display(a2)"
   ]
  },
  {
   "cell_type": "code",
   "execution_count": 62,
   "id": "bf3be844-738a-44ef-b887-f598bcebc9a1",
   "metadata": {},
   "outputs": [
    {
     "data": {
      "text/plain": [
       "array([[1, 2, 3, 4]])"
      ]
     },
     "metadata": {},
     "output_type": "display_data"
    }
   ],
   "source": [
    "display(a3)"
   ]
  },
  {
   "cell_type": "code",
   "execution_count": 64,
   "id": "999d9560-b021-42e9-8f9f-ba5c44f1ac67",
   "metadata": {},
   "outputs": [
    {
     "data": {
      "text/plain": [
       "array([1, 2, 3])"
      ]
     },
     "metadata": {},
     "output_type": "display_data"
    }
   ],
   "source": [
    "display(a4)"
   ]
  },
  {
   "cell_type": "code",
   "execution_count": 65,
   "id": "2ac928e0-425c-4712-ba69-f1748674f9b3",
   "metadata": {},
   "outputs": [
    {
     "data": {
      "text/plain": [
       "array([1., 2., 3., 4.])"
      ]
     },
     "metadata": {},
     "output_type": "display_data"
    }
   ],
   "source": [
    "display(a5)"
   ]
  },
  {
   "cell_type": "code",
   "execution_count": null,
   "id": "fdfc6498-a666-4c7e-b2cb-e405ecf0c849",
   "metadata": {},
   "outputs": [],
   "source": []
  }
 ],
 "metadata": {
  "kernelspec": {
   "display_name": "Python 3 (ipykernel)",
   "language": "python",
   "name": "python3"
  },
  "language_info": {
   "codemirror_mode": {
    "name": "ipython",
    "version": 3
   },
   "file_extension": ".py",
   "mimetype": "text/x-python",
   "name": "python",
   "nbconvert_exporter": "python",
   "pygments_lexer": "ipython3",
   "version": "3.13.0"
  }
 },
 "nbformat": 4,
 "nbformat_minor": 5
}
