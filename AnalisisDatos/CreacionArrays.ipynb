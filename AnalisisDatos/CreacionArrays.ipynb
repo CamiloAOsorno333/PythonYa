{
 "cells": [
  {
   "cell_type": "markdown",
   "id": "dbdd68eb-b282-4b3c-a386-55693bf30a91",
   "metadata": {},
   "source": [
    "## Librería Numpy"
   ]
  },
  {
   "cell_type": "code",
   "execution_count": 1,
   "id": "5bc85424-1124-4ee0-9c2b-b87c563b34ce",
   "metadata": {},
   "outputs": [],
   "source": [
    "import numpy as np"
   ]
  },
  {
   "cell_type": "markdown",
   "id": "f54e237c-4a73-47d5-b69d-9417eee18de4",
   "metadata": {},
   "source": [
    "## Creación Arrays"
   ]
  },
  {
   "cell_type": "code",
   "execution_count": 6,
   "id": "479388b4-e867-4b76-b175-0f945175fa72",
   "metadata": {},
   "outputs": [
    {
     "data": {
      "text/plain": [
       "array([1, 2, 3])"
      ]
     },
     "execution_count": 6,
     "metadata": {},
     "output_type": "execute_result"
    }
   ],
   "source": [
    "a= np.array([1,2,3])\n",
    "a"
   ]
  },
  {
   "cell_type": "code",
   "execution_count": null,
   "id": "5102c2f2-2766-4359-9b63-467933bb4f95",
   "metadata": {},
   "outputs": [],
   "source": []
  },
  {
   "cell_type": "code",
   "execution_count": null,
   "id": "0770c60d-5817-432e-8dee-d9e24943e426",
   "metadata": {},
   "outputs": [],
   "source": []
  },
  {
   "cell_type": "code",
   "execution_count": null,
   "id": "435a4202-8a0e-4f78-9c19-82585ea8cba1",
   "metadata": {},
   "outputs": [],
   "source": []
  }
 ],
 "metadata": {
  "kernelspec": {
   "display_name": "Python 3 (ipykernel)",
   "language": "python",
   "name": "python3"
  },
  "language_info": {
   "codemirror_mode": {
    "name": "ipython",
    "version": 3
   },
   "file_extension": ".py",
   "mimetype": "text/x-python",
   "name": "python",
   "nbconvert_exporter": "python",
   "pygments_lexer": "ipython3",
   "version": "3.13.0"
  }
 },
 "nbformat": 4,
 "nbformat_minor": 5
}
