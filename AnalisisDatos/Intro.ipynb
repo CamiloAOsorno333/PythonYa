{
 "cells": [
  {
   "cell_type": "markdown",
   "id": "4a0e3aca-fa81-4102-aa8b-d43b46887be1",
   "metadata": {},
   "source": [
    "##Con markdown se puede poner texto \n"
   ]
  },
  {
   "cell_type": "code",
   "execution_count": 1,
   "id": "b7b97d24-2966-4622-8f0e-d9e2fd0698b0",
   "metadata": {},
   "outputs": [
    {
     "data": {
      "text/plain": [
       "2"
      ]
     },
     "execution_count": 1,
     "metadata": {},
     "output_type": "execute_result"
    }
   ],
   "source": [
    "1+1"
   ]
  },
  {
   "cell_type": "code",
   "execution_count": 2,
   "id": "47c4df62-bc13-48e7-9cba-5767b6b3cc47",
   "metadata": {},
   "outputs": [
    {
     "data": {
      "text/plain": [
       "9"
      ]
     },
     "execution_count": 2,
     "metadata": {},
     "output_type": "execute_result"
    }
   ],
   "source": [
    "4+5"
   ]
  },
  {
   "cell_type": "code",
   "execution_count": 1,
   "id": "5ffcac65-f936-4143-a2f2-bb3b894b8848",
   "metadata": {},
   "outputs": [],
   "source": [
    "c=12"
   ]
  },
  {
   "cell_type": "code",
   "execution_count": 2,
   "id": "29dd4ad2-1c5f-44cd-9e59-8618f82d242b",
   "metadata": {},
   "outputs": [
    {
     "data": {
      "text/plain": [
       "12"
      ]
     },
     "execution_count": 2,
     "metadata": {},
     "output_type": "execute_result"
    }
   ],
   "source": [
    "c"
   ]
  },
  {
   "cell_type": "code",
   "execution_count": null,
   "id": "bed30cae-4b3f-4fec-89c1-9074f56aa041",
   "metadata": {},
   "outputs": [],
   "source": []
  },
  {
   "cell_type": "code",
   "execution_count": null,
   "id": "f0570dc1-0259-4a6d-8c49-a11524f7396d",
   "metadata": {},
   "outputs": [],
   "source": []
  },
  {
   "cell_type": "code",
   "execution_count": null,
   "id": "52bc659c-e3e8-4827-a510-67a069f5c014",
   "metadata": {},
   "outputs": [],
   "source": []
  }
 ],
 "metadata": {
  "kernelspec": {
   "display_name": "Python 3 (ipykernel)",
   "language": "python",
   "name": "python3"
  },
  "language_info": {
   "codemirror_mode": {
    "name": "ipython",
    "version": 3
   },
   "file_extension": ".py",
   "mimetype": "text/x-python",
   "name": "python",
   "nbconvert_exporter": "python",
   "pygments_lexer": "ipython3",
   "version": "3.13.0"
  }
 },
 "nbformat": 4,
 "nbformat_minor": 5
}
