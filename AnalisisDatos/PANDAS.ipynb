{
 "cells": [
  {
   "cell_type": "markdown",
   "id": "538c7721-4604-4034-8b9c-6961bddfdf2a",
   "metadata": {},
   "source": [
    "## PANDAS"
   ]
  },
  {
   "cell_type": "code",
   "execution_count": null,
   "id": "b6dc595e-7de2-4635-8515-462db3c5d434",
   "metadata": {},
   "outputs": [],
   "source": [
    "Esta libreria sirve para almacenar de manera tomatricial datos que van a ser de diferente tipo. "
   ]
  },
  {
   "cell_type": "code",
   "execution_count": 1,
   "id": "83cd7edb-98e2-47b1-833b-64a140a9f7c0",
   "metadata": {},
   "outputs": [],
   "source": [
    "import pandas as pd\n",
    "import numpy as np\n",
    "import matplotlib.pyplot as plt"
   ]
  },
  {
   "cell_type": "markdown",
   "id": "8b3d5c2c-9b8b-4836-825a-fc1900c22935",
   "metadata": {},
   "source": [
    "## Introducción a las series de datos\n",
    "\n",
    "una serie de datos es un tipo de objeto que nos proporciona pandas "
   ]
  },
  {
   "cell_type": "code",
   "execution_count": 9,
   "id": "815f98fc-5cae-4157-82e6-741deadbec72",
   "metadata": {},
   "outputs": [
    {
     "data": {
      "text/plain": [
       "Pepito    16\n",
       "Maria     12\n",
       "Ana       17\n",
       "dtype: int64"
      ]
     },
     "execution_count": 9,
     "metadata": {},
     "output_type": "execute_result"
    }
   ],
   "source": [
    "Estudiantes=pd.Series([16,12,17], index=['Pepito','Maria','Ana'])\n",
    "Estudiantes"
   ]
  },
  {
   "cell_type": "code",
   "execution_count": 10,
   "id": "bfdc22ea-0eb8-4e1f-aea3-2c1fc3a4c84e",
   "metadata": {},
   "outputs": [
    {
     "data": {
      "text/plain": [
       "np.int64(17)"
      ]
     },
     "execution_count": 10,
     "metadata": {},
     "output_type": "execute_result"
    }
   ],
   "source": [
    "Estudiantes['Ana']"
   ]
  },
  {
   "cell_type": "code",
   "execution_count": 11,
   "id": "50d2e683-b49d-4c8c-af37-29c88f80384d",
   "metadata": {},
   "outputs": [
    {
     "data": {
      "text/plain": [
       "np.int64(16)"
      ]
     },
     "execution_count": 11,
     "metadata": {},
     "output_type": "execute_result"
    }
   ],
   "source": [
    "Estudiantes['Pepito']"
   ]
  },
  {
   "cell_type": "code",
   "execution_count": 12,
   "id": "e9059121-aaf7-433a-b259-45685a157fe8",
   "metadata": {},
   "outputs": [
    {
     "name": "stderr",
     "output_type": "stream",
     "text": [
      "C:\\Users\\Usuario\\AppData\\Local\\Temp\\ipykernel_11744\\4221754821.py:1: FutureWarning: Series.__getitem__ treating keys as positions is deprecated. In a future version, integer keys will always be treated as labels (consistent with DataFrame behavior). To access a value by position, use `ser.iloc[pos]`\n",
      "  Estudiantes[1]\n"
     ]
    },
    {
     "data": {
      "text/plain": [
       "np.int64(12)"
      ]
     },
     "execution_count": 12,
     "metadata": {},
     "output_type": "execute_result"
    }
   ],
   "source": [
    "Estudiantes[1]"
   ]
  },
  {
   "cell_type": "code",
   "execution_count": 13,
   "id": "3cc61666-797f-4192-8a01-e79ec1e34a95",
   "metadata": {},
   "outputs": [
    {
     "data": {
      "text/plain": [
       "Index(['Pepito', 'Maria', 'Ana'], dtype='object')"
      ]
     },
     "execution_count": 13,
     "metadata": {},
     "output_type": "execute_result"
    }
   ],
   "source": [
    "Estudiantes.index"
   ]
  },
  {
   "cell_type": "code",
   "execution_count": 14,
   "id": "564fcdcb-7013-485b-9610-08081a569d8d",
   "metadata": {},
   "outputs": [
    {
     "data": {
      "text/plain": [
       "array([16, 12, 17])"
      ]
     },
     "execution_count": 14,
     "metadata": {},
     "output_type": "execute_result"
    }
   ],
   "source": [
    "Estudiantes.values"
   ]
  },
  {
   "cell_type": "code",
   "execution_count": 15,
   "id": "e3e6b93f-5840-4d1e-bf5b-862f1078ddca",
   "metadata": {},
   "outputs": [
    {
     "data": {
      "text/plain": [
       "(3,)"
      ]
     },
     "execution_count": 15,
     "metadata": {},
     "output_type": "execute_result"
    }
   ],
   "source": [
    "Estudiantes.shape"
   ]
  },
  {
   "cell_type": "code",
   "execution_count": null,
   "id": "fd32030d-62bb-4d23-a2b7-23671d35066b",
   "metadata": {},
   "outputs": [],
   "source": []
  },
  {
   "cell_type": "markdown",
   "id": "7e751818-a03d-4416-8194-c43372919023",
   "metadata": {},
   "source": [
    "## Introducción a los DataFrame\n",
    "\n",
    "Son series unidas, que generan diccionarios \n",
    "\n",
    "Como buena practica los dataframe se imprimen con display(nomDataFrame)"
   ]
  },
  {
   "cell_type": "code",
   "execution_count": 16,
   "id": "4d0a36d5-a2c8-45ac-9d50-4da22a20f110",
   "metadata": {},
   "outputs": [
    {
     "data": {
      "text/html": [
       "<div>\n",
       "<style scoped>\n",
       "    .dataframe tbody tr th:only-of-type {\n",
       "        vertical-align: middle;\n",
       "    }\n",
       "\n",
       "    .dataframe tbody tr th {\n",
       "        vertical-align: top;\n",
       "    }\n",
       "\n",
       "    .dataframe thead th {\n",
       "        text-align: right;\n",
       "    }\n",
       "</style>\n",
       "<table border=\"1\" class=\"dataframe\">\n",
       "  <thead>\n",
       "    <tr style=\"text-align: right;\">\n",
       "      <th></th>\n",
       "      <th>Estudiantes</th>\n",
       "      <th>Escolaridad</th>\n",
       "    </tr>\n",
       "  </thead>\n",
       "  <tbody>\n",
       "    <tr>\n",
       "      <th>Pepito</th>\n",
       "      <td>16</td>\n",
       "      <td>S</td>\n",
       "    </tr>\n",
       "    <tr>\n",
       "      <th>Maria</th>\n",
       "      <td>12</td>\n",
       "      <td>S</td>\n",
       "    </tr>\n",
       "    <tr>\n",
       "      <th>Ana</th>\n",
       "      <td>17</td>\n",
       "      <td>U</td>\n",
       "    </tr>\n",
       "  </tbody>\n",
       "</table>\n",
       "</div>"
      ],
      "text/plain": [
       "        Estudiantes Escolaridad\n",
       "Pepito           16           S\n",
       "Maria            12           S\n",
       "Ana              17           U"
      ]
     },
     "execution_count": 16,
     "metadata": {},
     "output_type": "execute_result"
    }
   ],
   "source": [
    "Estudiantes=pd.DataFrame({'Estudiantes':[16,12,17], 'Escolaridad':['S','S','U']}, index=['Pepito','Maria','Ana'])\n",
    "Estudiantes"
   ]
  },
  {
   "cell_type": "code",
   "execution_count": 17,
   "id": "43458177-08be-4be5-be6e-70f7bc93354f",
   "metadata": {},
   "outputs": [
    {
     "name": "stdout",
     "output_type": "stream",
     "text": [
      "Hola\n"
     ]
    }
   ],
   "source": [
    "Estudiantes=pd.DataFrame({'Estudiantes':[16,12,17], 'Escolaridad':['S','S','U']}, index=['Pepito','Maria','Ana'])\n",
    "Estudiantes\n",
    "print('Hola')   ## en este caso no se muestra el dataframe"
   ]
  },
  {
   "cell_type": "code",
   "execution_count": 18,
   "id": "947f536f-e9f5-440f-9312-1e26343f8eed",
   "metadata": {},
   "outputs": [
    {
     "data": {
      "text/html": [
       "<div>\n",
       "<style scoped>\n",
       "    .dataframe tbody tr th:only-of-type {\n",
       "        vertical-align: middle;\n",
       "    }\n",
       "\n",
       "    .dataframe tbody tr th {\n",
       "        vertical-align: top;\n",
       "    }\n",
       "\n",
       "    .dataframe thead th {\n",
       "        text-align: right;\n",
       "    }\n",
       "</style>\n",
       "<table border=\"1\" class=\"dataframe\">\n",
       "  <thead>\n",
       "    <tr style=\"text-align: right;\">\n",
       "      <th></th>\n",
       "      <th>Estudiantes</th>\n",
       "      <th>Escolaridad</th>\n",
       "    </tr>\n",
       "  </thead>\n",
       "  <tbody>\n",
       "    <tr>\n",
       "      <th>Pepito</th>\n",
       "      <td>16</td>\n",
       "      <td>S</td>\n",
       "    </tr>\n",
       "    <tr>\n",
       "      <th>Maria</th>\n",
       "      <td>12</td>\n",
       "      <td>S</td>\n",
       "    </tr>\n",
       "    <tr>\n",
       "      <th>Ana</th>\n",
       "      <td>17</td>\n",
       "      <td>U</td>\n",
       "    </tr>\n",
       "  </tbody>\n",
       "</table>\n",
       "</div>"
      ],
      "text/plain": [
       "        Estudiantes Escolaridad\n",
       "Pepito           16           S\n",
       "Maria            12           S\n",
       "Ana              17           U"
      ]
     },
     "metadata": {},
     "output_type": "display_data"
    },
    {
     "name": "stdout",
     "output_type": "stream",
     "text": [
      "Hola\n"
     ]
    }
   ],
   "source": [
    "Estudiantes=pd.DataFrame({'Estudiantes':[16,12,17], 'Escolaridad':['S','S','U']}, index=['Pepito','Maria','Ana'])\n",
    "display(Estudiantes)  ## con el display si se muestra el dataframe\n",
    "print('Hola')"
   ]
  },
  {
   "cell_type": "markdown",
   "id": "8b60eabe-32c7-490a-a59e-9583018b544e",
   "metadata": {},
   "source": [
    "## Funciones de DataFrame"
   ]
  },
  {
   "cell_type": "code",
   "execution_count": 19,
   "id": "ca203dd5-2e8a-4b4d-9867-1b0a65908a00",
   "metadata": {},
   "outputs": [
    {
     "data": {
      "text/plain": [
       "Estudiantes     int64\n",
       "Escolaridad    object\n",
       "dtype: object"
      ]
     },
     "execution_count": 19,
     "metadata": {},
     "output_type": "execute_result"
    }
   ],
   "source": [
    "Estudiantes.dtypes"
   ]
  },
  {
   "cell_type": "code",
   "execution_count": 20,
   "id": "5fe9e69b-0f0c-4c4f-b258-25ff79ba667a",
   "metadata": {},
   "outputs": [
    {
     "data": {
      "text/plain": [
       "Index(['Pepito', 'Maria', 'Ana'], dtype='object')"
      ]
     },
     "execution_count": 20,
     "metadata": {},
     "output_type": "execute_result"
    }
   ],
   "source": [
    "Estudiantes.index"
   ]
  },
  {
   "cell_type": "code",
   "execution_count": 22,
   "id": "600757cd-e0e4-43c3-af6f-b152472b0e2b",
   "metadata": {},
   "outputs": [
    {
     "data": {
      "text/plain": [
       "[Index(['Pepito', 'Maria', 'Ana'], dtype='object'),\n",
       " Index(['Estudiantes', 'Escolaridad'], dtype='object')]"
      ]
     },
     "execution_count": 22,
     "metadata": {},
     "output_type": "execute_result"
    }
   ],
   "source": [
    "Estudiantes.axes"
   ]
  },
  {
   "cell_type": "code",
   "execution_count": 23,
   "id": "8bc24976-945b-4c4c-abb1-304092df9ff8",
   "metadata": {},
   "outputs": [
    {
     "data": {
      "text/plain": [
       "Index(['Estudiantes', 'Escolaridad'], dtype='object')"
      ]
     },
     "execution_count": 23,
     "metadata": {},
     "output_type": "execute_result"
    }
   ],
   "source": [
    "Estudiantes.columns"
   ]
  },
  {
   "cell_type": "code",
   "execution_count": 24,
   "id": "fca393e8-9e5d-46cc-aa26-0bacd4204803",
   "metadata": {},
   "outputs": [
    {
     "data": {
      "text/plain": [
       "array([[16, 'S'],\n",
       "       [12, 'S'],\n",
       "       [17, 'U']], dtype=object)"
      ]
     },
     "execution_count": 24,
     "metadata": {},
     "output_type": "execute_result"
    }
   ],
   "source": [
    "Estudiantes.values"
   ]
  },
  {
   "cell_type": "code",
   "execution_count": null,
   "id": "9e341291-deea-44bd-abeb-9acd70ea86ca",
   "metadata": {},
   "outputs": [],
   "source": []
  }
 ],
 "metadata": {
  "kernelspec": {
   "display_name": "Python 3 (ipykernel)",
   "language": "python",
   "name": "python3"
  },
  "language_info": {
   "codemirror_mode": {
    "name": "ipython",
    "version": 3
   },
   "file_extension": ".py",
   "mimetype": "text/x-python",
   "name": "python",
   "nbconvert_exporter": "python",
   "pygments_lexer": "ipython3",
   "version": "3.13.0"
  }
 },
 "nbformat": 4,
 "nbformat_minor": 5
}
