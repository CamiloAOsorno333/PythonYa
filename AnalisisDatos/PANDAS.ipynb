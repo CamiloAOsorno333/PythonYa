{
 "cells": [
  {
   "cell_type": "markdown",
   "id": "538c7721-4604-4034-8b9c-6961bddfdf2a",
   "metadata": {},
   "source": [
    "## PANDAS"
   ]
  },
  {
   "cell_type": "code",
   "execution_count": null,
   "id": "b6dc595e-7de2-4635-8515-462db3c5d434",
   "metadata": {},
   "outputs": [],
   "source": [
    "Esta libreria sirve para almacenar de manera tomatricial datos que van a ser de diferente tipo. "
   ]
  },
  {
   "cell_type": "code",
   "execution_count": 16,
   "id": "83cd7edb-98e2-47b1-833b-64a140a9f7c0",
   "metadata": {},
   "outputs": [],
   "source": [
    "import pandas as pd\n",
    "import numpy as np\n",
    "import matplotlib.pyplot as plt\n",
    "import openpyxl"
   ]
  },
  {
   "cell_type": "markdown",
   "id": "8b3d5c2c-9b8b-4836-825a-fc1900c22935",
   "metadata": {},
   "source": [
    "## Introducción a las series de datos\n",
    "\n",
    "una serie de datos es un tipo de objeto que nos proporciona pandas "
   ]
  },
  {
   "cell_type": "code",
   "execution_count": 9,
   "id": "815f98fc-5cae-4157-82e6-741deadbec72",
   "metadata": {},
   "outputs": [
    {
     "data": {
      "text/plain": [
       "Pepito    16\n",
       "Maria     12\n",
       "Ana       17\n",
       "dtype: int64"
      ]
     },
     "execution_count": 9,
     "metadata": {},
     "output_type": "execute_result"
    }
   ],
   "source": [
    "Estudiantes=pd.Series([16,12,17], index=['Pepito','Maria','Ana'])\n",
    "Estudiantes"
   ]
  },
  {
   "cell_type": "code",
   "execution_count": 10,
   "id": "bfdc22ea-0eb8-4e1f-aea3-2c1fc3a4c84e",
   "metadata": {},
   "outputs": [
    {
     "data": {
      "text/plain": [
       "np.int64(17)"
      ]
     },
     "execution_count": 10,
     "metadata": {},
     "output_type": "execute_result"
    }
   ],
   "source": [
    "Estudiantes['Ana']"
   ]
  },
  {
   "cell_type": "code",
   "execution_count": 11,
   "id": "50d2e683-b49d-4c8c-af37-29c88f80384d",
   "metadata": {},
   "outputs": [
    {
     "data": {
      "text/plain": [
       "np.int64(16)"
      ]
     },
     "execution_count": 11,
     "metadata": {},
     "output_type": "execute_result"
    }
   ],
   "source": [
    "Estudiantes['Pepito']"
   ]
  },
  {
   "cell_type": "code",
   "execution_count": 12,
   "id": "e9059121-aaf7-433a-b259-45685a157fe8",
   "metadata": {},
   "outputs": [
    {
     "name": "stderr",
     "output_type": "stream",
     "text": [
      "C:\\Users\\Usuario\\AppData\\Local\\Temp\\ipykernel_11744\\4221754821.py:1: FutureWarning: Series.__getitem__ treating keys as positions is deprecated. In a future version, integer keys will always be treated as labels (consistent with DataFrame behavior). To access a value by position, use `ser.iloc[pos]`\n",
      "  Estudiantes[1]\n"
     ]
    },
    {
     "data": {
      "text/plain": [
       "np.int64(12)"
      ]
     },
     "execution_count": 12,
     "metadata": {},
     "output_type": "execute_result"
    }
   ],
   "source": [
    "Estudiantes[1]"
   ]
  },
  {
   "cell_type": "code",
   "execution_count": 13,
   "id": "3cc61666-797f-4192-8a01-e79ec1e34a95",
   "metadata": {},
   "outputs": [
    {
     "data": {
      "text/plain": [
       "Index(['Pepito', 'Maria', 'Ana'], dtype='object')"
      ]
     },
     "execution_count": 13,
     "metadata": {},
     "output_type": "execute_result"
    }
   ],
   "source": [
    "Estudiantes.index"
   ]
  },
  {
   "cell_type": "code",
   "execution_count": 14,
   "id": "564fcdcb-7013-485b-9610-08081a569d8d",
   "metadata": {},
   "outputs": [
    {
     "data": {
      "text/plain": [
       "array([16, 12, 17])"
      ]
     },
     "execution_count": 14,
     "metadata": {},
     "output_type": "execute_result"
    }
   ],
   "source": [
    "Estudiantes.values"
   ]
  },
  {
   "cell_type": "code",
   "execution_count": 15,
   "id": "e3e6b93f-5840-4d1e-bf5b-862f1078ddca",
   "metadata": {},
   "outputs": [
    {
     "data": {
      "text/plain": [
       "(3,)"
      ]
     },
     "execution_count": 15,
     "metadata": {},
     "output_type": "execute_result"
    }
   ],
   "source": [
    "Estudiantes.shape"
   ]
  },
  {
   "cell_type": "code",
   "execution_count": null,
   "id": "fd32030d-62bb-4d23-a2b7-23671d35066b",
   "metadata": {},
   "outputs": [],
   "source": []
  },
  {
   "cell_type": "markdown",
   "id": "7e751818-a03d-4416-8194-c43372919023",
   "metadata": {},
   "source": [
    "## Introducción a los DataFrame\n",
    "\n",
    "Son series unidas, que generan diccionarios \n",
    "\n",
    "Como buena practica los dataframe se imprimen con display(nomDataFrame)"
   ]
  },
  {
   "cell_type": "code",
   "execution_count": 16,
   "id": "4d0a36d5-a2c8-45ac-9d50-4da22a20f110",
   "metadata": {},
   "outputs": [
    {
     "data": {
      "text/html": [
       "<div>\n",
       "<style scoped>\n",
       "    .dataframe tbody tr th:only-of-type {\n",
       "        vertical-align: middle;\n",
       "    }\n",
       "\n",
       "    .dataframe tbody tr th {\n",
       "        vertical-align: top;\n",
       "    }\n",
       "\n",
       "    .dataframe thead th {\n",
       "        text-align: right;\n",
       "    }\n",
       "</style>\n",
       "<table border=\"1\" class=\"dataframe\">\n",
       "  <thead>\n",
       "    <tr style=\"text-align: right;\">\n",
       "      <th></th>\n",
       "      <th>Estudiantes</th>\n",
       "      <th>Escolaridad</th>\n",
       "    </tr>\n",
       "  </thead>\n",
       "  <tbody>\n",
       "    <tr>\n",
       "      <th>Pepito</th>\n",
       "      <td>16</td>\n",
       "      <td>S</td>\n",
       "    </tr>\n",
       "    <tr>\n",
       "      <th>Maria</th>\n",
       "      <td>12</td>\n",
       "      <td>S</td>\n",
       "    </tr>\n",
       "    <tr>\n",
       "      <th>Ana</th>\n",
       "      <td>17</td>\n",
       "      <td>U</td>\n",
       "    </tr>\n",
       "  </tbody>\n",
       "</table>\n",
       "</div>"
      ],
      "text/plain": [
       "        Estudiantes Escolaridad\n",
       "Pepito           16           S\n",
       "Maria            12           S\n",
       "Ana              17           U"
      ]
     },
     "execution_count": 16,
     "metadata": {},
     "output_type": "execute_result"
    }
   ],
   "source": [
    "Estudiantes=pd.DataFrame({'Estudiantes':[16,12,17], 'Escolaridad':['S','S','U']}, index=['Pepito','Maria','Ana'])\n",
    "Estudiantes"
   ]
  },
  {
   "cell_type": "code",
   "execution_count": 17,
   "id": "43458177-08be-4be5-be6e-70f7bc93354f",
   "metadata": {},
   "outputs": [
    {
     "name": "stdout",
     "output_type": "stream",
     "text": [
      "Hola\n"
     ]
    }
   ],
   "source": [
    "Estudiantes=pd.DataFrame({'Estudiantes':[16,12,17], 'Escolaridad':['S','S','U']}, index=['Pepito','Maria','Ana'])\n",
    "Estudiantes\n",
    "print('Hola')   ## en este caso no se muestra el dataframe"
   ]
  },
  {
   "cell_type": "code",
   "execution_count": 18,
   "id": "947f536f-e9f5-440f-9312-1e26343f8eed",
   "metadata": {},
   "outputs": [
    {
     "data": {
      "text/html": [
       "<div>\n",
       "<style scoped>\n",
       "    .dataframe tbody tr th:only-of-type {\n",
       "        vertical-align: middle;\n",
       "    }\n",
       "\n",
       "    .dataframe tbody tr th {\n",
       "        vertical-align: top;\n",
       "    }\n",
       "\n",
       "    .dataframe thead th {\n",
       "        text-align: right;\n",
       "    }\n",
       "</style>\n",
       "<table border=\"1\" class=\"dataframe\">\n",
       "  <thead>\n",
       "    <tr style=\"text-align: right;\">\n",
       "      <th></th>\n",
       "      <th>Estudiantes</th>\n",
       "      <th>Escolaridad</th>\n",
       "    </tr>\n",
       "  </thead>\n",
       "  <tbody>\n",
       "    <tr>\n",
       "      <th>Pepito</th>\n",
       "      <td>16</td>\n",
       "      <td>S</td>\n",
       "    </tr>\n",
       "    <tr>\n",
       "      <th>Maria</th>\n",
       "      <td>12</td>\n",
       "      <td>S</td>\n",
       "    </tr>\n",
       "    <tr>\n",
       "      <th>Ana</th>\n",
       "      <td>17</td>\n",
       "      <td>U</td>\n",
       "    </tr>\n",
       "  </tbody>\n",
       "</table>\n",
       "</div>"
      ],
      "text/plain": [
       "        Estudiantes Escolaridad\n",
       "Pepito           16           S\n",
       "Maria            12           S\n",
       "Ana              17           U"
      ]
     },
     "metadata": {},
     "output_type": "display_data"
    },
    {
     "name": "stdout",
     "output_type": "stream",
     "text": [
      "Hola\n"
     ]
    }
   ],
   "source": [
    "Estudiantes=pd.DataFrame({'Estudiantes':[16,12,17], 'Escolaridad':['S','S','U']}, index=['Pepito','Maria','Ana'])\n",
    "display(Estudiantes)  ## con el display si se muestra el dataframe\n",
    "print('Hola')"
   ]
  },
  {
   "cell_type": "markdown",
   "id": "8b60eabe-32c7-490a-a59e-9583018b544e",
   "metadata": {},
   "source": [
    "## Funciones de DataFrame"
   ]
  },
  {
   "cell_type": "code",
   "execution_count": 19,
   "id": "ca203dd5-2e8a-4b4d-9867-1b0a65908a00",
   "metadata": {},
   "outputs": [
    {
     "data": {
      "text/plain": [
       "Estudiantes     int64\n",
       "Escolaridad    object\n",
       "dtype: object"
      ]
     },
     "execution_count": 19,
     "metadata": {},
     "output_type": "execute_result"
    }
   ],
   "source": [
    "Estudiantes.dtypes"
   ]
  },
  {
   "cell_type": "code",
   "execution_count": 20,
   "id": "5fe9e69b-0f0c-4c4f-b258-25ff79ba667a",
   "metadata": {},
   "outputs": [
    {
     "data": {
      "text/plain": [
       "Index(['Pepito', 'Maria', 'Ana'], dtype='object')"
      ]
     },
     "execution_count": 20,
     "metadata": {},
     "output_type": "execute_result"
    }
   ],
   "source": [
    "Estudiantes.index"
   ]
  },
  {
   "cell_type": "code",
   "execution_count": 22,
   "id": "600757cd-e0e4-43c3-af6f-b152472b0e2b",
   "metadata": {},
   "outputs": [
    {
     "data": {
      "text/plain": [
       "[Index(['Pepito', 'Maria', 'Ana'], dtype='object'),\n",
       " Index(['Estudiantes', 'Escolaridad'], dtype='object')]"
      ]
     },
     "execution_count": 22,
     "metadata": {},
     "output_type": "execute_result"
    }
   ],
   "source": [
    "Estudiantes.axes"
   ]
  },
  {
   "cell_type": "code",
   "execution_count": 23,
   "id": "8bc24976-945b-4c4c-abb1-304092df9ff8",
   "metadata": {},
   "outputs": [
    {
     "data": {
      "text/plain": [
       "Index(['Estudiantes', 'Escolaridad'], dtype='object')"
      ]
     },
     "execution_count": 23,
     "metadata": {},
     "output_type": "execute_result"
    }
   ],
   "source": [
    "Estudiantes.columns"
   ]
  },
  {
   "cell_type": "code",
   "execution_count": 24,
   "id": "fca393e8-9e5d-46cc-aa26-0bacd4204803",
   "metadata": {},
   "outputs": [
    {
     "data": {
      "text/plain": [
       "array([[16, 'S'],\n",
       "       [12, 'S'],\n",
       "       [17, 'U']], dtype=object)"
      ]
     },
     "execution_count": 24,
     "metadata": {},
     "output_type": "execute_result"
    }
   ],
   "source": [
    "Estudiantes.values"
   ]
  },
  {
   "cell_type": "code",
   "execution_count": null,
   "id": "9e341291-deea-44bd-abeb-9acd70ea86ca",
   "metadata": {},
   "outputs": [],
   "source": []
  },
  {
   "cell_type": "markdown",
   "id": "08e50b39-f5f6-4956-b4e3-074dc740096b",
   "metadata": {},
   "source": [
    "# Creación de Series y DataFrames "
   ]
  },
  {
   "cell_type": "markdown",
   "id": "1b990847-fa4d-499b-88b7-462b1873c18b",
   "metadata": {},
   "source": [
    "## Series"
   ]
  },
  {
   "cell_type": "code",
   "execution_count": 3,
   "id": "9961e93a-d58e-4464-8ac2-72534df107dd",
   "metadata": {},
   "outputs": [
    {
     "data": {
      "text/plain": [
       "Felipe    14.0\n",
       "Diana     15.0\n",
       "Alejo      NaN\n",
       "dtype: float64"
      ]
     },
     "execution_count": 3,
     "metadata": {},
     "output_type": "execute_result"
    }
   ],
   "source": [
    "Estudiantes={'Felipe':14,'Diana':15}\n",
    "pd.Series(Estudiantes,index=['Felipe','Diana','Alejo'])"
   ]
  },
  {
   "cell_type": "code",
   "execution_count": 4,
   "id": "784018ed-497a-4f3e-9dae-e587341c994b",
   "metadata": {},
   "outputs": [
    {
     "data": {
      "text/plain": [
       "a    8\n",
       "b    8\n",
       "c    8\n",
       "dtype: int64"
      ]
     },
     "execution_count": 4,
     "metadata": {},
     "output_type": "execute_result"
    }
   ],
   "source": [
    "pd.Series(8,index=['a','b','c'])"
   ]
  },
  {
   "cell_type": "code",
   "execution_count": null,
   "id": "7b770cec-eca2-4d24-b169-0a6eb179dad8",
   "metadata": {},
   "outputs": [],
   "source": []
  },
  {
   "cell_type": "markdown",
   "id": "2b7dd489-9c5e-48ac-8688-7a0cc7ff6e1d",
   "metadata": {},
   "source": [
    "## DataFrames\n",
    "\n",
    "Se pueden crear a partir de arrays\n"
   ]
  },
  {
   "cell_type": "code",
   "execution_count": 5,
   "id": "bbbb5a6f-d0de-4b5a-8740-a41596814f4c",
   "metadata": {},
   "outputs": [
    {
     "name": "stdout",
     "output_type": "stream",
     "text": [
      "[[1 2]\n",
      " [4 6]]\n"
     ]
    }
   ],
   "source": [
    "A=np.array([[1,2],[4,6]])\n",
    "print(A)"
   ]
  },
  {
   "cell_type": "code",
   "execution_count": 7,
   "id": "a7131316-4c2e-441a-a405-b69465cda3b0",
   "metadata": {},
   "outputs": [
    {
     "data": {
      "text/html": [
       "<div>\n",
       "<style scoped>\n",
       "    .dataframe tbody tr th:only-of-type {\n",
       "        vertical-align: middle;\n",
       "    }\n",
       "\n",
       "    .dataframe tbody tr th {\n",
       "        vertical-align: top;\n",
       "    }\n",
       "\n",
       "    .dataframe thead th {\n",
       "        text-align: right;\n",
       "    }\n",
       "</style>\n",
       "<table border=\"1\" class=\"dataframe\">\n",
       "  <thead>\n",
       "    <tr style=\"text-align: right;\">\n",
       "      <th></th>\n",
       "      <th>col1</th>\n",
       "      <th>col2</th>\n",
       "    </tr>\n",
       "  </thead>\n",
       "  <tbody>\n",
       "    <tr>\n",
       "      <th>a</th>\n",
       "      <td>1</td>\n",
       "      <td>2</td>\n",
       "    </tr>\n",
       "    <tr>\n",
       "      <th>b</th>\n",
       "      <td>4</td>\n",
       "      <td>6</td>\n",
       "    </tr>\n",
       "  </tbody>\n",
       "</table>\n",
       "</div>"
      ],
      "text/plain": [
       "   col1  col2\n",
       "a     1     2\n",
       "b     4     6"
      ]
     },
     "execution_count": 7,
     "metadata": {},
     "output_type": "execute_result"
    }
   ],
   "source": [
    "A=np.array([[1,2],[4,6]])\n",
    "pd.DataFrame(A, index=['a','b'], columns=['col1','col2'])"
   ]
  },
  {
   "cell_type": "code",
   "execution_count": null,
   "id": "3d85fdb6-8f51-43ce-893d-3370adb1e6ed",
   "metadata": {},
   "outputs": [],
   "source": []
  },
  {
   "cell_type": "markdown",
   "id": "6f7274c7-0a1d-4aca-a4db-5f357342c2ad",
   "metadata": {},
   "source": [
    "# Impotando Datos de un Archivo "
   ]
  },
  {
   "cell_type": "markdown",
   "id": "76afca99-5fc8-4484-914f-239df783d26e",
   "metadata": {},
   "source": [
    "Por ejemplo podemos importar archivos almacenados, de diferentes tipos como xlsx (excel y planos)"
   ]
  },
  {
   "cell_type": "code",
   "execution_count": 10,
   "id": "27c56eb4-de20-4ddc-b4ce-9ca1f5381e73",
   "metadata": {},
   "outputs": [
    {
     "data": {
      "text/html": [
       "<div>\n",
       "<style scoped>\n",
       "    .dataframe tbody tr th:only-of-type {\n",
       "        vertical-align: middle;\n",
       "    }\n",
       "\n",
       "    .dataframe tbody tr th {\n",
       "        vertical-align: top;\n",
       "    }\n",
       "\n",
       "    .dataframe thead th {\n",
       "        text-align: right;\n",
       "    }\n",
       "</style>\n",
       "<table border=\"1\" class=\"dataframe\">\n",
       "  <thead>\n",
       "    <tr style=\"text-align: right;\">\n",
       "      <th></th>\n",
       "      <th>Mes</th>\n",
       "      <th>Ingreso</th>\n",
       "      <th>Gasto</th>\n",
       "    </tr>\n",
       "  </thead>\n",
       "  <tbody>\n",
       "    <tr>\n",
       "      <th>0</th>\n",
       "      <td>Enero</td>\n",
       "      <td>200</td>\n",
       "      <td>50</td>\n",
       "    </tr>\n",
       "    <tr>\n",
       "      <th>1</th>\n",
       "      <td>Febrero</td>\n",
       "      <td>300</td>\n",
       "      <td>40</td>\n",
       "    </tr>\n",
       "    <tr>\n",
       "      <th>2</th>\n",
       "      <td>Marzo</td>\n",
       "      <td>150</td>\n",
       "      <td>90</td>\n",
       "    </tr>\n",
       "  </tbody>\n",
       "</table>\n",
       "</div>"
      ],
      "text/plain": [
       "       Mes  Ingreso  Gasto\n",
       "0    Enero      200     50\n",
       "1  Febrero      300     40\n",
       "2    Marzo      150     90"
      ]
     },
     "execution_count": 10,
     "metadata": {},
     "output_type": "execute_result"
    }
   ],
   "source": [
    "df1=pd.read_excel('ejemplo.xlsx')\n",
    "df1\n",
    "## Entre los parentesis va el nombre del archivo que se va a importar"
   ]
  },
  {
   "cell_type": "code",
   "execution_count": 17,
   "id": "50e24829-10a4-4bae-ac64-63ad4790f8ad",
   "metadata": {},
   "outputs": [
    {
     "data": {
      "text/html": [
       "<div>\n",
       "<style scoped>\n",
       "    .dataframe tbody tr th:only-of-type {\n",
       "        vertical-align: middle;\n",
       "    }\n",
       "\n",
       "    .dataframe tbody tr th {\n",
       "        vertical-align: top;\n",
       "    }\n",
       "\n",
       "    .dataframe thead th {\n",
       "        text-align: right;\n",
       "    }\n",
       "</style>\n",
       "<table border=\"1\" class=\"dataframe\">\n",
       "  <thead>\n",
       "    <tr style=\"text-align: right;\">\n",
       "      <th></th>\n",
       "      <th>ID , Nombre completo,Fecha de nacimiento</th>\n",
       "    </tr>\n",
       "  </thead>\n",
       "  <tbody>\n",
       "    <tr>\n",
       "      <th>0</th>\n",
       "      <td>C0001 , Leandra Anna Malo Alba,31024</td>\n",
       "    </tr>\n",
       "    <tr>\n",
       "      <th>1</th>\n",
       "      <td>C0002 , Severo Granados Iglesia,31636</td>\n",
       "    </tr>\n",
       "    <tr>\n",
       "      <th>2</th>\n",
       "      <td>C0003 , Lucho Andreu Amat,32979</td>\n",
       "    </tr>\n",
       "    <tr>\n",
       "      <th>3</th>\n",
       "      <td>C0004 , Matías Mauricio Castillo Barrera,35401</td>\n",
       "    </tr>\n",
       "    <tr>\n",
       "      <th>4</th>\n",
       "      <td>C0005 , Mauricio Guijarro Castelló,30816</td>\n",
       "    </tr>\n",
       "    <tr>\n",
       "      <th>...</th>\n",
       "      <td>...</td>\n",
       "    </tr>\n",
       "    <tr>\n",
       "      <th>196</th>\n",
       "      <td>C0197 , Sandalio Baeza Grande,34994</td>\n",
       "    </tr>\n",
       "    <tr>\n",
       "      <th>197</th>\n",
       "      <td>C0198 , Gregorio Guerrero Palomino,30728</td>\n",
       "    </tr>\n",
       "    <tr>\n",
       "      <th>198</th>\n",
       "      <td>C0199 , Socorro de Higueras,28005</td>\n",
       "    </tr>\n",
       "    <tr>\n",
       "      <th>199</th>\n",
       "      <td>C0200 , Otilia Viana Torres,36027</td>\n",
       "    </tr>\n",
       "    <tr>\n",
       "      <th>200</th>\n",
       "      <td>C0201 , Luís Guzman Alsina,26381</td>\n",
       "    </tr>\n",
       "  </tbody>\n",
       "</table>\n",
       "<p>201 rows × 1 columns</p>\n",
       "</div>"
      ],
      "text/plain": [
       "           ID , Nombre completo,Fecha de nacimiento\n",
       "0              C0001 , Leandra Anna Malo Alba,31024\n",
       "1             C0002 , Severo Granados Iglesia,31636\n",
       "2                   C0003 , Lucho Andreu Amat,32979\n",
       "3    C0004 , Matías Mauricio Castillo Barrera,35401\n",
       "4          C0005 , Mauricio Guijarro Castelló,30816\n",
       "..                                              ...\n",
       "196             C0197 , Sandalio Baeza Grande,34994\n",
       "197        C0198 , Gregorio Guerrero Palomino,30728\n",
       "198               C0199 , Socorro de Higueras,28005\n",
       "199               C0200 , Otilia Viana Torres,36027\n",
       "200                C0201 , Luís Guzman Alsina,26381\n",
       "\n",
       "[201 rows x 1 columns]"
      ]
     },
     "execution_count": 17,
     "metadata": {},
     "output_type": "execute_result"
    }
   ],
   "source": [
    "df2=pd.read_csv('ejemploII.csv', encoding='latin-1')\n",
    "df2\n",
    "## Entre los parentesis va el nombre del archivo que se va a importar"
   ]
  },
  {
   "cell_type": "code",
   "execution_count": 18,
   "id": "f5d6be50-8527-49be-8890-ea8e46f5e060",
   "metadata": {},
   "outputs": [
    {
     "data": {
      "text/html": [
       "<div>\n",
       "<style scoped>\n",
       "    .dataframe tbody tr th:only-of-type {\n",
       "        vertical-align: middle;\n",
       "    }\n",
       "\n",
       "    .dataframe tbody tr th {\n",
       "        vertical-align: top;\n",
       "    }\n",
       "\n",
       "    .dataframe thead th {\n",
       "        text-align: right;\n",
       "    }\n",
       "</style>\n",
       "<table border=\"1\" class=\"dataframe\">\n",
       "  <thead>\n",
       "    <tr style=\"text-align: right;\">\n",
       "      <th></th>\n",
       "      <th>ID , Nombre completo,Fecha de nacimiento</th>\n",
       "    </tr>\n",
       "  </thead>\n",
       "  <tbody>\n",
       "    <tr>\n",
       "      <th>0</th>\n",
       "      <td>C0001 , Leandra Anna Malo Alba,31024</td>\n",
       "    </tr>\n",
       "    <tr>\n",
       "      <th>1</th>\n",
       "      <td>C0002 , Severo Granados Iglesia,31636</td>\n",
       "    </tr>\n",
       "    <tr>\n",
       "      <th>2</th>\n",
       "      <td>C0003 , Lucho Andreu Amat,32979</td>\n",
       "    </tr>\n",
       "    <tr>\n",
       "      <th>3</th>\n",
       "      <td>C0004 , Matías Mauricio Castillo Barrera,35401</td>\n",
       "    </tr>\n",
       "    <tr>\n",
       "      <th>4</th>\n",
       "      <td>C0005 , Mauricio Guijarro Castelló,30816</td>\n",
       "    </tr>\n",
       "  </tbody>\n",
       "</table>\n",
       "</div>"
      ],
      "text/plain": [
       "         ID , Nombre completo,Fecha de nacimiento\n",
       "0            C0001 , Leandra Anna Malo Alba,31024\n",
       "1           C0002 , Severo Granados Iglesia,31636\n",
       "2                 C0003 , Lucho Andreu Amat,32979\n",
       "3  C0004 , Matías Mauricio Castillo Barrera,35401\n",
       "4        C0005 , Mauricio Guijarro Castelló,30816"
      ]
     },
     "execution_count": 18,
     "metadata": {},
     "output_type": "execute_result"
    }
   ],
   "source": [
    "df2=pd.read_csv('ejemploII.csv', encoding='latin-1')\n",
    "df2.head()\n",
    "## Muestra las primeras 5 filas "
   ]
  },
  {
   "cell_type": "code",
   "execution_count": 19,
   "id": "5543a6f7-b52c-404d-b052-976b0460d9cd",
   "metadata": {},
   "outputs": [
    {
     "data": {
      "text/html": [
       "<div>\n",
       "<style scoped>\n",
       "    .dataframe tbody tr th:only-of-type {\n",
       "        vertical-align: middle;\n",
       "    }\n",
       "\n",
       "    .dataframe tbody tr th {\n",
       "        vertical-align: top;\n",
       "    }\n",
       "\n",
       "    .dataframe thead th {\n",
       "        text-align: right;\n",
       "    }\n",
       "</style>\n",
       "<table border=\"1\" class=\"dataframe\">\n",
       "  <thead>\n",
       "    <tr style=\"text-align: right;\">\n",
       "      <th></th>\n",
       "      <th>ID , Nombre completo,Fecha de nacimiento</th>\n",
       "    </tr>\n",
       "  </thead>\n",
       "  <tbody>\n",
       "    <tr>\n",
       "      <th>196</th>\n",
       "      <td>C0197 , Sandalio Baeza Grande,34994</td>\n",
       "    </tr>\n",
       "    <tr>\n",
       "      <th>197</th>\n",
       "      <td>C0198 , Gregorio Guerrero Palomino,30728</td>\n",
       "    </tr>\n",
       "    <tr>\n",
       "      <th>198</th>\n",
       "      <td>C0199 , Socorro de Higueras,28005</td>\n",
       "    </tr>\n",
       "    <tr>\n",
       "      <th>199</th>\n",
       "      <td>C0200 , Otilia Viana Torres,36027</td>\n",
       "    </tr>\n",
       "    <tr>\n",
       "      <th>200</th>\n",
       "      <td>C0201 , Luís Guzman Alsina,26381</td>\n",
       "    </tr>\n",
       "  </tbody>\n",
       "</table>\n",
       "</div>"
      ],
      "text/plain": [
       "     ID , Nombre completo,Fecha de nacimiento\n",
       "196       C0197 , Sandalio Baeza Grande,34994\n",
       "197  C0198 , Gregorio Guerrero Palomino,30728\n",
       "198         C0199 , Socorro de Higueras,28005\n",
       "199         C0200 , Otilia Viana Torres,36027\n",
       "200          C0201 , Luís Guzman Alsina,26381"
      ]
     },
     "execution_count": 19,
     "metadata": {},
     "output_type": "execute_result"
    }
   ],
   "source": [
    "df2=pd.read_csv('ejemploII.csv', encoding='latin-1')\n",
    "df2.tail()\n",
    "## Muestra las últimas 5 filas "
   ]
  },
  {
   "cell_type": "code",
   "execution_count": 21,
   "id": "30c0fad7-5950-4eea-95bf-5489fa834e1c",
   "metadata": {},
   "outputs": [
    {
     "data": {
      "text/html": [
       "<div>\n",
       "<style scoped>\n",
       "    .dataframe tbody tr th:only-of-type {\n",
       "        vertical-align: middle;\n",
       "    }\n",
       "\n",
       "    .dataframe tbody tr th {\n",
       "        vertical-align: top;\n",
       "    }\n",
       "\n",
       "    .dataframe thead th {\n",
       "        text-align: right;\n",
       "    }\n",
       "</style>\n",
       "<table border=\"1\" class=\"dataframe\">\n",
       "  <thead>\n",
       "    <tr style=\"text-align: right;\">\n",
       "      <th></th>\n",
       "      <th>ID , Nombre completo,Fecha de nacimiento</th>\n",
       "    </tr>\n",
       "  </thead>\n",
       "  <tbody>\n",
       "    <tr>\n",
       "      <th>196</th>\n",
       "      <td>C0197 , Sandalio Baeza Grande,34994</td>\n",
       "    </tr>\n",
       "    <tr>\n",
       "      <th>197</th>\n",
       "      <td>C0198 , Gregorio Guerrero Palomino,30728</td>\n",
       "    </tr>\n",
       "    <tr>\n",
       "      <th>198</th>\n",
       "      <td>C0199 , Socorro de Higueras,28005</td>\n",
       "    </tr>\n",
       "    <tr>\n",
       "      <th>199</th>\n",
       "      <td>C0200 , Otilia Viana Torres,36027</td>\n",
       "    </tr>\n",
       "    <tr>\n",
       "      <th>200</th>\n",
       "      <td>C0201 , Luís Guzman Alsina,26381</td>\n",
       "    </tr>\n",
       "  </tbody>\n",
       "</table>\n",
       "</div>"
      ],
      "text/plain": [
       "     ID , Nombre completo,Fecha de nacimiento\n",
       "196       C0197 , Sandalio Baeza Grande,34994\n",
       "197  C0198 , Gregorio Guerrero Palomino,30728\n",
       "198         C0199 , Socorro de Higueras,28005\n",
       "199         C0200 , Otilia Viana Torres,36027\n",
       "200          C0201 , Luís Guzman Alsina,26381"
      ]
     },
     "metadata": {},
     "output_type": "display_data"
    },
    {
     "data": {
      "text/plain": [
       "(201, 1)"
      ]
     },
     "execution_count": 21,
     "metadata": {},
     "output_type": "execute_result"
    }
   ],
   "source": [
    "df2=pd.read_csv('ejemploII.csv', encoding='latin-1')\n",
    "display(df2.tail())\n",
    "df2.shape\n",
    "## Muestra que son 201 filas y 1 columna"
   ]
  },
  {
   "cell_type": "code",
   "execution_count": 41,
   "id": "98cd2edc-9dfe-40de-93d3-8d247bb7c06a",
   "metadata": {},
   "outputs": [
    {
     "data": {
      "text/html": [
       "<div>\n",
       "<style scoped>\n",
       "    .dataframe tbody tr th:only-of-type {\n",
       "        vertical-align: middle;\n",
       "    }\n",
       "\n",
       "    .dataframe tbody tr th {\n",
       "        vertical-align: top;\n",
       "    }\n",
       "\n",
       "    .dataframe thead th {\n",
       "        text-align: right;\n",
       "    }\n",
       "</style>\n",
       "<table border=\"1\" class=\"dataframe\">\n",
       "  <thead>\n",
       "    <tr style=\"text-align: right;\">\n",
       "      <th></th>\n",
       "      <th>ID, Nombre completo, Fecha de nacimiento</th>\n",
       "    </tr>\n",
       "  </thead>\n",
       "  <tbody>\n",
       "    <tr>\n",
       "      <th>196</th>\n",
       "      <td>C0197, Sandalio Baeza Grande, 34994</td>\n",
       "    </tr>\n",
       "    <tr>\n",
       "      <th>197</th>\n",
       "      <td>C0198, Gregorio Guerrero Palomino, 30728</td>\n",
       "    </tr>\n",
       "    <tr>\n",
       "      <th>198</th>\n",
       "      <td>C0199, Socorro de Higueras, 28005</td>\n",
       "    </tr>\n",
       "    <tr>\n",
       "      <th>199</th>\n",
       "      <td>C0200, Otilia Viana Torres, 36027</td>\n",
       "    </tr>\n",
       "    <tr>\n",
       "      <th>200</th>\n",
       "      <td>C0201, Luís Guzman Alsina, 26381</td>\n",
       "    </tr>\n",
       "  </tbody>\n",
       "</table>\n",
       "</div>"
      ],
      "text/plain": [
       "     ID, Nombre completo, Fecha de nacimiento\n",
       "196       C0197, Sandalio Baeza Grande, 34994\n",
       "197  C0198, Gregorio Guerrero Palomino, 30728\n",
       "198         C0199, Socorro de Higueras, 28005\n",
       "199         C0200, Otilia Viana Torres, 36027\n",
       "200          C0201, Luís Guzman Alsina, 26381"
      ]
     },
     "execution_count": 41,
     "metadata": {},
     "output_type": "execute_result"
    }
   ],
   "source": [
    "df2=pd.read_csv('listaClientes.csv', encoding='latin-1')\n",
    "df2.tail()\n",
    "## Muestra las últimas 5 filas "
   ]
  },
  {
   "cell_type": "code",
   "execution_count": 45,
   "id": "83f7cf44-d07c-4b95-ade2-6d444ee5ff7d",
   "metadata": {},
   "outputs": [
    {
     "name": "stderr",
     "output_type": "stream",
     "text": [
      "C:\\Users\\Usuario\\AppData\\Local\\Temp\\ipykernel_9936\\3370614157.py:1: ParserWarning: Falling back to the 'python' engine because the 'c' engine does not support regex separators (separators > 1 char and different from '\\s+' are interpreted as regex); you can avoid this warning by specifying engine='python'.\n",
      "  df2=pd.read_csv('listaClientes.csv', encoding='latin-1', sep=\", \")\n"
     ]
    },
    {
     "data": {
      "text/html": [
       "<div>\n",
       "<style scoped>\n",
       "    .dataframe tbody tr th:only-of-type {\n",
       "        vertical-align: middle;\n",
       "    }\n",
       "\n",
       "    .dataframe tbody tr th {\n",
       "        vertical-align: top;\n",
       "    }\n",
       "\n",
       "    .dataframe thead th {\n",
       "        text-align: right;\n",
       "    }\n",
       "</style>\n",
       "<table border=\"1\" class=\"dataframe\">\n",
       "  <thead>\n",
       "    <tr style=\"text-align: right;\">\n",
       "      <th></th>\n",
       "      <th>\"ID</th>\n",
       "      <th>Nombre completo</th>\n",
       "      <th>Fecha de nacimiento\"</th>\n",
       "    </tr>\n",
       "  </thead>\n",
       "  <tbody>\n",
       "    <tr>\n",
       "      <th>196</th>\n",
       "      <td>\"C0197</td>\n",
       "      <td>Sandalio Baeza Grande</td>\n",
       "      <td>34994\"</td>\n",
       "    </tr>\n",
       "    <tr>\n",
       "      <th>197</th>\n",
       "      <td>\"C0198</td>\n",
       "      <td>Gregorio Guerrero Palomino</td>\n",
       "      <td>30728\"</td>\n",
       "    </tr>\n",
       "    <tr>\n",
       "      <th>198</th>\n",
       "      <td>\"C0199</td>\n",
       "      <td>Socorro de Higueras</td>\n",
       "      <td>28005\"</td>\n",
       "    </tr>\n",
       "    <tr>\n",
       "      <th>199</th>\n",
       "      <td>\"C0200</td>\n",
       "      <td>Otilia Viana Torres</td>\n",
       "      <td>36027\"</td>\n",
       "    </tr>\n",
       "    <tr>\n",
       "      <th>200</th>\n",
       "      <td>\"C0201</td>\n",
       "      <td>Luís Guzman Alsina</td>\n",
       "      <td>26381\"</td>\n",
       "    </tr>\n",
       "  </tbody>\n",
       "</table>\n",
       "</div>"
      ],
      "text/plain": [
       "        \"ID             Nombre completo Fecha de nacimiento\"\n",
       "196  \"C0197       Sandalio Baeza Grande               34994\"\n",
       "197  \"C0198  Gregorio Guerrero Palomino               30728\"\n",
       "198  \"C0199         Socorro de Higueras               28005\"\n",
       "199  \"C0200         Otilia Viana Torres               36027\"\n",
       "200  \"C0201          Luís Guzman Alsina               26381\""
      ]
     },
     "execution_count": 45,
     "metadata": {},
     "output_type": "execute_result"
    }
   ],
   "source": [
    "df2=pd.read_csv('listaClientes.csv', encoding='latin-1', sep=\", \")\n",
    "df2.tail()\n",
    "## Muestra las últimas 5 filas "
   ]
  },
  {
   "cell_type": "code",
   "execution_count": 53,
   "id": "d0900bdb-efc4-43a4-a03f-acb0c08af498",
   "metadata": {},
   "outputs": [
    {
     "name": "stderr",
     "output_type": "stream",
     "text": [
      "C:\\Users\\Usuario\\AppData\\Local\\Temp\\ipykernel_9936\\3429569494.py:1: ParserWarning: Falling back to the 'python' engine because the 'c' engine does not support regex separators (separators > 1 char and different from '\\s+' are interpreted as regex); you can avoid this warning by specifying engine='python'.\n",
      "  df2=pd.read_csv('listaClientes.csv', encoding='latin-1', sep=', ')\n"
     ]
    },
    {
     "data": {
      "text/html": [
       "<div>\n",
       "<style scoped>\n",
       "    .dataframe tbody tr th:only-of-type {\n",
       "        vertical-align: middle;\n",
       "    }\n",
       "\n",
       "    .dataframe tbody tr th {\n",
       "        vertical-align: top;\n",
       "    }\n",
       "\n",
       "    .dataframe thead th {\n",
       "        text-align: right;\n",
       "    }\n",
       "</style>\n",
       "<table border=\"1\" class=\"dataframe\">\n",
       "  <thead>\n",
       "    <tr style=\"text-align: right;\">\n",
       "      <th></th>\n",
       "      <th>\"ID</th>\n",
       "      <th>Nombre completo</th>\n",
       "      <th>Fecha de nacimiento\"</th>\n",
       "    </tr>\n",
       "  </thead>\n",
       "  <tbody>\n",
       "    <tr>\n",
       "      <th>196</th>\n",
       "      <td>\"C0197</td>\n",
       "      <td>Sandalio Baeza Grande</td>\n",
       "      <td>34994\"</td>\n",
       "    </tr>\n",
       "    <tr>\n",
       "      <th>197</th>\n",
       "      <td>\"C0198</td>\n",
       "      <td>Gregorio Guerrero Palomino</td>\n",
       "      <td>30728\"</td>\n",
       "    </tr>\n",
       "    <tr>\n",
       "      <th>198</th>\n",
       "      <td>\"C0199</td>\n",
       "      <td>Socorro de Higueras</td>\n",
       "      <td>28005\"</td>\n",
       "    </tr>\n",
       "    <tr>\n",
       "      <th>199</th>\n",
       "      <td>\"C0200</td>\n",
       "      <td>Otilia Viana Torres</td>\n",
       "      <td>36027\"</td>\n",
       "    </tr>\n",
       "    <tr>\n",
       "      <th>200</th>\n",
       "      <td>\"C0201</td>\n",
       "      <td>Luís Guzman Alsina</td>\n",
       "      <td>26381\"</td>\n",
       "    </tr>\n",
       "  </tbody>\n",
       "</table>\n",
       "</div>"
      ],
      "text/plain": [
       "        \"ID             Nombre completo Fecha de nacimiento\"\n",
       "196  \"C0197       Sandalio Baeza Grande               34994\"\n",
       "197  \"C0198  Gregorio Guerrero Palomino               30728\"\n",
       "198  \"C0199         Socorro de Higueras               28005\"\n",
       "199  \"C0200         Otilia Viana Torres               36027\"\n",
       "200  \"C0201          Luís Guzman Alsina               26381\""
      ]
     },
     "execution_count": 53,
     "metadata": {},
     "output_type": "execute_result"
    }
   ],
   "source": [
    "df2=pd.read_csv('listaClientes.csv', encoding='latin-1', sep=', ')\n",
    "df2.tail()\n",
    "## Muestra las últimas 5 filas "
   ]
  },
  {
   "cell_type": "code",
   "execution_count": 55,
   "id": "056331e6-2305-4067-b3b3-4fe15b18e38a",
   "metadata": {},
   "outputs": [
    {
     "name": "stderr",
     "output_type": "stream",
     "text": [
      "C:\\Users\\Usuario\\AppData\\Local\\Temp\\ipykernel_9936\\2831050729.py:1: ParserWarning: Falling back to the 'python' engine because the 'c' engine does not support regex separators (separators > 1 char and different from '\\s+' are interpreted as regex); you can avoid this warning by specifying engine='python'.\n",
      "  df2=pd.read_csv('listaClientes.csv', encoding='latin-1', sep=\", \")\n"
     ]
    },
    {
     "data": {
      "text/plain": [
       "(201, 3)"
      ]
     },
     "execution_count": 55,
     "metadata": {},
     "output_type": "execute_result"
    }
   ],
   "source": [
    "df2=pd.read_csv('listaClientes.csv', encoding='latin-1', sep=\", \")\n",
    "df2.tail()\n",
    "df2.shape\n",
    "## Muestra las últimas 5 filas "
   ]
  },
  {
   "cell_type": "markdown",
   "id": "56422c88-e641-4e1d-8c4f-768a263bc408",
   "metadata": {},
   "source": [
    "## Inspeccionando un DataFrame\n"
   ]
  },
  {
   "cell_type": "code",
   "execution_count": 56,
   "id": "02d5c9a6-c391-40ba-a3bb-81f46f693257",
   "metadata": {},
   "outputs": [
    {
     "data": {
      "text/html": [
       "<div>\n",
       "<style scoped>\n",
       "    .dataframe tbody tr th:only-of-type {\n",
       "        vertical-align: middle;\n",
       "    }\n",
       "\n",
       "    .dataframe tbody tr th {\n",
       "        vertical-align: top;\n",
       "    }\n",
       "\n",
       "    .dataframe thead th {\n",
       "        text-align: right;\n",
       "    }\n",
       "</style>\n",
       "<table border=\"1\" class=\"dataframe\">\n",
       "  <thead>\n",
       "    <tr style=\"text-align: right;\">\n",
       "      <th></th>\n",
       "      <th>ID , Nombre completo,Fecha de nacimiento</th>\n",
       "    </tr>\n",
       "  </thead>\n",
       "  <tbody>\n",
       "    <tr>\n",
       "      <th>0</th>\n",
       "      <td>C0001 , Leandra Anna Malo Alba,31024</td>\n",
       "    </tr>\n",
       "    <tr>\n",
       "      <th>1</th>\n",
       "      <td>C0002 , Severo Granados Iglesia,31636</td>\n",
       "    </tr>\n",
       "    <tr>\n",
       "      <th>2</th>\n",
       "      <td>C0003 , Lucho Andreu Amat,32979</td>\n",
       "    </tr>\n",
       "  </tbody>\n",
       "</table>\n",
       "</div>"
      ],
      "text/plain": [
       "  ID , Nombre completo,Fecha de nacimiento\n",
       "0     C0001 , Leandra Anna Malo Alba,31024\n",
       "1    C0002 , Severo Granados Iglesia,31636\n",
       "2          C0003 , Lucho Andreu Amat,32979"
      ]
     },
     "execution_count": 56,
     "metadata": {},
     "output_type": "execute_result"
    }
   ],
   "source": [
    "df2=pd.read_csv('ejemploII.csv', encoding='latin-1')\n",
    "df2.head(3)\n",
    "## Muestra las primeras 5 filas "
   ]
  },
  {
   "cell_type": "code",
   "execution_count": 57,
   "id": "82e8dc7b-312e-4559-ac49-eb14293590a0",
   "metadata": {},
   "outputs": [
    {
     "data": {
      "text/html": [
       "<div>\n",
       "<style scoped>\n",
       "    .dataframe tbody tr th:only-of-type {\n",
       "        vertical-align: middle;\n",
       "    }\n",
       "\n",
       "    .dataframe tbody tr th {\n",
       "        vertical-align: top;\n",
       "    }\n",
       "\n",
       "    .dataframe thead th {\n",
       "        text-align: right;\n",
       "    }\n",
       "</style>\n",
       "<table border=\"1\" class=\"dataframe\">\n",
       "  <thead>\n",
       "    <tr style=\"text-align: right;\">\n",
       "      <th></th>\n",
       "      <th>ID , Nombre completo,Fecha de nacimiento</th>\n",
       "    </tr>\n",
       "  </thead>\n",
       "  <tbody>\n",
       "    <tr>\n",
       "      <th>110</th>\n",
       "      <td>C0111 , Samanta Casandra Borrell Maestre,25591</td>\n",
       "    </tr>\n",
       "  </tbody>\n",
       "</table>\n",
       "</div>"
      ],
      "text/plain": [
       "           ID , Nombre completo,Fecha de nacimiento\n",
       "110  C0111 , Samanta Casandra Borrell Maestre,25591"
      ]
     },
     "execution_count": 57,
     "metadata": {},
     "output_type": "execute_result"
    }
   ],
   "source": [
    "df2=pd.read_csv('ejemploII.csv', encoding='latin-1')\n",
    "df2.sample()\n",
    "## Muestra las primeras 5 filas "
   ]
  },
  {
   "cell_type": "code",
   "execution_count": 58,
   "id": "31661652-40e1-43a6-886b-132cdc00092a",
   "metadata": {},
   "outputs": [
    {
     "data": {
      "text/html": [
       "<div>\n",
       "<style scoped>\n",
       "    .dataframe tbody tr th:only-of-type {\n",
       "        vertical-align: middle;\n",
       "    }\n",
       "\n",
       "    .dataframe tbody tr th {\n",
       "        vertical-align: top;\n",
       "    }\n",
       "\n",
       "    .dataframe thead th {\n",
       "        text-align: right;\n",
       "    }\n",
       "</style>\n",
       "<table border=\"1\" class=\"dataframe\">\n",
       "  <thead>\n",
       "    <tr style=\"text-align: right;\">\n",
       "      <th></th>\n",
       "      <th>ID , Nombre completo,Fecha de nacimiento</th>\n",
       "    </tr>\n",
       "  </thead>\n",
       "  <tbody>\n",
       "    <tr>\n",
       "      <th>140</th>\n",
       "      <td>C0141 , Óscar Dominguez Mayol,27018</td>\n",
       "    </tr>\n",
       "    <tr>\n",
       "      <th>103</th>\n",
       "      <td>C0104 , Ruben Marquez Belda,29851</td>\n",
       "    </tr>\n",
       "    <tr>\n",
       "      <th>123</th>\n",
       "      <td>C0124 , Marcia Tomas,35017</td>\n",
       "    </tr>\n",
       "    <tr>\n",
       "      <th>191</th>\n",
       "      <td>C0192 , Trinidad Salas Gimenez,27517</td>\n",
       "    </tr>\n",
       "    <tr>\n",
       "      <th>195</th>\n",
       "      <td>C0196 , Emelina Melisa Palau Seco,35916</td>\n",
       "    </tr>\n",
       "    <tr>\n",
       "      <th>93</th>\n",
       "      <td>C0094 , Primitivo Jaén Garcés,34743</td>\n",
       "    </tr>\n",
       "  </tbody>\n",
       "</table>\n",
       "</div>"
      ],
      "text/plain": [
       "    ID , Nombre completo,Fecha de nacimiento\n",
       "140      C0141 , Óscar Dominguez Mayol,27018\n",
       "103        C0104 , Ruben Marquez Belda,29851\n",
       "123               C0124 , Marcia Tomas,35017\n",
       "191     C0192 , Trinidad Salas Gimenez,27517\n",
       "195  C0196 , Emelina Melisa Palau Seco,35916\n",
       "93       C0094 , Primitivo Jaén Garcés,34743"
      ]
     },
     "execution_count": 58,
     "metadata": {},
     "output_type": "execute_result"
    }
   ],
   "source": [
    "df2=pd.read_csv('ejemploII.csv', encoding='latin-1')\n",
    "df2.sample(6)\n",
    "## Muestra las primeras 5 filas "
   ]
  },
  {
   "cell_type": "code",
   "execution_count": 59,
   "id": "a7bb7af0-d920-43c6-b08e-c3eda5052215",
   "metadata": {},
   "outputs": [
    {
     "data": {
      "text/html": [
       "<div>\n",
       "<style scoped>\n",
       "    .dataframe tbody tr th:only-of-type {\n",
       "        vertical-align: middle;\n",
       "    }\n",
       "\n",
       "    .dataframe tbody tr th {\n",
       "        vertical-align: top;\n",
       "    }\n",
       "\n",
       "    .dataframe thead th {\n",
       "        text-align: right;\n",
       "    }\n",
       "</style>\n",
       "<table border=\"1\" class=\"dataframe\">\n",
       "  <thead>\n",
       "    <tr style=\"text-align: right;\">\n",
       "      <th></th>\n",
       "      <th>ID , Nombre completo,Fecha de nacimiento</th>\n",
       "    </tr>\n",
       "  </thead>\n",
       "  <tbody>\n",
       "    <tr>\n",
       "      <th>count</th>\n",
       "      <td>201</td>\n",
       "    </tr>\n",
       "    <tr>\n",
       "      <th>unique</th>\n",
       "      <td>201</td>\n",
       "    </tr>\n",
       "    <tr>\n",
       "      <th>top</th>\n",
       "      <td>C0001 , Leandra Anna Malo Alba,31024</td>\n",
       "    </tr>\n",
       "    <tr>\n",
       "      <th>freq</th>\n",
       "      <td>1</td>\n",
       "    </tr>\n",
       "  </tbody>\n",
       "</table>\n",
       "</div>"
      ],
      "text/plain": [
       "       ID , Nombre completo,Fecha de nacimiento\n",
       "count                                       201\n",
       "unique                                      201\n",
       "top        C0001 , Leandra Anna Malo Alba,31024\n",
       "freq                                          1"
      ]
     },
     "execution_count": 59,
     "metadata": {},
     "output_type": "execute_result"
    }
   ],
   "source": [
    "df2=pd.read_csv('ejemploII.csv', encoding='latin-1')\n",
    "df2.describe()\n",
    "## Muestra las primeras 5 filas "
   ]
  },
  {
   "cell_type": "code",
   "execution_count": 60,
   "id": "24aa4805-9831-4259-a03e-1d7de0519bc8",
   "metadata": {},
   "outputs": [
    {
     "name": "stdout",
     "output_type": "stream",
     "text": [
      "<class 'pandas.core.frame.DataFrame'>\n",
      "RangeIndex: 201 entries, 0 to 200\n",
      "Data columns (total 1 columns):\n",
      " #   Column                                    Non-Null Count  Dtype \n",
      "---  ------                                    --------------  ----- \n",
      " 0   ID , Nombre completo,Fecha de nacimiento  201 non-null    object\n",
      "dtypes: object(1)\n",
      "memory usage: 1.7+ KB\n"
     ]
    }
   ],
   "source": [
    "df2=pd.read_csv('ejemploII.csv', encoding='latin-1')\n",
    "df2.info()\n",
    "## Muestra la información del dataframe con el que estamos trabajando  "
   ]
  },
  {
   "cell_type": "code",
   "execution_count": null,
   "id": "f5dda133-e006-4f3e-b1e9-3c73aeabfbb4",
   "metadata": {},
   "outputs": [],
   "source": []
  },
  {
   "cell_type": "markdown",
   "id": "c4e20e92-c783-4560-994b-540db1a3e195",
   "metadata": {},
   "source": [
    "## Accediendo a Datos"
   ]
  },
  {
   "cell_type": "code",
   "execution_count": 73,
   "id": "8e3f0018-e387-4343-b3f7-1da8aa89eb8f",
   "metadata": {},
   "outputs": [
    {
     "data": {
      "text/html": [
       "<div>\n",
       "<style scoped>\n",
       "    .dataframe tbody tr th:only-of-type {\n",
       "        vertical-align: middle;\n",
       "    }\n",
       "\n",
       "    .dataframe tbody tr th {\n",
       "        vertical-align: top;\n",
       "    }\n",
       "\n",
       "    .dataframe thead th {\n",
       "        text-align: right;\n",
       "    }\n",
       "</style>\n",
       "<table border=\"1\" class=\"dataframe\">\n",
       "  <thead>\n",
       "    <tr style=\"text-align: right;\">\n",
       "      <th></th>\n",
       "      <th>ID</th>\n",
       "      <th>Nombre completo</th>\n",
       "      <th>Fecha de nacimiento</th>\n",
       "    </tr>\n",
       "  </thead>\n",
       "  <tbody>\n",
       "    <tr>\n",
       "      <th>0</th>\n",
       "      <td>C0001</td>\n",
       "      <td>Leandra Anna Malo Alba</td>\n",
       "      <td>31024</td>\n",
       "    </tr>\n",
       "    <tr>\n",
       "      <th>1</th>\n",
       "      <td>C0002</td>\n",
       "      <td>Severo Granados Iglesia</td>\n",
       "      <td>31636</td>\n",
       "    </tr>\n",
       "    <tr>\n",
       "      <th>2</th>\n",
       "      <td>C0003</td>\n",
       "      <td>Lucho Andreu Amat</td>\n",
       "      <td>32979</td>\n",
       "    </tr>\n",
       "    <tr>\n",
       "      <th>3</th>\n",
       "      <td>C0004</td>\n",
       "      <td>MatÃ­as Mauricio Castillo Barrera</td>\n",
       "      <td>35401</td>\n",
       "    </tr>\n",
       "    <tr>\n",
       "      <th>4</th>\n",
       "      <td>C0005</td>\n",
       "      <td>Mauricio Guijarro CastellÃ³</td>\n",
       "      <td>30816</td>\n",
       "    </tr>\n",
       "  </tbody>\n",
       "</table>\n",
       "</div>"
      ],
      "text/plain": [
       "      ID                    Nombre completo  Fecha de nacimiento\n",
       "0  C0001             Leandra Anna Malo Alba                31024\n",
       "1  C0002            Severo Granados Iglesia                31636\n",
       "2  C0003                  Lucho Andreu Amat                32979\n",
       "3  C0004  MatÃ­as Mauricio Castillo Barrera                35401\n",
       "4  C0005        Mauricio Guijarro CastellÃ³                30816"
      ]
     },
     "metadata": {},
     "output_type": "display_data"
    }
   ],
   "source": [
    "df3=pd.read_csv('ejemploII.csv', encoding='latin-1', sep=\"/\")\n",
    "##df3.set_index('ID ')\n",
    "display(df3.head())## Muestra el ID como indices"
   ]
  },
  {
   "cell_type": "code",
   "execution_count": 75,
   "id": "8d75a803-4c1a-4c1a-864e-238c60b18c4e",
   "metadata": {},
   "outputs": [
    {
     "data": {
      "text/html": [
       "<div>\n",
       "<style scoped>\n",
       "    .dataframe tbody tr th:only-of-type {\n",
       "        vertical-align: middle;\n",
       "    }\n",
       "\n",
       "    .dataframe tbody tr th {\n",
       "        vertical-align: top;\n",
       "    }\n",
       "\n",
       "    .dataframe thead th {\n",
       "        text-align: right;\n",
       "    }\n",
       "</style>\n",
       "<table border=\"1\" class=\"dataframe\">\n",
       "  <thead>\n",
       "    <tr style=\"text-align: right;\">\n",
       "      <th></th>\n",
       "      <th>Nombre completo</th>\n",
       "      <th>Fecha de nacimiento</th>\n",
       "    </tr>\n",
       "    <tr>\n",
       "      <th>ID</th>\n",
       "      <th></th>\n",
       "      <th></th>\n",
       "    </tr>\n",
       "  </thead>\n",
       "  <tbody>\n",
       "    <tr>\n",
       "      <th>C0001</th>\n",
       "      <td>Leandra Anna Malo Alba</td>\n",
       "      <td>31024</td>\n",
       "    </tr>\n",
       "    <tr>\n",
       "      <th>C0002</th>\n",
       "      <td>Severo Granados Iglesia</td>\n",
       "      <td>31636</td>\n",
       "    </tr>\n",
       "    <tr>\n",
       "      <th>C0003</th>\n",
       "      <td>Lucho Andreu Amat</td>\n",
       "      <td>32979</td>\n",
       "    </tr>\n",
       "    <tr>\n",
       "      <th>C0004</th>\n",
       "      <td>MatÃ­as Mauricio Castillo Barrera</td>\n",
       "      <td>35401</td>\n",
       "    </tr>\n",
       "    <tr>\n",
       "      <th>C0005</th>\n",
       "      <td>Mauricio Guijarro CastellÃ³</td>\n",
       "      <td>30816</td>\n",
       "    </tr>\n",
       "  </tbody>\n",
       "</table>\n",
       "</div>"
      ],
      "text/plain": [
       "                         Nombre completo  Fecha de nacimiento\n",
       "ID                                                           \n",
       "C0001             Leandra Anna Malo Alba                31024\n",
       "C0002            Severo Granados Iglesia                31636\n",
       "C0003                  Lucho Andreu Amat                32979\n",
       "C0004  MatÃ­as Mauricio Castillo Barrera                35401\n",
       "C0005        Mauricio Guijarro CastellÃ³                30816"
      ]
     },
     "metadata": {},
     "output_type": "display_data"
    }
   ],
   "source": [
    "df3=pd.read_csv('ejemploII.csv', encoding='latin-1', sep=\"/\")\n",
    "df3.set_index('ID', inplace=True)\n",
    "display(df3.head())## Muestra el ID como indices y ojo con el INPLACE= TRUE"
   ]
  },
  {
   "cell_type": "code",
   "execution_count": 78,
   "id": "f44cd861-0dd0-4ab7-9bfa-57835d4245e1",
   "metadata": {},
   "outputs": [
    {
     "data": {
      "text/plain": [
       "ID\n",
       "C0001               Leandra Anna Malo Alba\n",
       "C0002              Severo Granados Iglesia\n",
       "C0003                    Lucho Andreu Amat\n",
       "C0004    MatÃ­as Mauricio Castillo Barrera\n",
       "C0005          Mauricio Guijarro CastellÃ³\n",
       "C0006          Isaura Leyre AvilÃ©s Pelayo\n",
       "C0007                   Soraya Morera-Lago\n",
       "C0008          Victoriano Tapia-Cabanillas\n",
       "C0009                    Nidia Saez Campoy\n",
       "C0010           TeÃ³fila Villanueva Molina\n",
       "C0011                     Trini de Alberdi\n",
       "C0012                           Dani Baena\n",
       "C0013                  Angelina de Arregui\n",
       "C0014                   Samuel de Carranza\n",
       "C0015           Jacinta Montenegro GarcÃ©s\n",
       "C0016               Lisandro Delgado Nadal\n",
       "C0017                Samanta ManjÃ³n Godoy\n",
       "C0018         Albano Teodosio CaÃ±ete Rosa\n",
       "C0019                      Abel Villanueva\n",
       "C0020             Bienvenida Pulido CÃ³zar\n",
       "Name: Nombre completo, dtype: object"
      ]
     },
     "execution_count": 78,
     "metadata": {},
     "output_type": "execute_result"
    }
   ],
   "source": [
    "df3['Nombre completo'].head(20)\n",
    "##Nos sirve para delimitar un dato dentro del dataFrame\n"
   ]
  },
  {
   "cell_type": "code",
   "execution_count": 80,
   "id": "1007fae0-3d43-414c-a954-bcc825cf2b88",
   "metadata": {},
   "outputs": [
    {
     "data": {
      "text/plain": [
       "ID\n",
       "C0001    31024\n",
       "C0002    31636\n",
       "C0003    32979\n",
       "C0004    35401\n",
       "C0005    30816\n",
       "C0006    31885\n",
       "C0007    33204\n",
       "C0008    29651\n",
       "C0009    29339\n",
       "C0010    31781\n",
       "C0011    33211\n",
       "C0012    28418\n",
       "C0013    36577\n",
       "C0014    36296\n",
       "C0015    34406\n",
       "C0016    29329\n",
       "C0017    29283\n",
       "C0018    29680\n",
       "C0019    32306\n",
       "C0020    34355\n",
       "Name: Fecha de nacimiento, dtype: int64"
      ]
     },
     "execution_count": 80,
     "metadata": {},
     "output_type": "execute_result"
    }
   ],
   "source": [
    "df3['Fecha de nacimiento'].head(20)\n",
    "##Nos sirve para delimitar un dato dentro del dataFrame\n"
   ]
  },
  {
   "cell_type": "code",
   "execution_count": 81,
   "id": "2b33af78-e06c-4e91-90db-b9d57d78f605",
   "metadata": {},
   "outputs": [
    {
     "data": {
      "text/plain": [
       "Nombre completo        Leandra Anna Malo Alba\n",
       "Fecha de nacimiento                     31024\n",
       "Name: C0001, dtype: object"
      ]
     },
     "execution_count": 81,
     "metadata": {},
     "output_type": "execute_result"
    }
   ],
   "source": [
    "df3.loc['C0001']\n",
    "## Es para traer una fila en particular"
   ]
  },
  {
   "cell_type": "code",
   "execution_count": 82,
   "id": "213c9103-5259-4929-87ef-e4a2bf88cdc2",
   "metadata": {},
   "outputs": [
    {
     "data": {
      "text/plain": [
       "Nombre completo        Natalio Pereira Barrio\n",
       "Fecha de nacimiento                     25830\n",
       "Name: C0035, dtype: object"
      ]
     },
     "execution_count": 82,
     "metadata": {},
     "output_type": "execute_result"
    }
   ],
   "source": [
    "df3.iloc[34]\n",
    "## Es para traer una fila en particular por su número"
   ]
  },
  {
   "cell_type": "code",
   "execution_count": null,
   "id": "8b66f345-d815-4b2c-ba3e-4d41a420f903",
   "metadata": {},
   "outputs": [],
   "source": []
  }
 ],
 "metadata": {
  "kernelspec": {
   "display_name": "Python 3 (ipykernel)",
   "language": "python",
   "name": "python3"
  },
  "language_info": {
   "codemirror_mode": {
    "name": "ipython",
    "version": 3
   },
   "file_extension": ".py",
   "mimetype": "text/x-python",
   "name": "python",
   "nbconvert_exporter": "python",
   "pygments_lexer": "ipython3",
   "version": "3.13.0"
  }
 },
 "nbformat": 4,
 "nbformat_minor": 5
}
